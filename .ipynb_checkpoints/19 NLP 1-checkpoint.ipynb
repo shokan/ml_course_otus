{
 "cells": [
  {
   "cell_type": "code",
   "execution_count": 1,
   "metadata": {
    "ExecuteTime": {
     "end_time": "2020-05-26T09:47:44.609851Z",
     "start_time": "2020-05-26T09:47:42.433975Z"
    }
   },
   "outputs": [],
   "source": [
    "import warnings\n",
    "warnings.filterwarnings('ignore')\n",
    "import numpy as np\n",
    "import pandas as pd\n",
    "import json\n",
    "\n",
    "from sklearn.preprocessing import LabelEncoder\n",
    "import seaborn as sns\n",
    "\n",
    "import seaborn as sn\n",
    "from pylab import rcParams      \n",
    "rcParams['figure.figsize'] = 8, 8\n",
    "import seaborn as sns\n",
    "import matplotlib.pyplot as plt\n",
    "plt.style.use(\"ggplot\")\n",
    "%matplotlib inline"
   ]
  },
  {
   "cell_type": "code",
   "execution_count": 3,
   "metadata": {
    "ExecuteTime": {
     "end_time": "2020-05-26T09:49:32.143024Z",
     "start_time": "2020-05-26T09:49:31.526151Z"
    }
   },
   "outputs": [
    {
     "data": {
      "text/plain": [
       "(50000, 2)"
      ]
     },
     "execution_count": 3,
     "metadata": {},
     "output_type": "execute_result"
    }
   ],
   "source": [
    "data = pd.read_csv(\"datasets/19/IMDB Dataset.csv\")\n",
    "data.shape"
   ]
  },
  {
   "cell_type": "markdown",
   "metadata": {},
   "source": [
    "# Express EDA"
   ]
  },
  {
   "cell_type": "code",
   "execution_count": 4,
   "metadata": {
    "ExecuteTime": {
     "end_time": "2020-05-26T09:49:46.906909Z",
     "start_time": "2020-05-26T09:49:46.895262Z"
    }
   },
   "outputs": [
    {
     "data": {
      "text/html": [
       "<div>\n",
       "<style scoped>\n",
       "    .dataframe tbody tr th:only-of-type {\n",
       "        vertical-align: middle;\n",
       "    }\n",
       "\n",
       "    .dataframe tbody tr th {\n",
       "        vertical-align: top;\n",
       "    }\n",
       "\n",
       "    .dataframe thead th {\n",
       "        text-align: right;\n",
       "    }\n",
       "</style>\n",
       "<table border=\"1\" class=\"dataframe\">\n",
       "  <thead>\n",
       "    <tr style=\"text-align: right;\">\n",
       "      <th></th>\n",
       "      <th>review</th>\n",
       "      <th>sentiment</th>\n",
       "    </tr>\n",
       "  </thead>\n",
       "  <tbody>\n",
       "    <tr>\n",
       "      <th>0</th>\n",
       "      <td>One of the other reviewers has mentioned that ...</td>\n",
       "      <td>positive</td>\n",
       "    </tr>\n",
       "    <tr>\n",
       "      <th>1</th>\n",
       "      <td>A wonderful little production. &lt;br /&gt;&lt;br /&gt;The...</td>\n",
       "      <td>positive</td>\n",
       "    </tr>\n",
       "    <tr>\n",
       "      <th>2</th>\n",
       "      <td>I thought this was a wonderful way to spend ti...</td>\n",
       "      <td>positive</td>\n",
       "    </tr>\n",
       "    <tr>\n",
       "      <th>3</th>\n",
       "      <td>Basically there's a family where a little boy ...</td>\n",
       "      <td>negative</td>\n",
       "    </tr>\n",
       "    <tr>\n",
       "      <th>4</th>\n",
       "      <td>Petter Mattei's \"Love in the Time of Money\" is...</td>\n",
       "      <td>positive</td>\n",
       "    </tr>\n",
       "  </tbody>\n",
       "</table>\n",
       "</div>"
      ],
      "text/plain": [
       "                                              review sentiment\n",
       "0  One of the other reviewers has mentioned that ...  positive\n",
       "1  A wonderful little production. <br /><br />The...  positive\n",
       "2  I thought this was a wonderful way to spend ti...  positive\n",
       "3  Basically there's a family where a little boy ...  negative\n",
       "4  Petter Mattei's \"Love in the Time of Money\" is...  positive"
      ]
     },
     "execution_count": 4,
     "metadata": {},
     "output_type": "execute_result"
    }
   ],
   "source": [
    "data.head()"
   ]
  },
  {
   "cell_type": "code",
   "execution_count": 5,
   "metadata": {
    "ExecuteTime": {
     "end_time": "2020-05-26T09:49:53.937290Z",
     "start_time": "2020-05-26T09:49:53.920376Z"
    }
   },
   "outputs": [
    {
     "data": {
      "text/html": [
       "<div>\n",
       "<style scoped>\n",
       "    .dataframe tbody tr th:only-of-type {\n",
       "        vertical-align: middle;\n",
       "    }\n",
       "\n",
       "    .dataframe tbody tr th {\n",
       "        vertical-align: top;\n",
       "    }\n",
       "\n",
       "    .dataframe thead th {\n",
       "        text-align: right;\n",
       "    }\n",
       "</style>\n",
       "<table border=\"1\" class=\"dataframe\">\n",
       "  <thead>\n",
       "    <tr style=\"text-align: right;\">\n",
       "      <th></th>\n",
       "      <th>review</th>\n",
       "      <th>sentiment</th>\n",
       "    </tr>\n",
       "  </thead>\n",
       "  <tbody>\n",
       "    <tr>\n",
       "      <th>49995</th>\n",
       "      <td>I thought this movie did a down right good job...</td>\n",
       "      <td>positive</td>\n",
       "    </tr>\n",
       "    <tr>\n",
       "      <th>49996</th>\n",
       "      <td>Bad plot, bad dialogue, bad acting, idiotic di...</td>\n",
       "      <td>negative</td>\n",
       "    </tr>\n",
       "    <tr>\n",
       "      <th>49997</th>\n",
       "      <td>I am a Catholic taught in parochial elementary...</td>\n",
       "      <td>negative</td>\n",
       "    </tr>\n",
       "    <tr>\n",
       "      <th>49998</th>\n",
       "      <td>I'm going to have to disagree with the previou...</td>\n",
       "      <td>negative</td>\n",
       "    </tr>\n",
       "    <tr>\n",
       "      <th>49999</th>\n",
       "      <td>No one expects the Star Trek movies to be high...</td>\n",
       "      <td>negative</td>\n",
       "    </tr>\n",
       "  </tbody>\n",
       "</table>\n",
       "</div>"
      ],
      "text/plain": [
       "                                                  review sentiment\n",
       "49995  I thought this movie did a down right good job...  positive\n",
       "49996  Bad plot, bad dialogue, bad acting, idiotic di...  negative\n",
       "49997  I am a Catholic taught in parochial elementary...  negative\n",
       "49998  I'm going to have to disagree with the previou...  negative\n",
       "49999  No one expects the Star Trek movies to be high...  negative"
      ]
     },
     "execution_count": 5,
     "metadata": {},
     "output_type": "execute_result"
    }
   ],
   "source": [
    "data.tail()"
   ]
  },
  {
   "cell_type": "code",
   "execution_count": 6,
   "metadata": {
    "ExecuteTime": {
     "end_time": "2020-05-26T09:50:00.872246Z",
     "start_time": "2020-05-26T09:50:00.858961Z"
    }
   },
   "outputs": [
    {
     "data": {
      "text/plain": [
       "negative    25000\n",
       "positive    25000\n",
       "Name: sentiment, dtype: int64"
      ]
     },
     "execution_count": 6,
     "metadata": {},
     "output_type": "execute_result"
    }
   ],
   "source": [
    "# Распределение классов\n",
    "data.sentiment.value_counts()"
   ]
  },
  {
   "cell_type": "code",
   "execution_count": 7,
   "metadata": {
    "ExecuteTime": {
     "end_time": "2020-05-26T09:50:10.871806Z",
     "start_time": "2020-05-26T09:50:06.090888Z"
    }
   },
   "outputs": [
    {
     "data": {
      "image/png": "[encoded data removed]",
      "text/plain": [
       "<Figure size 1080x360 with 1 Axes>"
      ]
     },
     "metadata": {
      "needs_background": "light"
     },
     "output_type": "display_data"
    }
   ],
   "source": [
    "# Добавляем признак, количество символов в одной комментарии \n",
    "\n",
    "text_size = []\n",
    "for i, r in data.iterrows():\n",
    "    text_size.append(len(r[\"review\"]))\n",
    "\n",
    "    \n",
    "data[\"text_size\"] =  text_size       \n",
    "\n",
    "plt.figure(figsize=(15,5))\n",
    "data.text_size.hist(bins=101)\n",
    "plt.show()"
   ]
  },
  {
   "cell_type": "code",
   "execution_count": 8,
   "metadata": {
    "ExecuteTime": {
     "end_time": "2020-05-26T09:50:13.823721Z",
     "start_time": "2020-05-26T09:50:13.811708Z"
    }
   },
   "outputs": [
    {
     "data": {
      "text/plain": [
       "array(['Warning: Does contain spoilers.<br /><br />Open Your Eyes<br /><br />If you have not seen this film and plan on doing so, just stop reading here and take my word for it. You have to see this film. I have seen it four times so far and I still haven\\'t made up my mind as to what exactly happened in the film. That is all I am going to say because if you have not seen this film, then stop reading right now.<br /><br />If you are still reading then I am going to pose some questions to you and maybe if anyone has any answers you can email me and let me know what you think.<br /><br />I remember my Grade 11 English teacher quite well. His name was Mr. Krisak. To me, he was wise beyond his years and he always had this circuitous way of teaching you things that perhaps you weren\\'t all too keen on. If we didn\\'t like Shakespeare, then he turned the story into a modern day romance with modern day language so we could understand it. Our class room was never a room, it was a cottage and we were on the lake reading a book at our own leisure time. This was his own indelible way of branding something into our sponge-like minds. <br /><br />I begin this review of Vanilla Sky with a description of this brilliant man because he once gave us an assignment that has been firmly etched in my mind, like the phone number of a long lost best friend, and it finally made some sense to me after watching The Matrix. Now if I didn\\'t know better, I would have thought that the Wachowski brothers were really just an alias for my teacher Mr. Krisak. But giving them the benefit of the doubt, we\\'ll assume it wasn\\'t him. But that was the first time this assignment was anything more than impalpable. <br /><br />He had asked us to prove to him and to ourselves that were real. Show me how you can tell that you are real. This got the class spouting off all of the usual ideas that I\\'m sure you can imagine. Everything from pain, to sense of touch to sense of loss to sense of hunger were spouted off to our teacher to prove to him that we were real. After every scenario that we gave him, he would come back with the one answer that would leave us speechless.<br /><br />\"What if you are nothing but someone else\\'s dream?\"<br /><br />What if you were someone else\\'s dream? What a messed up question that is. This was a question/scenario posed to us about 15 years ago, before the astronomical use of the Internet and rapid advancement of computers. How possible could it seem back then? But if you look at today\\'s technology, now ask yourself, what it you were a part of someone else\\'s dream.<br /><br />Another brilliant but surreal film this year, David Lynch\\'s Mulholland Drive explored similar areas. But Vanilla Sky goes deeper than any other film could hope to. In short this is one film that will literally (if you let it) blow your mind from all of the possibilities that surround you.<br /><br />Open your Eyes.<br /><br />Tom Cruise plays David Aames, a young, hot shot, righteous, full of himself publisher and owner of several magazines. He inherited this from his father and although he has talent and business savvy, his board of governers, the Seven Dwarfs, think he is a rich dink born with a silver spoon in his mouth. They feel he has done nothing to deserve the pinnacle of success that each and every one of them believes should go to them. <br /><br />Early in the film we meet one of David\\'s gorgeous toys named Julie Gianni, played with pernicious but bombastic perfection by Cameron Diaz. David and Julie play a good game, both claiming they are just there to use each other and are not the slightest bit interested in a monogamous, committed relationship. This is the type of relationship commensurate with David\\'s other flings he\\'s had in the sexual prime of his life. And although both talk a good game, we can tell that only one is really telling the truth. <br /><br />Next we meet Brian Shelby, played with a stroke of genius by Kevin Smith\\'s good buddy Jason Lee. Brian is writing a book that David is going to publish but they are also very good friends. This is something that David has very little of in his life and you can sense a real caring for one another early on in the film. Brian has one famous line that he keeps telling David over and over again. And that is \" the sweet ain\\'t so sweet without the bitter.\" He goes on to tell him that one day he will find true love and not just this part time lover status that he seems to perpetrate with all of the floozies who inhabit his bed for a night or two.<br /><br />At David\\'s huge birthday bash, (so huge that the likes of Steven Spielberg wish him a happy birthday) Brian enters with his date, Sofia Sorrano, played of course by Penelope Cruz with what has to be the best performance of this year by an actress. This is a bash by invite only and at first David and Sofia seem intrigued with one another. And in typical David fashion, despite his best friend being there, he begins to flirt with Sofia. To complicate things, Julie shows up uninvited and begins spying on David. David then spends the night with Sofia, but they only talk and draw caricatures of one another. There is no hanky panky. The next day, as David is leaving Sofia\\'s apartment, he is greeted by Julie, who offers him a ride and from there.......well, I think we have all seen the commercials.<br /><br />That is all I will really say about the plot, because from here the film teases us with what is reality and what is blurred perception. We are introduced to a character played by Kurt Russel and a few other shady characters that all play a part in this labyrinth like haze. There is a subtext of death and possible panacea-like cure-alls that may or not be able to create the possibility of eternal life. This is just one of the intriguing possibilities the movie offers us, but it doesn\\'t end there.<br /><br />Like many movies seem to thrive on today, this film has a secret. Sixth Sense may have began this craze, but look even further back and you can maybe thank Angel Heart for starting the craze. Regardless of how it originated, Vanilla Sky has one of it\\'s own surreptitious gut busters. And what makes this one so much fun is that the film gives you many obvious clues along the way but not enough to give you an apodictic solution to the gauntlet of truth and lies you have just put yourself through. I have seen this film four times and every time it has been because I want to see if there is something more I can pick up, something more I can understand. To be able to work your mind in the theater, to enable it to open up to new possibilities is something rare in a film. All of the ersatz so called \"Best Pictures of the year\" have been good but nothing spectacular. They lack substance. A Beautiful Mind was intriguing but flat, The Royal Tenenbaums was interesting but uneven. Vanilla Sky is a rarity because it is a film that leaves you yearning for more yet guarantees your satisfaction because the film and those that made it care about it. I know this film has received mixed reviews but I just think that those who don\\'t like it don\\'t quite understand it. <br /><br />This is what film making is supposed to be like. This is what a film is supposed to do to you. It is supposed to make you feel something. Most of the other films this year have been just empty spaces. This one isn\\'t.<br /><br />10 out of 10 The best film of the year. I would love to see this get nominated for best picture and I would love to see Cruz up for best Actress, Diaz for best supporting, Cruise for best actor and Jason Mewes should be a shoe in for best supporting actor. Cameron Crowe should there as well. None of this may come to pass, and that is a shame. This is one film that should not be missed. <br /><br />And on a final note, I am quite sure Mr. Krisak would like this film and maybe this is the one film that may answer his question. Can you prove you are real? Or are we just a figment of someone\\'s imagination? Are we artificially transplanted for someone else\\'s bemusement? This is a film that spawns more questions than it does answers. And I\\'m sure that is just fine with him.<br /><br />Open Your Eyes'],\n",
       "      dtype=object)"
      ]
     },
     "execution_count": 8,
     "metadata": {},
     "output_type": "execute_result"
    }
   ],
   "source": [
    "# Имеются очень длинные тексты, смотрим на несколь из них\n",
    "data[data.text_size>6000][['review']].values[1]"
   ]
  },
  {
   "cell_type": "code",
   "execution_count": 9,
   "metadata": {
    "ExecuteTime": {
     "end_time": "2020-05-26T09:50:21.495702Z",
     "start_time": "2020-05-26T09:50:21.490106Z"
    }
   },
   "outputs": [],
   "source": [
    "# Вроде выглядит норм, как нормальный коммент. Только нужно удалить html теги"
   ]
  },
  {
   "cell_type": "code",
   "execution_count": 10,
   "metadata": {
    "ExecuteTime": {
     "end_time": "2020-05-26T09:50:26.345456Z",
     "start_time": "2020-05-26T09:50:26.341428Z"
    }
   },
   "outputs": [],
   "source": [
    "import re\n",
    "\n",
    "def tag_remover(raw_html):\n",
    "    remover = re.compile('<.*?>')\n",
    "    cleantext = re.sub(remover, '', raw_html)\n",
    "    return cleantext"
   ]
  },
  {
   "cell_type": "code",
   "execution_count": 11,
   "metadata": {
    "ExecuteTime": {
     "end_time": "2020-05-26T09:50:36.767096Z",
     "start_time": "2020-05-26T09:50:31.701263Z"
    }
   },
   "outputs": [],
   "source": [
    "reviews_clean = []\n",
    "for i, r in data.iterrows():\n",
    "    text = tag_remover(r[\"review\"])\n",
    "    reviews_clean.append(text)\n",
    "\n",
    "data[\"review\"] = reviews_clean"
   ]
  },
  {
   "cell_type": "code",
   "execution_count": 12,
   "metadata": {
    "ExecuteTime": {
     "end_time": "2020-05-26T09:50:37.854528Z",
     "start_time": "2020-05-26T09:50:37.844787Z"
    }
   },
   "outputs": [
    {
     "data": {
      "text/html": [
       "<div>\n",
       "<style scoped>\n",
       "    .dataframe tbody tr th:only-of-type {\n",
       "        vertical-align: middle;\n",
       "    }\n",
       "\n",
       "    .dataframe tbody tr th {\n",
       "        vertical-align: top;\n",
       "    }\n",
       "\n",
       "    .dataframe thead th {\n",
       "        text-align: right;\n",
       "    }\n",
       "</style>\n",
       "<table border=\"1\" class=\"dataframe\">\n",
       "  <thead>\n",
       "    <tr style=\"text-align: right;\">\n",
       "      <th></th>\n",
       "      <th>review</th>\n",
       "      <th>sentiment</th>\n",
       "      <th>text_size</th>\n",
       "    </tr>\n",
       "  </thead>\n",
       "  <tbody>\n",
       "    <tr>\n",
       "      <th>0</th>\n",
       "      <td>One of the other reviewers has mentioned that ...</td>\n",
       "      <td>positive</td>\n",
       "      <td>1761</td>\n",
       "    </tr>\n",
       "    <tr>\n",
       "      <th>1</th>\n",
       "      <td>A wonderful little production. The filming tec...</td>\n",
       "      <td>positive</td>\n",
       "      <td>998</td>\n",
       "    </tr>\n",
       "    <tr>\n",
       "      <th>2</th>\n",
       "      <td>I thought this was a wonderful way to spend ti...</td>\n",
       "      <td>positive</td>\n",
       "      <td>926</td>\n",
       "    </tr>\n",
       "    <tr>\n",
       "      <th>3</th>\n",
       "      <td>Basically there's a family where a little boy ...</td>\n",
       "      <td>negative</td>\n",
       "      <td>748</td>\n",
       "    </tr>\n",
       "    <tr>\n",
       "      <th>4</th>\n",
       "      <td>Petter Mattei's \"Love in the Time of Money\" is...</td>\n",
       "      <td>positive</td>\n",
       "      <td>1317</td>\n",
       "    </tr>\n",
       "  </tbody>\n",
       "</table>\n",
       "</div>"
      ],
      "text/plain": [
       "                                              review sentiment  text_size\n",
       "0  One of the other reviewers has mentioned that ...  positive       1761\n",
       "1  A wonderful little production. The filming tec...  positive        998\n",
       "2  I thought this was a wonderful way to spend ti...  positive        926\n",
       "3  Basically there's a family where a little boy ...  negative        748\n",
       "4  Petter Mattei's \"Love in the Time of Money\" is...  positive       1317"
      ]
     },
     "execution_count": 12,
     "metadata": {},
     "output_type": "execute_result"
    }
   ],
   "source": [
    "data.head()"
   ]
  },
  {
   "cell_type": "markdown",
   "metadata": {
    "ExecuteTime": {
     "end_time": "2020-05-26T09:50:48.215446Z",
     "start_time": "2020-05-26T09:50:48.210970Z"
    }
   },
   "source": [
    "# ML"
   ]
  },
  {
   "cell_type": "code",
   "execution_count": 14,
   "metadata": {
    "ExecuteTime": {
     "end_time": "2020-05-26T09:51:00.360769Z",
     "start_time": "2020-05-26T09:50:58.384788Z"
    }
   },
   "outputs": [
    {
     "name": "stderr",
     "output_type": "stream",
     "text": [
      "[nltk_data] Downloading package stopwords to\n",
      "[nltk_data]     /Users/shokan/nltk_data...\n",
      "[nltk_data]   Package stopwords is already up-to-date!\n"
     ]
    },
    {
     "data": {
      "text/plain": [
       "True"
      ]
     },
     "execution_count": 14,
     "metadata": {},
     "output_type": "execute_result"
    }
   ],
   "source": [
    "import nltk\n",
    "from sklearn.feature_extraction.text import TfidfVectorizer\n",
    "from sklearn.model_selection import train_test_split\n",
    "\n",
    "from nltk.corpus import stopwords\n",
    "nltk.download('stopwords')"
   ]
  },
  {
   "cell_type": "code",
   "execution_count": 15,
   "metadata": {
    "ExecuteTime": {
     "end_time": "2020-05-26T09:51:05.040867Z",
     "start_time": "2020-05-26T09:51:05.032817Z"
    }
   },
   "outputs": [],
   "source": [
    "stop = stopwords.words('english')\n",
    "stemmer = nltk.stem.snowball.EnglishStemmer('english')\n",
    "\n",
    "def data_Stemmer(text):\n",
    "    return ' '.join([stemmer.stem(word) for word in text.split(' ') if word not in stop])"
   ]
  },
  {
   "cell_type": "code",
   "execution_count": null,
   "metadata": {
    "ExecuteTime": {
     "start_time": "2020-05-26T09:51:11.151Z"
    }
   },
   "outputs": [],
   "source": [
    "data.review = data.review.apply(lambda x: data_Stemmer(x))"
   ]
  },
  {
   "cell_type": "code",
   "execution_count": null,
   "metadata": {
    "ExecuteTime": {
     "start_time": "2020-05-26T09:51:17.934Z"
    }
   },
   "outputs": [],
   "source": [
    "X = data.review\n",
    "y = data.sentiment"
   ]
  },
  {
   "cell_type": "code",
   "execution_count": null,
   "metadata": {
    "ExecuteTime": {
     "start_time": "2020-05-26T09:51:24.164Z"
    }
   },
   "outputs": [],
   "source": [
    "tf_vectorizer = TfidfVectorizer(stop_words=stop, ngram_range=(1, 2), min_df=0.01, norm=None)"
   ]
  },
  {
   "cell_type": "code",
   "execution_count": null,
   "metadata": {
    "ExecuteTime": {
     "start_time": "2020-05-26T09:51:29.866Z"
    }
   },
   "outputs": [],
   "source": [
    "X_train, X_test, y_train, y_test = train_test_split(X, y, test_size=0.30, random_state=42)"
   ]
  },
  {
   "cell_type": "code",
   "execution_count": null,
   "metadata": {
    "ExecuteTime": {
     "start_time": "2020-05-26T09:51:34.478Z"
    }
   },
   "outputs": [],
   "source": [
    "X_train_tf = tf_vectorizer.fit_transform(X_train)\n",
    "X_test_tf = tf_vectorizer.transform(X_test)\n",
    "X_train_tf.shape, X_test_tf.shape"
   ]
  },
  {
   "cell_type": "code",
   "execution_count": null,
   "metadata": {
    "ExecuteTime": {
     "start_time": "2020-05-26T09:51:41.672Z"
    }
   },
   "outputs": [],
   "source": [
    "from sklearn.linear_model import SGDClassifier, LogisticRegressionCV\n",
    "from sklearn.metrics import accuracy_score\n",
    "from sklearn.metrics import classification_report, confusion_matrix, accuracy_score"
   ]
  },
  {
   "cell_type": "code",
   "execution_count": null,
   "metadata": {
    "ExecuteTime": {
     "start_time": "2020-05-26T09:51:46.473Z"
    }
   },
   "outputs": [],
   "source": [
    "logit_sgd = SGDClassifier(\n",
    "    loss='log', \n",
    "    shuffle=True, \n",
    "    n_iter_no_change=5, \n",
    "    max_iter=500, \n",
    "    penalty='l2', \n",
    "    random_state=42\n",
    ")"
   ]
  },
  {
   "cell_type": "code",
   "execution_count": null,
   "metadata": {
    "ExecuteTime": {
     "start_time": "2020-05-26T09:51:51.710Z"
    }
   },
   "outputs": [],
   "source": [
    "logit_sgd.fit(X_train_tf, y_train)\n",
    "\n",
    "print(accuracy_score(logit_sgd.predict(X_train_tf), y_train))\n",
    "print(accuracy_score(logit_sgd.predict(X_test_tf), y_test))\n",
    "\n",
    "print(classification_report(logit_sgd.predict(X_test_tf), y_test))"
   ]
  },
  {
   "cell_type": "code",
   "execution_count": null,
   "metadata": {
    "ExecuteTime": {
     "start_time": "2020-05-26T09:52:12.626Z"
    }
   },
   "outputs": [],
   "source": [
    "top_positives = pd.DataFrame(logit_sgd.coef_, columns=tf_vectorizer.get_feature_names(\n",
    ")).T.sort_values(by=0, ascending=False).reset_index().head(20)\n",
    "top_positives.columns = [\"features\", \"coeff\"]\n",
    "top_positives.head()\n",
    "\n",
    "top_negatives = pd.DataFrame(logit_sgd.coef_, columns=tf_vectorizer.get_feature_names(\n",
    ")).T.sort_values(by=0, ascending=True).reset_index().head(20)\n",
    "top_negatives.columns = [\"features\", \"coeff\"]\n",
    "top_negatives.head()"
   ]
  },
  {
   "cell_type": "code",
   "execution_count": null,
   "metadata": {
    "ExecuteTime": {
     "start_time": "2020-05-26T09:52:13.782Z"
    }
   },
   "outputs": [],
   "source": [
    "df = pd.concat([top_positives, top_negatives]).sort_values(by=\"coeff\", ascending=False)\n",
    "plt.figure(figsize=(15,7))\n",
    "sns.barplot(data=df, x=\"coeff\", y=\"features\")\n",
    "plt.show()"
   ]
  },
  {
   "cell_type": "code",
   "execution_count": null,
   "metadata": {},
   "outputs": [],
   "source": []
  }
 ],
 "metadata": {
  "kernelspec": {
   "display_name": "Python 3",
   "language": "python",
   "name": "python3"
  },
  "language_info": {
   "codemirror_mode": {
    "name": "ipython",
    "version": 3
   },
   "file_extension": ".py",
   "mimetype": "text/x-python",
   "name": "python",
   "nbconvert_exporter": "python",
   "pygments_lexer": "ipython3",
   "version": "3.7.3"
  },
  "toc": {
   "base_numbering": 1,
   "nav_menu": {},
   "number_sections": true,
   "sideBar": true,
   "skip_h1_title": false,
   "title_cell": "Table of Contents",
   "title_sidebar": "Contents",
   "toc_cell": false,
   "toc_position": {},
   "toc_section_display": true,
   "toc_window_display": false
  },
  "varInspector": {
   "cols": {
    "lenName": 16,
    "lenType": 16,
    "lenVar": 40
   },
   "kernels_config": {
    "python": {
     "delete_cmd_postfix": "",
     "delete_cmd_prefix": "del ",
     "library": "var_list.py",
     "varRefreshCmd": "print(var_dic_list())"
    },
    "r": {
     "delete_cmd_postfix": ") ",
     "delete_cmd_prefix": "rm(",
     "library": "var_list.r",
     "varRefreshCmd": "cat(var_dic_list()) "
    }
   },
   "types_to_exclude": [
    "module",
    "function",
    "builtin_function_or_method",
    "instance",
    "_Feature"
   ],
   "window_display": false
  }
 },
 "nbformat": 4,
 "nbformat_minor": 2
}
