{
 "cells": [
  {
   "cell_type": "markdown",
   "metadata": {},
   "source": [
    "* Сбор данных\n",
    " *    Краулинг\n",
    " *    Парсинг\n",
    "* Очистка данных\n",
    " *    Обработка пропусков\n",
    " *    Приведение к единому формату\n",
    "* Разведочный анализ\n",
    "* Моделирование и интерпретация результатов"
   ]
  },
  {
   "cell_type": "code",
   "execution_count": 6,
   "metadata": {
    "ExecuteTime": {
     "end_time": "2020-05-22T08:52:30.694755Z",
     "start_time": "2020-05-22T08:52:28.388013Z"
    }
   },
   "outputs": [],
   "source": [
    "import requests\n",
    "from bs4 import BeautifulSoup\n",
    "from fake_useragent import UserAgent\n",
    "\n",
    "import pandas as pd\n",
    "import time\n",
    "\n",
    "from tqdm import tqdm_notebook\n",
    "from ftfy import fix_text\n",
    "\n",
    "import pickle\n",
    "import matplotlib.pyplot as plt\n",
    "import seaborn as sns\n",
    "import math"
   ]
  },
  {
   "cell_type": "markdown",
   "metadata": {},
   "source": [
    "# Кроулинг"
   ]
  },
  {
   "cell_type": "code",
   "execution_count": 5,
   "metadata": {
    "ExecuteTime": {
     "end_time": "2020-05-22T08:55:48.221869Z",
     "start_time": "2020-05-22T08:55:48.218999Z"
    }
   },
   "outputs": [],
   "source": [
    "main_link = \"https://krisha.kz/prodazha/kvartiry/astana-esilskij/?das[_sys.hasphoto]=1&das[checked]=1&das[novostroiki]=1&das[who]=1&page=\""
   ]
  },
  {
   "cell_type": "code",
   "execution_count": 14,
   "metadata": {
    "ExecuteTime": {
     "end_time": "2020-05-22T08:53:29.685961Z",
     "start_time": "2020-05-22T08:53:29.480813Z"
    }
   },
   "outputs": [],
   "source": [
    "response = requests.get(main_link, headers={\"User-Agent\": UserAgent().chrome})"
   ]
  },
  {
   "cell_type": "code",
   "execution_count": 44,
   "metadata": {
    "ExecuteTime": {
     "end_time": "2020-05-22T09:08:33.930631Z",
     "start_time": "2020-05-22T09:08:33.926653Z"
    }
   },
   "outputs": [],
   "source": [
    "def get_soup(page_link):\n",
    "    response = requests.get(page_link, headers={\"User-Agent\": UserAgent().chrome})\n",
    "    soup = BeautifulSoup(response.content, \"html.parser\")\n",
    "    return soup\n",
    "    "
   ]
  },
  {
   "cell_type": "code",
   "execution_count": 18,
   "metadata": {
    "ExecuteTime": {
     "end_time": "2020-05-22T08:56:12.171441Z",
     "start_time": "2020-05-22T08:56:11.679543Z"
    }
   },
   "outputs": [],
   "source": [
    "soup = get_soup(main_link + str(3))"
   ]
  },
  {
   "cell_type": "code",
   "execution_count": 22,
   "metadata": {
    "ExecuteTime": {
     "end_time": "2020-05-22T08:58:17.113670Z",
     "start_time": "2020-05-22T08:58:17.071466Z"
    }
   },
   "outputs": [],
   "source": [
    "link_raw = soup.findAll(\"a\", attrs={\"class\", \"a-card__title\"})"
   ]
  },
  {
   "cell_type": "code",
   "execution_count": 27,
   "metadata": {
    "ExecuteTime": {
     "end_time": "2020-05-22T08:59:07.626821Z",
     "start_time": "2020-05-22T08:59:07.622838Z"
    }
   },
   "outputs": [],
   "source": [
    "links = [i[\"href\"] for i in link_raw]\n",
    "# links"
   ]
  },
  {
   "cell_type": "code",
   "execution_count": 28,
   "metadata": {
    "ExecuteTime": {
     "end_time": "2020-05-22T09:00:25.941967Z",
     "start_time": "2020-05-22T09:00:25.936021Z"
    }
   },
   "outputs": [],
   "source": [
    "def get_link(page_number):\n",
    "    soup =get_soup(main_link+str(page_number))\n",
    "    link_raw = soup.findAll(\"a\", attrs={\"class\", \"a-card__title\"})\n",
    "    links = [i[\"href\"] for i in link_raw]\n",
    "    return links"
   ]
  },
  {
   "cell_type": "code",
   "execution_count": 30,
   "metadata": {
    "ExecuteTime": {
     "end_time": "2020-05-22T09:02:30.778624Z",
     "start_time": "2020-05-22T09:02:30.775105Z"
    }
   },
   "outputs": [
    {
     "data": {
      "text/plain": [
       "['/a/show/57880188',\n",
       " '/a/show/57780018',\n",
       " '/a/show/57491912',\n",
       " '/a/show/57555600',\n",
       " '/a/show/57382528',\n",
       " '/a/show/57808725',\n",
       " '/a/show/56915724',\n",
       " '/a/show/57835263',\n",
       " '/a/show/55673664',\n",
       " '/a/show/57340304',\n",
       " '/a/show/56294579',\n",
       " '/a/show/57834987',\n",
       " '/a/show/57834724',\n",
       " '/a/show/57863615',\n",
       " '/a/show/28389083',\n",
       " '/a/show/57548637',\n",
       " '/a/show/56688984',\n",
       " '/a/show/57713812',\n",
       " '/a/show/57784303',\n",
       " '/a/show/56431953',\n",
       " '/a/show/57663539']"
      ]
     },
     "execution_count": 30,
     "metadata": {},
     "output_type": "execute_result"
    }
   ],
   "source": [
    "get_link(5)"
   ]
  },
  {
   "cell_type": "code",
   "execution_count": 33,
   "metadata": {
    "ExecuteTime": {
     "end_time": "2020-05-22T08:33:16.618362Z",
     "start_time": "2020-05-22T08:33:16.614488Z"
    }
   },
   "outputs": [],
   "source": [
    "# all_links = []\n",
    "# for i in range(533):\n",
    "#     links = get_link(i)\n",
    "#     all_links.append(links)\n",
    "    "
   ]
  },
  {
   "cell_type": "code",
   "execution_count": 12,
   "metadata": {
    "ExecuteTime": {
     "end_time": "2020-05-22T07:57:19.073823Z",
     "start_time": "2020-05-22T07:57:19.070855Z"
    }
   },
   "outputs": [],
   "source": []
  },
  {
   "cell_type": "code",
   "execution_count": 45,
   "metadata": {
    "ExecuteTime": {
     "end_time": "2020-05-22T09:02:42.167100Z",
     "start_time": "2020-05-22T09:02:42.158516Z"
    }
   },
   "outputs": [],
   "source": [
    "with open('all_links.pkl', 'rb') as f:\n",
    "    all_links = pickle.load(f)"
   ]
  },
  {
   "cell_type": "code",
   "execution_count": 36,
   "metadata": {
    "ExecuteTime": {
     "end_time": "2020-05-22T09:02:53.641974Z",
     "start_time": "2020-05-22T09:02:53.637946Z"
    }
   },
   "outputs": [
    {
     "data": {
      "text/plain": [
       "10802"
      ]
     },
     "execution_count": 36,
     "metadata": {},
     "output_type": "execute_result"
    }
   ],
   "source": [
    "len(all_links)"
   ]
  },
  {
   "cell_type": "markdown",
   "metadata": {},
   "source": [
    "# Парсинг"
   ]
  },
  {
   "cell_type": "code",
   "execution_count": 46,
   "metadata": {
    "ExecuteTime": {
     "end_time": "2020-05-22T09:08:36.679473Z",
     "start_time": "2020-05-22T09:08:36.429493Z"
    }
   },
   "outputs": [],
   "source": [
    "page_link = \"https://krisha.kz\"\n",
    "main_soup = get_soup(\"https://krisha.kz/a/show/57859710\")"
   ]
  },
  {
   "cell_type": "code",
   "execution_count": 48,
   "metadata": {
    "ExecuteTime": {
     "end_time": "2020-05-22T09:24:21.377095Z",
     "start_time": "2020-05-22T09:24:21.356080Z"
    }
   },
   "outputs": [
    {
     "data": {
      "text/plain": [
       "'\\n                                                                                                            13\\xa0000\\xa0000\\xa0〒\\n'"
      ]
     },
     "execution_count": 48,
     "metadata": {},
     "output_type": "execute_result"
    }
   ],
   "source": [
    "main_soup.find(\"div\", attrs={'class': 'offer__price'}).text"
   ]
  },
  {
   "cell_type": "markdown",
   "metadata": {},
   "source": [
    "## _get_price"
   ]
  },
  {
   "cell_type": "code",
   "execution_count": 49,
   "metadata": {
    "ExecuteTime": {
     "end_time": "2020-05-22T09:24:16.478224Z",
     "start_time": "2020-05-22T09:24:16.474688Z"
    }
   },
   "outputs": [
    {
     "data": {
      "text/plain": [
       "13000000"
      ]
     },
     "execution_count": 49,
     "metadata": {},
     "output_type": "execute_result"
    }
   ],
   "source": [
    "def _get_price(main_soup):\n",
    "    try:\n",
    "        price = main_soup.find(\"div\", attrs={'class': 'offer__price'}).text\n",
    "        price = fix_text(price, normalization='NFKC')\n",
    "        price = price.replace(\"〒\", \"\").strip()\n",
    "        price = price.replace(\" \", \"\").strip()\n",
    "        price = int(price)\n",
    "    except:\n",
    "        price = np.nan\n",
    "    return price\n",
    "\n",
    "_get_price(main_soup)"
   ]
  },
  {
   "cell_type": "markdown",
   "metadata": {},
   "source": [
    "## _get_rooms"
   ]
  },
  {
   "cell_type": "code",
   "execution_count": 50,
   "metadata": {
    "ExecuteTime": {
     "end_time": "2020-05-22T09:24:12.800743Z",
     "start_time": "2020-05-22T09:24:12.792547Z"
    }
   },
   "outputs": [
    {
     "data": {
      "text/plain": [
       "3"
      ]
     },
     "execution_count": 50,
     "metadata": {},
     "output_type": "execute_result"
    }
   ],
   "source": [
    "def _get_rooms(main_soup):\n",
    "    try:\n",
    "        tittle = main_soup.find(\"h1\")\n",
    "        tittle = tittle.text.strip()\n",
    "        tittle = tittle.split(\",\")[0]\n",
    "        tittle = tittle.replace(\"-комнатная квартира\", \"\")\n",
    "        tittle = int(tittle)\n",
    "    except:\n",
    "        tittle = np.nan\n",
    "    return tittle\n",
    "\n",
    "_get_rooms(main_soup)"
   ]
  },
  {
   "cell_type": "markdown",
   "metadata": {},
   "source": [
    "## _get_house_name"
   ]
  },
  {
   "cell_type": "code",
   "execution_count": 51,
   "metadata": {
    "ExecuteTime": {
     "end_time": "2020-05-22T09:24:09.150921Z",
     "start_time": "2020-05-22T09:24:09.148003Z"
    }
   },
   "outputs": [
    {
     "data": {
      "text/plain": [
       "nan"
      ]
     },
     "execution_count": 51,
     "metadata": {},
     "output_type": "execute_result"
    }
   ],
   "source": [
    "def _get_house_name(main_soup):\n",
    "    try:\n",
    "        house_name = main_soup.find(\"div\", attrs={'data-name': 'map.complex'})\n",
    "        house_name = house_name.text.replace(\"Жилой комплекс\", \"\").strip()\n",
    "    except:\n",
    "        house_name = np.nan\n",
    "    return house_name\n",
    "\n",
    "_get_house_name(main_soup)"
   ]
  },
  {
   "cell_type": "markdown",
   "metadata": {},
   "source": [
    "## _get_square"
   ]
  },
  {
   "cell_type": "code",
   "execution_count": 52,
   "metadata": {
    "ExecuteTime": {
     "end_time": "2020-05-22T09:24:04.273756Z",
     "start_time": "2020-05-22T09:24:04.270187Z"
    }
   },
   "outputs": [
    {
     "data": {
      "text/plain": [
       "[60, 6]"
      ]
     },
     "execution_count": 52,
     "metadata": {},
     "output_type": "execute_result"
    }
   ],
   "source": [
    "def _get_square(main_soup):\n",
    "    try:\n",
    "        square = main_soup.find(\"div\", {\"data-name\": \"live.square\"}).text\n",
    "        square = [int(s) for s in square.split() if s.isdigit()]\n",
    "    except:\n",
    "        square = np.nan\n",
    "    \n",
    "    return square\n",
    "\n",
    "_get_square(main_soup)"
   ]
  },
  {
   "cell_type": "markdown",
   "metadata": {},
   "source": [
    "## _get_ceiling"
   ]
  },
  {
   "cell_type": "code",
   "execution_count": 53,
   "metadata": {
    "ExecuteTime": {
     "end_time": "2020-05-22T09:24:00.328346Z",
     "start_time": "2020-05-22T09:24:00.325328Z"
    }
   },
   "outputs": [
    {
     "data": {
      "text/plain": [
       "nan"
      ]
     },
     "execution_count": 53,
     "metadata": {},
     "output_type": "execute_result"
    }
   ],
   "source": [
    "def _get_ceiling(main_soup):\n",
    "    try:\n",
    "        ceiling = main_soup.find(\"div\", {\"data-name\": \"ceiling\"})\n",
    "        ceiling = ceiling.text.replace(\"Потолки\", \"\").replace(\"м\", \"\").strip()\n",
    "        ceiling = int(ceiling)\n",
    "    except:\n",
    "        ceiling = np.nan\n",
    "    return ceiling\n",
    "\n",
    "_get_ceiling(main_soup)"
   ]
  },
  {
   "cell_type": "markdown",
   "metadata": {},
   "source": [
    "## _get_year_built"
   ]
  },
  {
   "cell_type": "code",
   "execution_count": 54,
   "metadata": {
    "ExecuteTime": {
     "end_time": "2020-05-22T09:23:56.673572Z",
     "start_time": "2020-05-22T09:23:56.670369Z"
    }
   },
   "outputs": [
    {
     "data": {
      "text/plain": [
       "1975"
      ]
     },
     "execution_count": 54,
     "metadata": {},
     "output_type": "execute_result"
    }
   ],
   "source": [
    "def _get_year_built(main_soup):\n",
    "    try:\n",
    "        year_built = main_soup.find(\"div\", {\"data-name\": \"flat.building\"}).text\n",
    "        year_built = [int(s) for s in year_built.split() if s.isdigit()][0]\n",
    "    except:\n",
    "        year_built = np.nan\n",
    "    return year_built\n",
    "\n",
    "_get_year_built(main_soup)"
   ]
  },
  {
   "cell_type": "markdown",
   "metadata": {},
   "source": [
    "## _get_floor"
   ]
  },
  {
   "cell_type": "code",
   "execution_count": 55,
   "metadata": {
    "ExecuteTime": {
     "end_time": "2020-05-22T09:23:53.014660Z",
     "start_time": "2020-05-22T09:23:53.009829Z"
    }
   },
   "outputs": [
    {
     "data": {
      "text/plain": [
       "['3', '5']"
      ]
     },
     "execution_count": 55,
     "metadata": {},
     "output_type": "execute_result"
    }
   ],
   "source": [
    "def _get_floor(main_soup):\n",
    "    try:\n",
    "        floor = main_soup.find(\"div\", {\"data-name\": \"flat.floor\"})\n",
    "        floor = floor.text.replace(\"Этаж\", \"\").strip().split(\" из \")\n",
    "    except:\n",
    "        floor = np.nan\n",
    "        \n",
    "    return floor\n",
    "\n",
    "_get_floor(main_soup)"
   ]
  },
  {
   "cell_type": "markdown",
   "metadata": {},
   "source": [
    "## _get_renovation"
   ]
  },
  {
   "cell_type": "code",
   "execution_count": 56,
   "metadata": {
    "ExecuteTime": {
     "end_time": "2020-05-22T09:23:47.556297Z",
     "start_time": "2020-05-22T09:23:47.550575Z"
    }
   },
   "outputs": [
    {
     "data": {
      "text/plain": [
       "'среднее'"
      ]
     },
     "execution_count": 56,
     "metadata": {},
     "output_type": "execute_result"
    }
   ],
   "source": [
    "def _get_renovation(main_soup):\n",
    "    try:\n",
    "        renovation = main_soup.find(\"div\", {\"data-name\": \"flat.renovation\"})\n",
    "        renovation = renovation.text.replace(\"Состояние\", \"\").strip()\n",
    "    except:\n",
    "        renovation = np.nan\n",
    "    return renovation\n",
    "\n",
    "_get_renovation(main_soup)"
   ]
  },
  {
   "cell_type": "markdown",
   "metadata": {},
   "source": [
    "# Объединение"
   ]
  },
  {
   "cell_type": "code",
   "execution_count": 57,
   "metadata": {
    "ExecuteTime": {
     "end_time": "2020-05-22T09:09:16.929546Z",
     "start_time": "2020-05-22T09:09:16.922835Z"
    }
   },
   "outputs": [],
   "source": [
    "def get_page_info(link):\n",
    "    main_soup = get_soup(page_link + link)\n",
    "    \n",
    "    price = _get_price(main_soup)\n",
    "    renovation = _get_renovation(main_soup)\n",
    "    floor = _get_floor(main_soup)\n",
    "    year_built = _get_year_built(main_soup)\n",
    "    ceiling= _get_ceiling(main_soup)\n",
    "    square = _get_square(main_soup)\n",
    "    rooms = _get_rooms(main_soup)\n",
    "    house_name = _get_house_name(main_soup)\n",
    "    \n",
    "    \n",
    "    info = {\n",
    "        'price': price,\n",
    "        'renovation':renovation,\n",
    "        'floor':floor,\n",
    "        'year_built':year_built,\n",
    "        'ceiling':ceiling,\n",
    "        'square':square,\n",
    "        'rooms':rooms,\n",
    "        'house_name':house_name,\n",
    "    }\n",
    "    \n",
    "    return info"
   ]
  },
  {
   "cell_type": "code",
   "execution_count": 58,
   "metadata": {
    "ExecuteTime": {
     "end_time": "2020-05-22T09:23:42.867512Z",
     "start_time": "2020-05-22T09:23:42.863219Z"
    }
   },
   "outputs": [
    {
     "data": {
      "text/plain": [
       "{'price': 13000000,\n",
       " 'renovation': 'среднее',\n",
       " 'floor': ['3', '5'],\n",
       " 'year_built': 1975,\n",
       " 'ceiling': nan,\n",
       " 'square': [60, 6],\n",
       " 'rooms': 3,\n",
       " 'house_name': nan}"
      ]
     },
     "execution_count": 58,
     "metadata": {},
     "output_type": "execute_result"
    }
   ],
   "source": [
    "get_page_info('/a/show/57859710')"
   ]
  },
  {
   "cell_type": "code",
   "execution_count": 60,
   "metadata": {
    "ExecuteTime": {
     "end_time": "2020-05-22T09:10:31.986562Z",
     "start_time": "2020-05-22T09:10:31.983537Z"
    }
   },
   "outputs": [],
   "source": [
    "# news_dataset = pd.DataFrame(columns=['renovation', 'floor', 'year_built', 'ceiling', 'square', 'rooms', 'house_name'])\n",
    "\n",
    "# for link in tqdm_notebook(all_links):\n",
    "#     news_dataset = news_dataset.append(get_page_info(link), ignore_index=True)\n",
    "#     time.sleep(0.1)"
   ]
  },
  {
   "cell_type": "markdown",
   "metadata": {},
   "source": [
    "# Очистка данных"
   ]
  },
  {
   "cell_type": "code",
   "execution_count": 61,
   "metadata": {
    "ExecuteTime": {
     "end_time": "2020-05-22T09:23:37.795598Z",
     "start_time": "2020-05-22T09:23:37.790594Z"
    }
   },
   "outputs": [
    {
     "name": "stdout",
     "output_type": "stream",
     "text": [
      "(10802, 8)\n"
     ]
    },
    {
     "data": {
      "text/html": [
       "<div>\n",
       "<style scoped>\n",
       "    .dataframe tbody tr th:only-of-type {\n",
       "        vertical-align: middle;\n",
       "    }\n",
       "\n",
       "    .dataframe tbody tr th {\n",
       "        vertical-align: top;\n",
       "    }\n",
       "\n",
       "    .dataframe thead th {\n",
       "        text-align: right;\n",
       "    }\n",
       "</style>\n",
       "<table border=\"1\" class=\"dataframe\">\n",
       "  <thead>\n",
       "    <tr style=\"text-align: right;\">\n",
       "      <th></th>\n",
       "      <th>renovation</th>\n",
       "      <th>floor</th>\n",
       "      <th>year_built</th>\n",
       "      <th>ceiling</th>\n",
       "      <th>square</th>\n",
       "      <th>rooms</th>\n",
       "      <th>house_name</th>\n",
       "      <th>price</th>\n",
       "    </tr>\n",
       "  </thead>\n",
       "  <tbody>\n",
       "    <tr>\n",
       "      <th>0</th>\n",
       "      <td>NaN</td>\n",
       "      <td>NaN</td>\n",
       "      <td>NaN</td>\n",
       "      <td>NaN</td>\n",
       "      <td>NaN</td>\n",
       "      <td>NaN</td>\n",
       "      <td>NaN</td>\n",
       "      <td>NaN</td>\n",
       "    </tr>\n",
       "    <tr>\n",
       "      <th>1</th>\n",
       "      <td>NaN</td>\n",
       "      <td>[7, 22]</td>\n",
       "      <td>2019</td>\n",
       "      <td>NaN</td>\n",
       "      <td>[42]</td>\n",
       "      <td>1</td>\n",
       "      <td>Коркем Tower</td>\n",
       "      <td>15000000.0</td>\n",
       "    </tr>\n",
       "    <tr>\n",
       "      <th>2</th>\n",
       "      <td>черновая отделка</td>\n",
       "      <td>[4, 9]</td>\n",
       "      <td>2020</td>\n",
       "      <td>NaN</td>\n",
       "      <td>[]</td>\n",
       "      <td>1</td>\n",
       "      <td>NaN</td>\n",
       "      <td>8305500.0</td>\n",
       "    </tr>\n",
       "    <tr>\n",
       "      <th>3</th>\n",
       "      <td>евроремонт</td>\n",
       "      <td>[4, 10]</td>\n",
       "      <td>2013</td>\n",
       "      <td>NaN</td>\n",
       "      <td>[87]</td>\n",
       "      <td>2</td>\n",
       "      <td>Нурсая Бонита</td>\n",
       "      <td>38000000.0</td>\n",
       "    </tr>\n",
       "    <tr>\n",
       "      <th>4</th>\n",
       "      <td>хорошее</td>\n",
       "      <td>[4, 12]</td>\n",
       "      <td>2007</td>\n",
       "      <td>NaN</td>\n",
       "      <td>[70]</td>\n",
       "      <td>3</td>\n",
       "      <td>7 Бочек</td>\n",
       "      <td>24000000.0</td>\n",
       "    </tr>\n",
       "  </tbody>\n",
       "</table>\n",
       "</div>"
      ],
      "text/plain": [
       "         renovation    floor year_built ceiling square rooms     house_name  \\\n",
       "0               NaN      NaN        NaN     NaN    NaN   NaN            NaN   \n",
       "1               NaN  [7, 22]       2019     NaN   [42]     1   Коркем Tower   \n",
       "2  черновая отделка   [4, 9]       2020     NaN     []     1            NaN   \n",
       "3        евроремонт  [4, 10]       2013     NaN   [87]     2  Нурсая Бонита   \n",
       "4           хорошее  [4, 12]       2007     NaN   [70]     3        7 Бочек   \n",
       "\n",
       "        price  \n",
       "0         NaN  \n",
       "1  15000000.0  \n",
       "2   8305500.0  \n",
       "3  38000000.0  \n",
       "4  24000000.0  "
      ]
     },
     "execution_count": 61,
     "metadata": {},
     "output_type": "execute_result"
    }
   ],
   "source": [
    "data = pd.read_pickle(\"news_dataset.pkl\").drop(\"priv_dorm\", axis=1)\n",
    "print(data.shape)\n",
    "data.head()"
   ]
  },
  {
   "cell_type": "markdown",
   "metadata": {},
   "source": [
    "## Обработка пропусков"
   ]
  },
  {
   "cell_type": "code",
   "execution_count": 62,
   "metadata": {
    "ExecuteTime": {
     "end_time": "2020-05-22T09:11:31.151707Z",
     "start_time": "2020-05-22T09:11:31.144611Z"
    }
   },
   "outputs": [],
   "source": [
    "data = data[data.price.isna()==False]"
   ]
  },
  {
   "cell_type": "code",
   "execution_count": 63,
   "metadata": {
    "ExecuteTime": {
     "end_time": "2020-05-22T09:23:30.322925Z",
     "start_time": "2020-05-22T09:23:30.319349Z"
    }
   },
   "outputs": [
    {
     "data": {
      "text/html": [
       "<div>\n",
       "<style scoped>\n",
       "    .dataframe tbody tr th:only-of-type {\n",
       "        vertical-align: middle;\n",
       "    }\n",
       "\n",
       "    .dataframe tbody tr th {\n",
       "        vertical-align: top;\n",
       "    }\n",
       "\n",
       "    .dataframe thead th {\n",
       "        text-align: right;\n",
       "    }\n",
       "</style>\n",
       "<table border=\"1\" class=\"dataframe\">\n",
       "  <thead>\n",
       "    <tr style=\"text-align: right;\">\n",
       "      <th></th>\n",
       "      <th>renovation</th>\n",
       "      <th>floor</th>\n",
       "      <th>year_built</th>\n",
       "      <th>ceiling</th>\n",
       "      <th>square</th>\n",
       "      <th>rooms</th>\n",
       "      <th>house_name</th>\n",
       "      <th>price</th>\n",
       "    </tr>\n",
       "  </thead>\n",
       "  <tbody>\n",
       "    <tr>\n",
       "      <th>1</th>\n",
       "      <td>NaN</td>\n",
       "      <td>[7, 22]</td>\n",
       "      <td>2019</td>\n",
       "      <td>NaN</td>\n",
       "      <td>[42]</td>\n",
       "      <td>1</td>\n",
       "      <td>Коркем Tower</td>\n",
       "      <td>15.0000</td>\n",
       "    </tr>\n",
       "    <tr>\n",
       "      <th>2</th>\n",
       "      <td>черновая отделка</td>\n",
       "      <td>[4, 9]</td>\n",
       "      <td>2020</td>\n",
       "      <td>NaN</td>\n",
       "      <td>[]</td>\n",
       "      <td>1</td>\n",
       "      <td>NaN</td>\n",
       "      <td>8.3055</td>\n",
       "    </tr>\n",
       "    <tr>\n",
       "      <th>3</th>\n",
       "      <td>евроремонт</td>\n",
       "      <td>[4, 10]</td>\n",
       "      <td>2013</td>\n",
       "      <td>NaN</td>\n",
       "      <td>[87]</td>\n",
       "      <td>2</td>\n",
       "      <td>Нурсая Бонита</td>\n",
       "      <td>38.0000</td>\n",
       "    </tr>\n",
       "  </tbody>\n",
       "</table>\n",
       "</div>"
      ],
      "text/plain": [
       "         renovation    floor year_built ceiling square rooms     house_name  \\\n",
       "1               NaN  [7, 22]       2019     NaN   [42]     1   Коркем Tower   \n",
       "2  черновая отделка   [4, 9]       2020     NaN     []     1            NaN   \n",
       "3        евроремонт  [4, 10]       2013     NaN   [87]     2  Нурсая Бонита   \n",
       "\n",
       "     price  \n",
       "1  15.0000  \n",
       "2   8.3055  \n",
       "3  38.0000  "
      ]
     },
     "execution_count": 63,
     "metadata": {},
     "output_type": "execute_result"
    }
   ],
   "source": [
    "data.price = data.price / 1000000\n",
    "data.head(3)"
   ]
  },
  {
   "cell_type": "code",
   "execution_count": 64,
   "metadata": {
    "ExecuteTime": {
     "end_time": "2020-05-22T09:12:08.097377Z",
     "start_time": "2020-05-22T09:12:08.091136Z"
    }
   },
   "outputs": [],
   "source": [
    "data.square.fillna(\"[]\", inplace=True)\n",
    "data.floor.fillna(\"[]\", inplace=True)"
   ]
  },
  {
   "cell_type": "code",
   "execution_count": 65,
   "metadata": {
    "ExecuteTime": {
     "end_time": "2020-05-22T09:13:04.983639Z",
     "start_time": "2020-05-22T09:13:04.980125Z"
    }
   },
   "outputs": [],
   "source": [
    "# data.ceiling.value_counts()"
   ]
  },
  {
   "cell_type": "code",
   "execution_count": 66,
   "metadata": {
    "ExecuteTime": {
     "end_time": "2020-05-22T09:23:24.448499Z",
     "start_time": "2020-05-22T09:23:24.443417Z"
    }
   },
   "outputs": [
    {
     "data": {
      "text/html": [
       "<div>\n",
       "<style scoped>\n",
       "    .dataframe tbody tr th:only-of-type {\n",
       "        vertical-align: middle;\n",
       "    }\n",
       "\n",
       "    .dataframe tbody tr th {\n",
       "        vertical-align: top;\n",
       "    }\n",
       "\n",
       "    .dataframe thead th {\n",
       "        text-align: right;\n",
       "    }\n",
       "</style>\n",
       "<table border=\"1\" class=\"dataframe\">\n",
       "  <thead>\n",
       "    <tr style=\"text-align: right;\">\n",
       "      <th></th>\n",
       "      <th>renovation</th>\n",
       "      <th>floor</th>\n",
       "      <th>year_built</th>\n",
       "      <th>ceiling</th>\n",
       "      <th>square</th>\n",
       "      <th>rooms</th>\n",
       "      <th>house_name</th>\n",
       "      <th>price</th>\n",
       "    </tr>\n",
       "  </thead>\n",
       "  <tbody>\n",
       "    <tr>\n",
       "      <th>1</th>\n",
       "      <td>NaN</td>\n",
       "      <td>[7, 22]</td>\n",
       "      <td>2019</td>\n",
       "      <td>2.75</td>\n",
       "      <td>[42]</td>\n",
       "      <td>1</td>\n",
       "      <td>Коркем Tower</td>\n",
       "      <td>15.0000</td>\n",
       "    </tr>\n",
       "    <tr>\n",
       "      <th>2</th>\n",
       "      <td>черновая отделка</td>\n",
       "      <td>[4, 9]</td>\n",
       "      <td>2020</td>\n",
       "      <td>2.75</td>\n",
       "      <td>[]</td>\n",
       "      <td>1</td>\n",
       "      <td>NaN</td>\n",
       "      <td>8.3055</td>\n",
       "    </tr>\n",
       "    <tr>\n",
       "      <th>3</th>\n",
       "      <td>евроремонт</td>\n",
       "      <td>[4, 10]</td>\n",
       "      <td>2013</td>\n",
       "      <td>2.75</td>\n",
       "      <td>[87]</td>\n",
       "      <td>2</td>\n",
       "      <td>Нурсая Бонита</td>\n",
       "      <td>38.0000</td>\n",
       "    </tr>\n",
       "  </tbody>\n",
       "</table>\n",
       "</div>"
      ],
      "text/plain": [
       "         renovation    floor year_built  ceiling square rooms     house_name  \\\n",
       "1               NaN  [7, 22]       2019     2.75   [42]     1   Коркем Tower   \n",
       "2  черновая отделка   [4, 9]       2020     2.75     []     1            NaN   \n",
       "3        евроремонт  [4, 10]       2013     2.75   [87]     2  Нурсая Бонита   \n",
       "\n",
       "     price  \n",
       "1  15.0000  \n",
       "2   8.3055  \n",
       "3  38.0000  "
      ]
     },
     "execution_count": 66,
     "metadata": {},
     "output_type": "execute_result"
    }
   ],
   "source": [
    "data.ceiling = data.ceiling.fillna(2.75)\n",
    "data.head(3)"
   ]
  },
  {
   "cell_type": "code",
   "execution_count": 68,
   "metadata": {
    "ExecuteTime": {
     "end_time": "2020-05-22T09:23:19.990569Z",
     "start_time": "2020-05-22T09:23:19.987920Z"
    }
   },
   "outputs": [
    {
     "data": {
      "text/html": [
       "<div>\n",
       "<style scoped>\n",
       "    .dataframe tbody tr th:only-of-type {\n",
       "        vertical-align: middle;\n",
       "    }\n",
       "\n",
       "    .dataframe tbody tr th {\n",
       "        vertical-align: top;\n",
       "    }\n",
       "\n",
       "    .dataframe thead th {\n",
       "        text-align: right;\n",
       "    }\n",
       "</style>\n",
       "<table border=\"1\" class=\"dataframe\">\n",
       "  <thead>\n",
       "    <tr style=\"text-align: right;\">\n",
       "      <th></th>\n",
       "      <th>renovation</th>\n",
       "      <th>floor</th>\n",
       "      <th>year_built</th>\n",
       "      <th>ceiling</th>\n",
       "      <th>square</th>\n",
       "      <th>rooms</th>\n",
       "      <th>house_name</th>\n",
       "      <th>price</th>\n",
       "    </tr>\n",
       "  </thead>\n",
       "  <tbody>\n",
       "    <tr>\n",
       "      <th>1</th>\n",
       "      <td>NaN</td>\n",
       "      <td>[7, 22]</td>\n",
       "      <td>2019</td>\n",
       "      <td>2.75</td>\n",
       "      <td>[42]</td>\n",
       "      <td>1</td>\n",
       "      <td>Коркем Tower</td>\n",
       "      <td>15.0000</td>\n",
       "    </tr>\n",
       "    <tr>\n",
       "      <th>2</th>\n",
       "      <td>черновая отделка</td>\n",
       "      <td>[4, 9]</td>\n",
       "      <td>2020</td>\n",
       "      <td>2.75</td>\n",
       "      <td>[]</td>\n",
       "      <td>1</td>\n",
       "      <td>Unknown</td>\n",
       "      <td>8.3055</td>\n",
       "    </tr>\n",
       "    <tr>\n",
       "      <th>3</th>\n",
       "      <td>евроремонт</td>\n",
       "      <td>[4, 10]</td>\n",
       "      <td>2013</td>\n",
       "      <td>2.75</td>\n",
       "      <td>[87]</td>\n",
       "      <td>2</td>\n",
       "      <td>Нурсая Бонита</td>\n",
       "      <td>38.0000</td>\n",
       "    </tr>\n",
       "  </tbody>\n",
       "</table>\n",
       "</div>"
      ],
      "text/plain": [
       "         renovation    floor year_built  ceiling square rooms     house_name  \\\n",
       "1               NaN  [7, 22]       2019     2.75   [42]     1   Коркем Tower   \n",
       "2  черновая отделка   [4, 9]       2020     2.75     []     1        Unknown   \n",
       "3        евроремонт  [4, 10]       2013     2.75   [87]     2  Нурсая Бонита   \n",
       "\n",
       "     price  \n",
       "1  15.0000  \n",
       "2   8.3055  \n",
       "3  38.0000  "
      ]
     },
     "execution_count": 68,
     "metadata": {},
     "output_type": "execute_result"
    }
   ],
   "source": [
    "data.house_name.fillna(\"Unknown\", inplace=True)\n",
    "data.head(3)"
   ]
  },
  {
   "cell_type": "code",
   "execution_count": 69,
   "metadata": {
    "ExecuteTime": {
     "end_time": "2020-05-22T09:23:12.756595Z",
     "start_time": "2020-05-22T09:23:12.754079Z"
    }
   },
   "outputs": [
    {
     "data": {
      "text/html": [
       "<div>\n",
       "<style scoped>\n",
       "    .dataframe tbody tr th:only-of-type {\n",
       "        vertical-align: middle;\n",
       "    }\n",
       "\n",
       "    .dataframe tbody tr th {\n",
       "        vertical-align: top;\n",
       "    }\n",
       "\n",
       "    .dataframe thead th {\n",
       "        text-align: right;\n",
       "    }\n",
       "</style>\n",
       "<table border=\"1\" class=\"dataframe\">\n",
       "  <thead>\n",
       "    <tr style=\"text-align: right;\">\n",
       "      <th></th>\n",
       "      <th>renovation</th>\n",
       "      <th>floor</th>\n",
       "      <th>year_built</th>\n",
       "      <th>ceiling</th>\n",
       "      <th>square</th>\n",
       "      <th>rooms</th>\n",
       "      <th>house_name</th>\n",
       "      <th>price</th>\n",
       "    </tr>\n",
       "  </thead>\n",
       "  <tbody>\n",
       "    <tr>\n",
       "      <th>1</th>\n",
       "      <td>Unknown</td>\n",
       "      <td>[7, 22]</td>\n",
       "      <td>2019</td>\n",
       "      <td>2.75</td>\n",
       "      <td>[42]</td>\n",
       "      <td>1</td>\n",
       "      <td>Коркем Tower</td>\n",
       "      <td>15.0000</td>\n",
       "    </tr>\n",
       "    <tr>\n",
       "      <th>2</th>\n",
       "      <td>черновая отделка</td>\n",
       "      <td>[4, 9]</td>\n",
       "      <td>2020</td>\n",
       "      <td>2.75</td>\n",
       "      <td>[]</td>\n",
       "      <td>1</td>\n",
       "      <td>Unknown</td>\n",
       "      <td>8.3055</td>\n",
       "    </tr>\n",
       "    <tr>\n",
       "      <th>3</th>\n",
       "      <td>евроремонт</td>\n",
       "      <td>[4, 10]</td>\n",
       "      <td>2013</td>\n",
       "      <td>2.75</td>\n",
       "      <td>[87]</td>\n",
       "      <td>2</td>\n",
       "      <td>Нурсая Бонита</td>\n",
       "      <td>38.0000</td>\n",
       "    </tr>\n",
       "  </tbody>\n",
       "</table>\n",
       "</div>"
      ],
      "text/plain": [
       "         renovation    floor year_built  ceiling square rooms     house_name  \\\n",
       "1           Unknown  [7, 22]       2019     2.75   [42]     1   Коркем Tower   \n",
       "2  черновая отделка   [4, 9]       2020     2.75     []     1        Unknown   \n",
       "3        евроремонт  [4, 10]       2013     2.75   [87]     2  Нурсая Бонита   \n",
       "\n",
       "     price  \n",
       "1  15.0000  \n",
       "2   8.3055  \n",
       "3  38.0000  "
      ]
     },
     "execution_count": 69,
     "metadata": {},
     "output_type": "execute_result"
    }
   ],
   "source": [
    "data.renovation.fillna(\"Unknown\", inplace=True)\n",
    "data.head(3)"
   ]
  },
  {
   "cell_type": "markdown",
   "metadata": {},
   "source": [
    "## Приведение к единому формату / Новые переменные"
   ]
  },
  {
   "cell_type": "code",
   "execution_count": 70,
   "metadata": {
    "ExecuteTime": {
     "end_time": "2020-05-22T09:23:08.577987Z",
     "start_time": "2020-05-22T09:23:08.571956Z"
    }
   },
   "outputs": [
    {
     "data": {
      "text/html": [
       "<div>\n",
       "<style scoped>\n",
       "    .dataframe tbody tr th:only-of-type {\n",
       "        vertical-align: middle;\n",
       "    }\n",
       "\n",
       "    .dataframe tbody tr th {\n",
       "        vertical-align: top;\n",
       "    }\n",
       "\n",
       "    .dataframe thead th {\n",
       "        text-align: right;\n",
       "    }\n",
       "</style>\n",
       "<table border=\"1\" class=\"dataframe\">\n",
       "  <thead>\n",
       "    <tr style=\"text-align: right;\">\n",
       "      <th></th>\n",
       "      <th>renovation</th>\n",
       "      <th>floor</th>\n",
       "      <th>year_built</th>\n",
       "      <th>ceiling</th>\n",
       "      <th>square</th>\n",
       "      <th>rooms</th>\n",
       "      <th>house_name</th>\n",
       "      <th>price</th>\n",
       "    </tr>\n",
       "  </thead>\n",
       "  <tbody>\n",
       "    <tr>\n",
       "      <th>1</th>\n",
       "      <td>Unknown</td>\n",
       "      <td>[7, 22]</td>\n",
       "      <td>2019</td>\n",
       "      <td>2.75</td>\n",
       "      <td>[42]</td>\n",
       "      <td>1</td>\n",
       "      <td>Коркем Tower</td>\n",
       "      <td>15.0000</td>\n",
       "    </tr>\n",
       "    <tr>\n",
       "      <th>2</th>\n",
       "      <td>черновая отделка</td>\n",
       "      <td>[4, 9]</td>\n",
       "      <td>2020</td>\n",
       "      <td>2.75</td>\n",
       "      <td>[]</td>\n",
       "      <td>1</td>\n",
       "      <td>Unknown</td>\n",
       "      <td>8.3055</td>\n",
       "    </tr>\n",
       "    <tr>\n",
       "      <th>3</th>\n",
       "      <td>евроремонт</td>\n",
       "      <td>[4, 10]</td>\n",
       "      <td>2013</td>\n",
       "      <td>2.75</td>\n",
       "      <td>[87]</td>\n",
       "      <td>2</td>\n",
       "      <td>Нурсая Бонита</td>\n",
       "      <td>38.0000</td>\n",
       "    </tr>\n",
       "  </tbody>\n",
       "</table>\n",
       "</div>"
      ],
      "text/plain": [
       "         renovation    floor year_built  ceiling square rooms     house_name  \\\n",
       "1           Unknown  [7, 22]       2019     2.75   [42]     1   Коркем Tower   \n",
       "2  черновая отделка   [4, 9]       2020     2.75     []     1        Unknown   \n",
       "3        евроремонт  [4, 10]       2013     2.75   [87]     2  Нурсая Бонита   \n",
       "\n",
       "     price  \n",
       "1  15.0000  \n",
       "2   8.3055  \n",
       "3  38.0000  "
      ]
     },
     "execution_count": 70,
     "metadata": {},
     "output_type": "execute_result"
    }
   ],
   "source": [
    "data.head(3)"
   ]
  },
  {
   "cell_type": "code",
   "execution_count": 72,
   "metadata": {
    "ExecuteTime": {
     "end_time": "2020-05-22T09:23:03.514153Z",
     "start_time": "2020-05-22T09:23:03.509624Z"
    }
   },
   "outputs": [
    {
     "data": {
      "text/html": [
       "<div>\n",
       "<style scoped>\n",
       "    .dataframe tbody tr th:only-of-type {\n",
       "        vertical-align: middle;\n",
       "    }\n",
       "\n",
       "    .dataframe tbody tr th {\n",
       "        vertical-align: top;\n",
       "    }\n",
       "\n",
       "    .dataframe thead th {\n",
       "        text-align: right;\n",
       "    }\n",
       "</style>\n",
       "<table border=\"1\" class=\"dataframe\">\n",
       "  <thead>\n",
       "    <tr style=\"text-align: right;\">\n",
       "      <th></th>\n",
       "      <th>renovation</th>\n",
       "      <th>floor</th>\n",
       "      <th>year_built</th>\n",
       "      <th>ceiling</th>\n",
       "      <th>square</th>\n",
       "      <th>rooms</th>\n",
       "      <th>house_name</th>\n",
       "      <th>price</th>\n",
       "      <th>house_age</th>\n",
       "    </tr>\n",
       "  </thead>\n",
       "  <tbody>\n",
       "    <tr>\n",
       "      <th>1</th>\n",
       "      <td>Unknown</td>\n",
       "      <td>[7, 22]</td>\n",
       "      <td>2019</td>\n",
       "      <td>2.75</td>\n",
       "      <td>[42]</td>\n",
       "      <td>1</td>\n",
       "      <td>Коркем Tower</td>\n",
       "      <td>15.0000</td>\n",
       "      <td>1</td>\n",
       "    </tr>\n",
       "    <tr>\n",
       "      <th>2</th>\n",
       "      <td>черновая отделка</td>\n",
       "      <td>[4, 9]</td>\n",
       "      <td>2020</td>\n",
       "      <td>2.75</td>\n",
       "      <td>[]</td>\n",
       "      <td>1</td>\n",
       "      <td>Unknown</td>\n",
       "      <td>8.3055</td>\n",
       "      <td>0</td>\n",
       "    </tr>\n",
       "    <tr>\n",
       "      <th>3</th>\n",
       "      <td>евроремонт</td>\n",
       "      <td>[4, 10]</td>\n",
       "      <td>2013</td>\n",
       "      <td>2.75</td>\n",
       "      <td>[87]</td>\n",
       "      <td>2</td>\n",
       "      <td>Нурсая Бонита</td>\n",
       "      <td>38.0000</td>\n",
       "      <td>7</td>\n",
       "    </tr>\n",
       "    <tr>\n",
       "      <th>4</th>\n",
       "      <td>хорошее</td>\n",
       "      <td>[4, 12]</td>\n",
       "      <td>2007</td>\n",
       "      <td>2.75</td>\n",
       "      <td>[70]</td>\n",
       "      <td>3</td>\n",
       "      <td>7 Бочек</td>\n",
       "      <td>24.0000</td>\n",
       "      <td>13</td>\n",
       "    </tr>\n",
       "    <tr>\n",
       "      <th>5</th>\n",
       "      <td>Unknown</td>\n",
       "      <td>[1, 3]</td>\n",
       "      <td>2021</td>\n",
       "      <td>2.75</td>\n",
       "      <td>[8]</td>\n",
       "      <td>1</td>\n",
       "      <td>МЖК Астана</td>\n",
       "      <td>5.5980</td>\n",
       "      <td>-1</td>\n",
       "    </tr>\n",
       "    <tr>\n",
       "      <th>6</th>\n",
       "      <td>черновая отделка</td>\n",
       "      <td>[9, 9]</td>\n",
       "      <td>2020</td>\n",
       "      <td>2.75</td>\n",
       "      <td>[88]</td>\n",
       "      <td>3</td>\n",
       "      <td>Panorama Park</td>\n",
       "      <td>32.5000</td>\n",
       "      <td>0</td>\n",
       "    </tr>\n",
       "    <tr>\n",
       "      <th>7</th>\n",
       "      <td>хорошее</td>\n",
       "      <td>[7, 9]</td>\n",
       "      <td>2017</td>\n",
       "      <td>2.75</td>\n",
       "      <td>[70]</td>\n",
       "      <td>2</td>\n",
       "      <td>Unknown</td>\n",
       "      <td>20.0000</td>\n",
       "      <td>3</td>\n",
       "    </tr>\n",
       "  </tbody>\n",
       "</table>\n",
       "</div>"
      ],
      "text/plain": [
       "         renovation    floor year_built  ceiling square rooms     house_name  \\\n",
       "1           Unknown  [7, 22]       2019     2.75   [42]     1   Коркем Tower   \n",
       "2  черновая отделка   [4, 9]       2020     2.75     []     1        Unknown   \n",
       "3        евроремонт  [4, 10]       2013     2.75   [87]     2  Нурсая Бонита   \n",
       "4           хорошее  [4, 12]       2007     2.75   [70]     3        7 Бочек   \n",
       "5           Unknown   [1, 3]       2021     2.75    [8]     1     МЖК Астана   \n",
       "6  черновая отделка   [9, 9]       2020     2.75   [88]     3  Panorama Park   \n",
       "7           хорошее   [7, 9]       2017     2.75   [70]     2        Unknown   \n",
       "\n",
       "     price  house_age  \n",
       "1  15.0000          1  \n",
       "2   8.3055          0  \n",
       "3  38.0000          7  \n",
       "4  24.0000         13  \n",
       "5   5.5980         -1  \n",
       "6  32.5000          0  \n",
       "7  20.0000          3  "
      ]
     },
     "execution_count": 72,
     "metadata": {},
     "output_type": "execute_result"
    }
   ],
   "source": [
    "data[\"house_age\"] = 2020 - data[\"year_built\"].astype(int)\n",
    "data.head(7)"
   ]
  },
  {
   "cell_type": "code",
   "execution_count": 73,
   "metadata": {
    "ExecuteTime": {
     "end_time": "2020-05-22T09:22:57.562059Z",
     "start_time": "2020-05-22T09:22:57.559044Z"
    }
   },
   "outputs": [
    {
     "data": {
      "text/html": [
       "<div>\n",
       "<style scoped>\n",
       "    .dataframe tbody tr th:only-of-type {\n",
       "        vertical-align: middle;\n",
       "    }\n",
       "\n",
       "    .dataframe tbody tr th {\n",
       "        vertical-align: top;\n",
       "    }\n",
       "\n",
       "    .dataframe thead th {\n",
       "        text-align: right;\n",
       "    }\n",
       "</style>\n",
       "<table border=\"1\" class=\"dataframe\">\n",
       "  <thead>\n",
       "    <tr style=\"text-align: right;\">\n",
       "      <th></th>\n",
       "      <th>renovation</th>\n",
       "      <th>floor</th>\n",
       "      <th>year_built</th>\n",
       "      <th>ceiling</th>\n",
       "      <th>square</th>\n",
       "      <th>rooms</th>\n",
       "      <th>house_name</th>\n",
       "      <th>price</th>\n",
       "      <th>house_age</th>\n",
       "      <th>square_total</th>\n",
       "      <th>square_living</th>\n",
       "      <th>square_kitchen</th>\n",
       "    </tr>\n",
       "  </thead>\n",
       "  <tbody>\n",
       "    <tr>\n",
       "      <th>1</th>\n",
       "      <td>Unknown</td>\n",
       "      <td>[7, 22]</td>\n",
       "      <td>2019</td>\n",
       "      <td>2.75</td>\n",
       "      <td>[42]</td>\n",
       "      <td>1</td>\n",
       "      <td>Коркем Tower</td>\n",
       "      <td>15.0000</td>\n",
       "      <td>1</td>\n",
       "      <td>42</td>\n",
       "      <td>21.0</td>\n",
       "      <td>6.0</td>\n",
       "    </tr>\n",
       "    <tr>\n",
       "      <th>2</th>\n",
       "      <td>черновая отделка</td>\n",
       "      <td>[4, 9]</td>\n",
       "      <td>2020</td>\n",
       "      <td>2.75</td>\n",
       "      <td>[]</td>\n",
       "      <td>1</td>\n",
       "      <td>Unknown</td>\n",
       "      <td>8.3055</td>\n",
       "      <td>0</td>\n",
       "      <td>30</td>\n",
       "      <td>21.0</td>\n",
       "      <td>6.0</td>\n",
       "    </tr>\n",
       "    <tr>\n",
       "      <th>3</th>\n",
       "      <td>евроремонт</td>\n",
       "      <td>[4, 10]</td>\n",
       "      <td>2013</td>\n",
       "      <td>2.75</td>\n",
       "      <td>[87]</td>\n",
       "      <td>2</td>\n",
       "      <td>Нурсая Бонита</td>\n",
       "      <td>38.0000</td>\n",
       "      <td>7</td>\n",
       "      <td>87</td>\n",
       "      <td>42.0</td>\n",
       "      <td>12.0</td>\n",
       "    </tr>\n",
       "    <tr>\n",
       "      <th>4</th>\n",
       "      <td>хорошее</td>\n",
       "      <td>[4, 12]</td>\n",
       "      <td>2007</td>\n",
       "      <td>2.75</td>\n",
       "      <td>[70]</td>\n",
       "      <td>3</td>\n",
       "      <td>7 Бочек</td>\n",
       "      <td>24.0000</td>\n",
       "      <td>13</td>\n",
       "      <td>70</td>\n",
       "      <td>63.0</td>\n",
       "      <td>18.0</td>\n",
       "    </tr>\n",
       "    <tr>\n",
       "      <th>5</th>\n",
       "      <td>Unknown</td>\n",
       "      <td>[1, 3]</td>\n",
       "      <td>2021</td>\n",
       "      <td>2.75</td>\n",
       "      <td>[8]</td>\n",
       "      <td>1</td>\n",
       "      <td>МЖК Астана</td>\n",
       "      <td>5.5980</td>\n",
       "      <td>-1</td>\n",
       "      <td>8</td>\n",
       "      <td>21.0</td>\n",
       "      <td>6.0</td>\n",
       "    </tr>\n",
       "  </tbody>\n",
       "</table>\n",
       "</div>"
      ],
      "text/plain": [
       "         renovation    floor year_built  ceiling square rooms     house_name  \\\n",
       "1           Unknown  [7, 22]       2019     2.75   [42]     1   Коркем Tower   \n",
       "2  черновая отделка   [4, 9]       2020     2.75     []     1        Unknown   \n",
       "3        евроремонт  [4, 10]       2013     2.75   [87]     2  Нурсая Бонита   \n",
       "4           хорошее  [4, 12]       2007     2.75   [70]     3        7 Бочек   \n",
       "5           Unknown   [1, 3]       2021     2.75    [8]     1     МЖК Астана   \n",
       "\n",
       "     price  house_age  square_total  square_living  square_kitchen  \n",
       "1  15.0000          1            42           21.0             6.0  \n",
       "2   8.3055          0            30           21.0             6.0  \n",
       "3  38.0000          7            87           42.0            12.0  \n",
       "4  24.0000         13            70           63.0            18.0  \n",
       "5   5.5980         -1             8           21.0             6.0  "
      ]
     },
     "execution_count": 73,
     "metadata": {},
     "output_type": "execute_result"
    }
   ],
   "source": [
    "square_total, square_living, square_kitchen = [], [], []\n",
    "for ind, row in data.iterrows():\n",
    "    if \"]\" in row[\"square\"]:\n",
    "        i = []\n",
    "    else:\n",
    "        i = row[\"square\"]\n",
    "        j = int(row[\"rooms\"]) * 30\n",
    "    square_n = len(i)\n",
    "    if square_n==0:\n",
    "        square_total.append(j)\n",
    "        square_living.append(j * 70 / 100)\n",
    "        square_kitchen.append(j * 20 / 100)\n",
    "    elif square_n==1:\n",
    "        square_total.append(i[0])\n",
    "        square_living.append(j * 70 / 100)\n",
    "        square_kitchen.append(j * 20 / 100)\n",
    "    elif square_n==2:\n",
    "        square_total.append(i[0])\n",
    "        square_living.append(i[1])\n",
    "        square_kitchen.append(j * 20 / 100)\n",
    "    elif square_n==3:\n",
    "        square_total.append(i[0])\n",
    "        square_living.append(i[1])\n",
    "        square_kitchen.append(i[2])\n",
    "        \n",
    "data[\"square_total\"] = square_total\n",
    "data[\"square_living\"] = square_living\n",
    "data[\"square_kitchen\"] = square_kitchen\n",
    "\n",
    "data.head()"
   ]
  },
  {
   "cell_type": "code",
   "execution_count": 74,
   "metadata": {
    "ExecuteTime": {
     "end_time": "2020-05-22T09:22:49.719662Z",
     "start_time": "2020-05-22T09:22:49.714488Z"
    }
   },
   "outputs": [
    {
     "data": {
      "text/html": [
       "<div>\n",
       "<style scoped>\n",
       "    .dataframe tbody tr th:only-of-type {\n",
       "        vertical-align: middle;\n",
       "    }\n",
       "\n",
       "    .dataframe tbody tr th {\n",
       "        vertical-align: top;\n",
       "    }\n",
       "\n",
       "    .dataframe thead th {\n",
       "        text-align: right;\n",
       "    }\n",
       "</style>\n",
       "<table border=\"1\" class=\"dataframe\">\n",
       "  <thead>\n",
       "    <tr style=\"text-align: right;\">\n",
       "      <th></th>\n",
       "      <th>renovation</th>\n",
       "      <th>floor</th>\n",
       "      <th>year_built</th>\n",
       "      <th>ceiling</th>\n",
       "      <th>square</th>\n",
       "      <th>rooms</th>\n",
       "      <th>house_name</th>\n",
       "      <th>price</th>\n",
       "      <th>house_age</th>\n",
       "      <th>square_total</th>\n",
       "      <th>square_living</th>\n",
       "      <th>square_kitchen</th>\n",
       "      <th>floor_flat</th>\n",
       "      <th>floors_total</th>\n",
       "    </tr>\n",
       "  </thead>\n",
       "  <tbody>\n",
       "    <tr>\n",
       "      <th>1</th>\n",
       "      <td>Unknown</td>\n",
       "      <td>[7, 22]</td>\n",
       "      <td>2019</td>\n",
       "      <td>2.75</td>\n",
       "      <td>[42]</td>\n",
       "      <td>1</td>\n",
       "      <td>Коркем Tower</td>\n",
       "      <td>15.0000</td>\n",
       "      <td>1</td>\n",
       "      <td>42</td>\n",
       "      <td>21.0</td>\n",
       "      <td>6.0</td>\n",
       "      <td>7.0</td>\n",
       "      <td>22.0</td>\n",
       "    </tr>\n",
       "    <tr>\n",
       "      <th>2</th>\n",
       "      <td>черновая отделка</td>\n",
       "      <td>[4, 9]</td>\n",
       "      <td>2020</td>\n",
       "      <td>2.75</td>\n",
       "      <td>[]</td>\n",
       "      <td>1</td>\n",
       "      <td>Unknown</td>\n",
       "      <td>8.3055</td>\n",
       "      <td>0</td>\n",
       "      <td>30</td>\n",
       "      <td>21.0</td>\n",
       "      <td>6.0</td>\n",
       "      <td>4.0</td>\n",
       "      <td>9.0</td>\n",
       "    </tr>\n",
       "    <tr>\n",
       "      <th>3</th>\n",
       "      <td>евроремонт</td>\n",
       "      <td>[4, 10]</td>\n",
       "      <td>2013</td>\n",
       "      <td>2.75</td>\n",
       "      <td>[87]</td>\n",
       "      <td>2</td>\n",
       "      <td>Нурсая Бонита</td>\n",
       "      <td>38.0000</td>\n",
       "      <td>7</td>\n",
       "      <td>87</td>\n",
       "      <td>42.0</td>\n",
       "      <td>12.0</td>\n",
       "      <td>4.0</td>\n",
       "      <td>10.0</td>\n",
       "    </tr>\n",
       "    <tr>\n",
       "      <th>4</th>\n",
       "      <td>хорошее</td>\n",
       "      <td>[4, 12]</td>\n",
       "      <td>2007</td>\n",
       "      <td>2.75</td>\n",
       "      <td>[70]</td>\n",
       "      <td>3</td>\n",
       "      <td>7 Бочек</td>\n",
       "      <td>24.0000</td>\n",
       "      <td>13</td>\n",
       "      <td>70</td>\n",
       "      <td>63.0</td>\n",
       "      <td>18.0</td>\n",
       "      <td>4.0</td>\n",
       "      <td>12.0</td>\n",
       "    </tr>\n",
       "    <tr>\n",
       "      <th>5</th>\n",
       "      <td>Unknown</td>\n",
       "      <td>[1, 3]</td>\n",
       "      <td>2021</td>\n",
       "      <td>2.75</td>\n",
       "      <td>[8]</td>\n",
       "      <td>1</td>\n",
       "      <td>МЖК Астана</td>\n",
       "      <td>5.5980</td>\n",
       "      <td>-1</td>\n",
       "      <td>8</td>\n",
       "      <td>21.0</td>\n",
       "      <td>6.0</td>\n",
       "      <td>1.0</td>\n",
       "      <td>3.0</td>\n",
       "    </tr>\n",
       "  </tbody>\n",
       "</table>\n",
       "</div>"
      ],
      "text/plain": [
       "         renovation    floor year_built  ceiling square rooms     house_name  \\\n",
       "1           Unknown  [7, 22]       2019     2.75   [42]     1   Коркем Tower   \n",
       "2  черновая отделка   [4, 9]       2020     2.75     []     1        Unknown   \n",
       "3        евроремонт  [4, 10]       2013     2.75   [87]     2  Нурсая Бонита   \n",
       "4           хорошее  [4, 12]       2007     2.75   [70]     3        7 Бочек   \n",
       "5           Unknown   [1, 3]       2021     2.75    [8]     1     МЖК Астана   \n",
       "\n",
       "     price  house_age  square_total  square_living  square_kitchen  \\\n",
       "1  15.0000          1            42           21.0             6.0   \n",
       "2   8.3055          0            30           21.0             6.0   \n",
       "3  38.0000          7            87           42.0            12.0   \n",
       "4  24.0000         13            70           63.0            18.0   \n",
       "5   5.5980         -1             8           21.0             6.0   \n",
       "\n",
       "   floor_flat  floors_total  \n",
       "1         7.0          22.0  \n",
       "2         4.0           9.0  \n",
       "3         4.0          10.0  \n",
       "4         4.0          12.0  \n",
       "5         1.0           3.0  "
      ]
     },
     "execution_count": 74,
     "metadata": {},
     "output_type": "execute_result"
    }
   ],
   "source": [
    "floor_flat, floors_total = [], []\n",
    "for i in data.floor:\n",
    "    if i == '[]':\n",
    "        i = []\n",
    "    floor_n = len(i)\n",
    "    if floor_n == 0:\n",
    "        floor_flat.append(np.nan)\n",
    "        floors_total.append(np.nan)\n",
    "    elif floor_n==1:\n",
    "        floor_flat.append(int(i[0]))\n",
    "        floors_total.append(np.nan)\n",
    "    elif floor_n==2:\n",
    "        floor_flat.append(int(i[0]))\n",
    "        floors_total.append(int(i[1]))\n",
    "        \n",
    "data[\"floor_flat\"] = floor_flat\n",
    "data[\"floors_total\"] = floors_total\n",
    "\n",
    "data.head()"
   ]
  },
  {
   "cell_type": "code",
   "execution_count": 75,
   "metadata": {
    "ExecuteTime": {
     "end_time": "2020-05-22T09:15:59.060524Z",
     "start_time": "2020-05-22T09:15:59.052043Z"
    }
   },
   "outputs": [],
   "source": [
    "data.year_built = data.year_built.astype(int)\n",
    "data.rooms = data.rooms.astype(int)"
   ]
  },
  {
   "cell_type": "code",
   "execution_count": 76,
   "metadata": {
    "ExecuteTime": {
     "end_time": "2020-05-22T09:22:45.822339Z",
     "start_time": "2020-05-22T09:22:45.819308Z"
    }
   },
   "outputs": [
    {
     "data": {
      "text/html": [
       "<div>\n",
       "<style scoped>\n",
       "    .dataframe tbody tr th:only-of-type {\n",
       "        vertical-align: middle;\n",
       "    }\n",
       "\n",
       "    .dataframe tbody tr th {\n",
       "        vertical-align: top;\n",
       "    }\n",
       "\n",
       "    .dataframe thead th {\n",
       "        text-align: right;\n",
       "    }\n",
       "</style>\n",
       "<table border=\"1\" class=\"dataframe\">\n",
       "  <thead>\n",
       "    <tr style=\"text-align: right;\">\n",
       "      <th></th>\n",
       "      <th>renovation</th>\n",
       "      <th>ceiling</th>\n",
       "      <th>rooms</th>\n",
       "      <th>house_name</th>\n",
       "      <th>price</th>\n",
       "      <th>house_age</th>\n",
       "      <th>square_total</th>\n",
       "      <th>square_living</th>\n",
       "      <th>square_kitchen</th>\n",
       "      <th>floor_flat</th>\n",
       "      <th>floors_total</th>\n",
       "    </tr>\n",
       "  </thead>\n",
       "  <tbody>\n",
       "    <tr>\n",
       "      <th>1</th>\n",
       "      <td>Unknown</td>\n",
       "      <td>2.75</td>\n",
       "      <td>1</td>\n",
       "      <td>Коркем Tower</td>\n",
       "      <td>15.0000</td>\n",
       "      <td>1</td>\n",
       "      <td>42</td>\n",
       "      <td>21.0</td>\n",
       "      <td>6.0</td>\n",
       "      <td>7.0</td>\n",
       "      <td>22.0</td>\n",
       "    </tr>\n",
       "    <tr>\n",
       "      <th>2</th>\n",
       "      <td>черновая отделка</td>\n",
       "      <td>2.75</td>\n",
       "      <td>1</td>\n",
       "      <td>Unknown</td>\n",
       "      <td>8.3055</td>\n",
       "      <td>0</td>\n",
       "      <td>30</td>\n",
       "      <td>21.0</td>\n",
       "      <td>6.0</td>\n",
       "      <td>4.0</td>\n",
       "      <td>9.0</td>\n",
       "    </tr>\n",
       "    <tr>\n",
       "      <th>3</th>\n",
       "      <td>евроремонт</td>\n",
       "      <td>2.75</td>\n",
       "      <td>2</td>\n",
       "      <td>Нурсая Бонита</td>\n",
       "      <td>38.0000</td>\n",
       "      <td>7</td>\n",
       "      <td>87</td>\n",
       "      <td>42.0</td>\n",
       "      <td>12.0</td>\n",
       "      <td>4.0</td>\n",
       "      <td>10.0</td>\n",
       "    </tr>\n",
       "  </tbody>\n",
       "</table>\n",
       "</div>"
      ],
      "text/plain": [
       "         renovation  ceiling  rooms     house_name    price  house_age  \\\n",
       "1           Unknown     2.75      1   Коркем Tower  15.0000          1   \n",
       "2  черновая отделка     2.75      1        Unknown   8.3055          0   \n",
       "3        евроремонт     2.75      2  Нурсая Бонита  38.0000          7   \n",
       "\n",
       "   square_total  square_living  square_kitchen  floor_flat  floors_total  \n",
       "1            42           21.0             6.0         7.0          22.0  \n",
       "2            30           21.0             6.0         4.0           9.0  \n",
       "3            87           42.0            12.0         4.0          10.0  "
      ]
     },
     "execution_count": 76,
     "metadata": {},
     "output_type": "execute_result"
    }
   ],
   "source": [
    "data.drop([\"floor\", \"square\", \"year_built\"], axis=1, inplace=True)\n",
    "data.head(3)"
   ]
  },
  {
   "cell_type": "markdown",
   "metadata": {},
   "source": [
    "# Разведочный анализ"
   ]
  },
  {
   "cell_type": "code",
   "execution_count": 77,
   "metadata": {
    "ExecuteTime": {
     "end_time": "2020-05-22T09:22:41.242481Z",
     "start_time": "2020-05-22T09:22:41.240098Z"
    }
   },
   "outputs": [
    {
     "name": "stdout",
     "output_type": "stream",
     "text": [
      "<class 'pandas.core.frame.DataFrame'>\n",
      "Int64Index: 10534 entries, 1 to 10801\n",
      "Data columns (total 11 columns):\n",
      "renovation        10534 non-null object\n",
      "ceiling           10534 non-null float64\n",
      "rooms             10534 non-null int64\n",
      "house_name        10534 non-null object\n",
      "price             10534 non-null float64\n",
      "house_age         10534 non-null int64\n",
      "square_total      10534 non-null int64\n",
      "square_living     10534 non-null float64\n",
      "square_kitchen    10534 non-null float64\n",
      "floor_flat        9801 non-null float64\n",
      "floors_total      9615 non-null float64\n",
      "dtypes: float64(6), int64(3), object(2)\n",
      "memory usage: 987.6+ KB\n"
     ]
    },
    {
     "data": {
      "text/html": [
       "<div>\n",
       "<style scoped>\n",
       "    .dataframe tbody tr th:only-of-type {\n",
       "        vertical-align: middle;\n",
       "    }\n",
       "\n",
       "    .dataframe tbody tr th {\n",
       "        vertical-align: top;\n",
       "    }\n",
       "\n",
       "    .dataframe thead th {\n",
       "        text-align: right;\n",
       "    }\n",
       "</style>\n",
       "<table border=\"1\" class=\"dataframe\">\n",
       "  <thead>\n",
       "    <tr style=\"text-align: right;\">\n",
       "      <th></th>\n",
       "      <th>renovation</th>\n",
       "      <th>ceiling</th>\n",
       "      <th>rooms</th>\n",
       "      <th>house_name</th>\n",
       "      <th>price</th>\n",
       "      <th>house_age</th>\n",
       "      <th>square_total</th>\n",
       "      <th>square_living</th>\n",
       "      <th>square_kitchen</th>\n",
       "      <th>floor_flat</th>\n",
       "      <th>floors_total</th>\n",
       "    </tr>\n",
       "  </thead>\n",
       "  <tbody>\n",
       "  </tbody>\n",
       "</table>\n",
       "</div>"
      ],
      "text/plain": [
       "Empty DataFrame\n",
       "Columns: [renovation, ceiling, rooms, house_name, price, house_age, square_total, square_living, square_kitchen, floor_flat, floors_total]\n",
       "Index: []"
      ]
     },
     "execution_count": 77,
     "metadata": {},
     "output_type": "execute_result"
    }
   ],
   "source": [
    "data.info()\n",
    "data[data.square_total==0]"
   ]
  },
  {
   "cell_type": "code",
   "execution_count": 78,
   "metadata": {
    "ExecuteTime": {
     "end_time": "2020-05-22T09:22:36.169503Z",
     "start_time": "2020-05-22T09:22:36.165380Z"
    }
   },
   "outputs": [
    {
     "data": {
      "text/html": [
       "<div>\n",
       "<style scoped>\n",
       "    .dataframe tbody tr th:only-of-type {\n",
       "        vertical-align: middle;\n",
       "    }\n",
       "\n",
       "    .dataframe tbody tr th {\n",
       "        vertical-align: top;\n",
       "    }\n",
       "\n",
       "    .dataframe thead th {\n",
       "        text-align: right;\n",
       "    }\n",
       "</style>\n",
       "<table border=\"1\" class=\"dataframe\">\n",
       "  <thead>\n",
       "    <tr style=\"text-align: right;\">\n",
       "      <th></th>\n",
       "      <th>renovation</th>\n",
       "      <th>ceiling</th>\n",
       "      <th>rooms</th>\n",
       "      <th>house_name</th>\n",
       "      <th>price</th>\n",
       "      <th>house_age</th>\n",
       "      <th>square_total</th>\n",
       "      <th>square_living</th>\n",
       "      <th>square_kitchen</th>\n",
       "      <th>floor_flat</th>\n",
       "      <th>floors_total</th>\n",
       "      <th>price_square</th>\n",
       "    </tr>\n",
       "  </thead>\n",
       "  <tbody>\n",
       "    <tr>\n",
       "      <th>1</th>\n",
       "      <td>Unknown</td>\n",
       "      <td>2.75</td>\n",
       "      <td>1</td>\n",
       "      <td>Коркем Tower</td>\n",
       "      <td>15.0000</td>\n",
       "      <td>1</td>\n",
       "      <td>42</td>\n",
       "      <td>21.0</td>\n",
       "      <td>6.0</td>\n",
       "      <td>7.0</td>\n",
       "      <td>22.0</td>\n",
       "      <td>357142.86</td>\n",
       "    </tr>\n",
       "    <tr>\n",
       "      <th>2</th>\n",
       "      <td>черновая отделка</td>\n",
       "      <td>2.75</td>\n",
       "      <td>1</td>\n",
       "      <td>Unknown</td>\n",
       "      <td>8.3055</td>\n",
       "      <td>0</td>\n",
       "      <td>30</td>\n",
       "      <td>21.0</td>\n",
       "      <td>6.0</td>\n",
       "      <td>4.0</td>\n",
       "      <td>9.0</td>\n",
       "      <td>276850.00</td>\n",
       "    </tr>\n",
       "    <tr>\n",
       "      <th>3</th>\n",
       "      <td>евроремонт</td>\n",
       "      <td>2.75</td>\n",
       "      <td>2</td>\n",
       "      <td>Нурсая Бонита</td>\n",
       "      <td>38.0000</td>\n",
       "      <td>7</td>\n",
       "      <td>87</td>\n",
       "      <td>42.0</td>\n",
       "      <td>12.0</td>\n",
       "      <td>4.0</td>\n",
       "      <td>10.0</td>\n",
       "      <td>436781.61</td>\n",
       "    </tr>\n",
       "    <tr>\n",
       "      <th>4</th>\n",
       "      <td>хорошее</td>\n",
       "      <td>2.75</td>\n",
       "      <td>3</td>\n",
       "      <td>7 Бочек</td>\n",
       "      <td>24.0000</td>\n",
       "      <td>13</td>\n",
       "      <td>70</td>\n",
       "      <td>63.0</td>\n",
       "      <td>18.0</td>\n",
       "      <td>4.0</td>\n",
       "      <td>12.0</td>\n",
       "      <td>342857.14</td>\n",
       "    </tr>\n",
       "    <tr>\n",
       "      <th>5</th>\n",
       "      <td>Unknown</td>\n",
       "      <td>2.75</td>\n",
       "      <td>1</td>\n",
       "      <td>МЖК Астана</td>\n",
       "      <td>5.5980</td>\n",
       "      <td>-1</td>\n",
       "      <td>8</td>\n",
       "      <td>21.0</td>\n",
       "      <td>6.0</td>\n",
       "      <td>1.0</td>\n",
       "      <td>3.0</td>\n",
       "      <td>699750.00</td>\n",
       "    </tr>\n",
       "  </tbody>\n",
       "</table>\n",
       "</div>"
      ],
      "text/plain": [
       "         renovation  ceiling  rooms     house_name    price  house_age  \\\n",
       "1           Unknown     2.75      1   Коркем Tower  15.0000          1   \n",
       "2  черновая отделка     2.75      1        Unknown   8.3055          0   \n",
       "3        евроремонт     2.75      2  Нурсая Бонита  38.0000          7   \n",
       "4           хорошее     2.75      3        7 Бочек  24.0000         13   \n",
       "5           Unknown     2.75      1     МЖК Астана   5.5980         -1   \n",
       "\n",
       "   square_total  square_living  square_kitchen  floor_flat  floors_total  \\\n",
       "1            42           21.0             6.0         7.0          22.0   \n",
       "2            30           21.0             6.0         4.0           9.0   \n",
       "3            87           42.0            12.0         4.0          10.0   \n",
       "4            70           63.0            18.0         4.0          12.0   \n",
       "5             8           21.0             6.0         1.0           3.0   \n",
       "\n",
       "   price_square  \n",
       "1     357142.86  \n",
       "2     276850.00  \n",
       "3     436781.61  \n",
       "4     342857.14  \n",
       "5     699750.00  "
      ]
     },
     "execution_count": 78,
     "metadata": {},
     "output_type": "execute_result"
    }
   ],
   "source": [
    "data[\"price_square\"] = round(data[\"price\"] * 1000000 / data[\"square_total\"],2)\n",
    "data.head()"
   ]
  },
  {
   "cell_type": "code",
   "execution_count": 79,
   "metadata": {
    "ExecuteTime": {
     "end_time": "2020-05-22T09:22:31.804364Z",
     "start_time": "2020-05-22T09:22:31.801476Z"
    }
   },
   "outputs": [
    {
     "data": {
      "text/html": [
       "<div>\n",
       "<style scoped>\n",
       "    .dataframe tbody tr th:only-of-type {\n",
       "        vertical-align: middle;\n",
       "    }\n",
       "\n",
       "    .dataframe tbody tr th {\n",
       "        vertical-align: top;\n",
       "    }\n",
       "\n",
       "    .dataframe thead th {\n",
       "        text-align: right;\n",
       "    }\n",
       "</style>\n",
       "<table border=\"1\" class=\"dataframe\">\n",
       "  <thead>\n",
       "    <tr style=\"text-align: right;\">\n",
       "      <th></th>\n",
       "      <th>cnt</th>\n",
       "    </tr>\n",
       "  </thead>\n",
       "  <tbody>\n",
       "    <tr>\n",
       "      <th>Unknown</th>\n",
       "      <td>2592</td>\n",
       "    </tr>\n",
       "    <tr>\n",
       "      <th>Nova City</th>\n",
       "      <td>300</td>\n",
       "    </tr>\n",
       "    <tr>\n",
       "      <th>Венский квартал</th>\n",
       "      <td>151</td>\n",
       "    </tr>\n",
       "    <tr>\n",
       "      <th>Арнау</th>\n",
       "      <td>146</td>\n",
       "    </tr>\n",
       "    <tr>\n",
       "      <th>Adal</th>\n",
       "      <td>138</td>\n",
       "    </tr>\n",
       "    <tr>\n",
       "      <th>College</th>\n",
       "      <td>137</td>\n",
       "    </tr>\n",
       "    <tr>\n",
       "      <th>Manhattan</th>\n",
       "      <td>134</td>\n",
       "    </tr>\n",
       "    <tr>\n",
       "      <th>Panorama Park</th>\n",
       "      <td>134</td>\n",
       "    </tr>\n",
       "    <tr>\n",
       "      <th>Sezim Qala</th>\n",
       "      <td>133</td>\n",
       "    </tr>\n",
       "    <tr>\n",
       "      <th>Времена года. Лето</th>\n",
       "      <td>132</td>\n",
       "    </tr>\n",
       "    <tr>\n",
       "      <th>Only Sun</th>\n",
       "      <td>128</td>\n",
       "    </tr>\n",
       "    <tr>\n",
       "      <th>Crocus City</th>\n",
       "      <td>125</td>\n",
       "    </tr>\n",
       "    <tr>\n",
       "      <th>BI City Seoul</th>\n",
       "      <td>114</td>\n",
       "    </tr>\n",
       "    <tr>\n",
       "      <th>Аркада</th>\n",
       "      <td>106</td>\n",
       "    </tr>\n",
       "    <tr>\n",
       "      <th>Dream City</th>\n",
       "      <td>105</td>\n",
       "    </tr>\n",
       "  </tbody>\n",
       "</table>\n",
       "</div>"
      ],
      "text/plain": [
       "                     cnt\n",
       "Unknown             2592\n",
       "Nova City            300\n",
       "Венский квартал      151\n",
       "Арнау                146\n",
       "Adal                 138\n",
       "College              137\n",
       "Manhattan            134\n",
       "Panorama Park        134\n",
       "Sezim Qala           133\n",
       "Времена года. Лето   132\n",
       "Only Sun             128\n",
       "Crocus City          125\n",
       "BI City Seoul        114\n",
       "Аркада               106\n",
       "Dream City           105"
      ]
     },
     "execution_count": 79,
     "metadata": {},
     "output_type": "execute_result"
    }
   ],
   "source": [
    "data.house_name.value_counts().to_frame(\"cnt\").sort_values(by=\"cnt\" , ascending=False).head(15)"
   ]
  },
  {
   "cell_type": "code",
   "execution_count": 80,
   "metadata": {
    "ExecuteTime": {
     "end_time": "2020-05-22T09:22:26.621785Z",
     "start_time": "2020-05-22T09:22:26.619279Z"
    }
   },
   "outputs": [
    {
     "data": {
      "image/png": "[encoded data removed]",
      "text/plain": [
       "<Figure size 1080x504 with 1 Axes>"
      ]
     },
     "metadata": {
      "needs_background": "light"
     },
     "output_type": "display_data"
    }
   ],
   "source": [
    "# 1х комнатная\n",
    "table = data[data.rooms==1].groupby(\"house_name\").agg({\"price\": \"mean\"}).reset_index(\n",
    ").sort_values(by=\"price\", ascending=False).head(20)\n",
    "plt.figure(figsize=(15,7))\n",
    "sns.barplot(data=table, x=\"price\", y = \"house_name\")\n",
    "plt.show()"
   ]
  },
  {
   "cell_type": "code",
   "execution_count": 81,
   "metadata": {
    "ExecuteTime": {
     "end_time": "2020-05-22T09:22:20.042986Z",
     "start_time": "2020-05-22T09:22:20.038494Z"
    }
   },
   "outputs": [
    {
     "data": {
      "image/png": "[encoded data removed]",
      "text/plain": [
       "<Figure size 1080x504 with 1 Axes>"
      ]
     },
     "metadata": {
      "needs_background": "light"
     },
     "output_type": "display_data"
    }
   ],
   "source": [
    "# 2х комнатная\n",
    "table = data[data.rooms==2].groupby(\"house_name\").agg({\"price\": \"mean\"}).reset_index(\n",
    ").sort_values(by=\"price\", ascending=False).head(20)\n",
    "plt.figure(figsize=(15,7))\n",
    "sns.barplot(data=table, x=\"price\", y = \"house_name\")\n",
    "plt.show()"
   ]
  },
  {
   "cell_type": "code",
   "execution_count": 82,
   "metadata": {
    "ExecuteTime": {
     "end_time": "2020-05-22T09:22:14.946188Z",
     "start_time": "2020-05-22T09:22:14.943274Z"
    }
   },
   "outputs": [
    {
     "data": {
      "image/png": "[encoded data removed]",
      "text/plain": [
       "<Figure size 1080x504 with 1 Axes>"
      ]
     },
     "metadata": {
      "needs_background": "light"
     },
     "output_type": "display_data"
    }
   ],
   "source": [
    "#3х комнатная\n",
    "table = data[data.rooms==3].groupby(\"house_name\").agg({\"price\": \"mean\"}).reset_index(\n",
    ").sort_values(by=\"price\", ascending=False).head(20)\n",
    "plt.figure(figsize=(15,7))\n",
    "sns.barplot(data=table, x=\"price\", y = \"house_name\")\n",
    "plt.show()"
   ]
  },
  {
   "cell_type": "code",
   "execution_count": 83,
   "metadata": {
    "ExecuteTime": {
     "end_time": "2020-05-22T09:22:10.669278Z",
     "start_time": "2020-05-22T09:22:10.665350Z"
    }
   },
   "outputs": [
    {
     "data": {
      "image/png": "[encoded data removed]",
      "text/plain": [
       "<Figure size 1080x504 with 1 Axes>"
      ]
     },
     "metadata": {
      "needs_background": "light"
     },
     "output_type": "display_data"
    }
   ],
   "source": [
    "# 4х комнатная\n",
    "table = data[data.rooms==4].groupby(\"house_name\").agg({\"price\": \"mean\"}).reset_index(\n",
    ").sort_values(by=\"price\", ascending=False).head(20)\n",
    "plt.figure(figsize=(15,7))\n",
    "sns.barplot(data=table, x=\"price\", y = \"house_name\")\n",
    "plt.show()"
   ]
  },
  {
   "cell_type": "code",
   "execution_count": 84,
   "metadata": {
    "ExecuteTime": {
     "end_time": "2020-05-22T09:22:04.911104Z",
     "start_time": "2020-05-22T09:22:04.908704Z"
    }
   },
   "outputs": [
    {
     "name": "stdout",
     "output_type": "stream",
     "text": [
      "1 - комнатная\n"
     ]
    },
    {
     "data": {
      "image/png": "[encoded data removed]",
      "text/plain": [
       "<Figure size 1080x216 with 1 Axes>"
      ]
     },
     "metadata": {
      "needs_background": "light"
     },
     "output_type": "display_data"
    },
    {
     "name": "stdout",
     "output_type": "stream",
     "text": [
      "2 - комнатная\n"
     ]
    },
    {
     "data": {
      "image/png": "[encoded data removed]",
      "text/plain": [
       "<Figure size 1080x216 with 1 Axes>"
      ]
     },
     "metadata": {
      "needs_background": "light"
     },
     "output_type": "display_data"
    },
    {
     "name": "stdout",
     "output_type": "stream",
     "text": [
      "3 - комнатная\n"
     ]
    },
    {
     "data": {
      "image/png": "[encoded data removed]",
      "text/plain": [
       "<Figure size 1080x216 with 1 Axes>"
      ]
     },
     "metadata": {
      "needs_background": "light"
     },
     "output_type": "display_data"
    },
    {
     "name": "stdout",
     "output_type": "stream",
     "text": [
      "4 - комнатная\n"
     ]
    },
    {
     "data": {
      "image/png": "[encoded data removed]",
      "text/plain": [
       "<Figure size 1080x216 with 1 Axes>"
      ]
     },
     "metadata": {
      "needs_background": "light"
     },
     "output_type": "display_data"
    },
    {
     "name": "stdout",
     "output_type": "stream",
     "text": [
      "5 - комнатная\n"
     ]
    },
    {
     "data": {
      "image/png": "[encoded data removed]",
      "text/plain": [
       "<Figure size 1080x216 with 1 Axes>"
      ]
     },
     "metadata": {
      "needs_background": "light"
     },
     "output_type": "display_data"
    },
    {
     "name": "stdout",
     "output_type": "stream",
     "text": [
      "6 - комнатная\n"
     ]
    },
    {
     "data": {
      "image/png": "[encoded data removed]",
      "text/plain": [
       "<Figure size 1080x216 with 1 Axes>"
      ]
     },
     "metadata": {
      "needs_background": "light"
     },
     "output_type": "display_data"
    }
   ],
   "source": [
    "for i in range(1,7):\n",
    "    print(\"{} - комнатная\".format(i))\n",
    "    plt.figure(figsize=(15,3))\n",
    "    sns.boxplot(data=data[data.rooms==i][[\"price\"]], orient=\"h\")\n",
    "    plt.show()"
   ]
  },
  {
   "cell_type": "markdown",
   "metadata": {},
   "source": [
    "# Моделирование и интерпретация результатов"
   ]
  },
  {
   "cell_type": "code",
   "execution_count": 85,
   "metadata": {
    "ExecuteTime": {
     "end_time": "2020-05-22T09:19:49.698919Z",
     "start_time": "2020-05-22T09:19:49.432436Z"
    }
   },
   "outputs": [],
   "source": [
    "from sklearn.linear_model import LinearRegression\n",
    "from sklearn.preprocessing import StandardScaler\n",
    "\n",
    "from sklearn.model_selection import train_test_split\n",
    "from sklearn.metrics import mean_squared_error"
   ]
  },
  {
   "cell_type": "code",
   "execution_count": 86,
   "metadata": {
    "ExecuteTime": {
     "end_time": "2020-05-22T09:21:57.612043Z",
     "start_time": "2020-05-22T09:21:57.609089Z"
    }
   },
   "outputs": [
    {
     "name": "stdout",
     "output_type": "stream",
     "text": [
      "<class 'pandas.core.frame.DataFrame'>\n",
      "Int64Index: 10534 entries, 1 to 10801\n",
      "Data columns (total 12 columns):\n",
      "renovation        10534 non-null object\n",
      "ceiling           10534 non-null float64\n",
      "rooms             10534 non-null int64\n",
      "house_name        10534 non-null object\n",
      "price             10534 non-null float64\n",
      "house_age         10534 non-null int64\n",
      "square_total      10534 non-null int64\n",
      "square_living     10534 non-null float64\n",
      "square_kitchen    10534 non-null float64\n",
      "floor_flat        9801 non-null float64\n",
      "floors_total      9615 non-null float64\n",
      "price_square      10534 non-null float64\n",
      "dtypes: float64(7), int64(3), object(2)\n",
      "memory usage: 1.0+ MB\n"
     ]
    }
   ],
   "source": [
    "data.info()"
   ]
  },
  {
   "cell_type": "code",
   "execution_count": 87,
   "metadata": {
    "ExecuteTime": {
     "end_time": "2020-05-22T09:19:53.857909Z",
     "start_time": "2020-05-22T09:19:53.853381Z"
    }
   },
   "outputs": [],
   "source": [
    "data.drop(\"house_name\", axis=1, inplace=True)"
   ]
  },
  {
   "cell_type": "code",
   "execution_count": 88,
   "metadata": {
    "ExecuteTime": {
     "end_time": "2020-05-22T09:19:55.920041Z",
     "start_time": "2020-05-22T09:19:55.909305Z"
    }
   },
   "outputs": [],
   "source": [
    "data.dropna(inplace=True)"
   ]
  },
  {
   "cell_type": "code",
   "execution_count": 89,
   "metadata": {
    "ExecuteTime": {
     "end_time": "2020-05-22T09:19:56.773324Z",
     "start_time": "2020-05-22T09:19:56.769413Z"
    }
   },
   "outputs": [],
   "source": [
    "scaler = StandardScaler()\n",
    "m_linear = LinearRegression()"
   ]
  },
  {
   "cell_type": "code",
   "execution_count": 92,
   "metadata": {
    "ExecuteTime": {
     "end_time": "2020-05-22T09:19:58.161371Z",
     "start_time": "2020-05-22T09:19:58.153171Z"
    }
   },
   "outputs": [],
   "source": [
    "data_renovation = pd.get_dummies(data[\"renovation\"])"
   ]
  },
  {
   "cell_type": "code",
   "execution_count": 93,
   "metadata": {
    "ExecuteTime": {
     "end_time": "2020-05-22T09:19:58.868271Z",
     "start_time": "2020-05-22T09:19:58.858562Z"
    }
   },
   "outputs": [],
   "source": [
    "df = pd.concat([data, data_renovation], axis=1).drop(\"renovation\", axis=1)"
   ]
  },
  {
   "cell_type": "code",
   "execution_count": 94,
   "metadata": {
    "ExecuteTime": {
     "end_time": "2020-05-22T09:21:50.814848Z",
     "start_time": "2020-05-22T09:21:50.811695Z"
    }
   },
   "outputs": [
    {
     "data": {
      "text/html": [
       "<div>\n",
       "<style scoped>\n",
       "    .dataframe tbody tr th:only-of-type {\n",
       "        vertical-align: middle;\n",
       "    }\n",
       "\n",
       "    .dataframe tbody tr th {\n",
       "        vertical-align: top;\n",
       "    }\n",
       "\n",
       "    .dataframe thead th {\n",
       "        text-align: right;\n",
       "    }\n",
       "</style>\n",
       "<table border=\"1\" class=\"dataframe\">\n",
       "  <thead>\n",
       "    <tr style=\"text-align: right;\">\n",
       "      <th></th>\n",
       "      <th>ceiling</th>\n",
       "      <th>rooms</th>\n",
       "      <th>price</th>\n",
       "      <th>house_age</th>\n",
       "      <th>square_total</th>\n",
       "      <th>square_living</th>\n",
       "      <th>square_kitchen</th>\n",
       "      <th>floor_flat</th>\n",
       "      <th>floors_total</th>\n",
       "      <th>price_square</th>\n",
       "      <th>Unknown</th>\n",
       "      <th>евроремонт</th>\n",
       "      <th>свободная планировка</th>\n",
       "      <th>среднее</th>\n",
       "      <th>требует ремонта</th>\n",
       "      <th>хорошее</th>\n",
       "      <th>черновая отделка</th>\n",
       "    </tr>\n",
       "  </thead>\n",
       "  <tbody>\n",
       "    <tr>\n",
       "      <th>1</th>\n",
       "      <td>2.75</td>\n",
       "      <td>1</td>\n",
       "      <td>15.0000</td>\n",
       "      <td>1</td>\n",
       "      <td>42</td>\n",
       "      <td>21.0</td>\n",
       "      <td>6.0</td>\n",
       "      <td>7.0</td>\n",
       "      <td>22.0</td>\n",
       "      <td>357142.86</td>\n",
       "      <td>1</td>\n",
       "      <td>0</td>\n",
       "      <td>0</td>\n",
       "      <td>0</td>\n",
       "      <td>0</td>\n",
       "      <td>0</td>\n",
       "      <td>0</td>\n",
       "    </tr>\n",
       "    <tr>\n",
       "      <th>2</th>\n",
       "      <td>2.75</td>\n",
       "      <td>1</td>\n",
       "      <td>8.3055</td>\n",
       "      <td>0</td>\n",
       "      <td>30</td>\n",
       "      <td>21.0</td>\n",
       "      <td>6.0</td>\n",
       "      <td>4.0</td>\n",
       "      <td>9.0</td>\n",
       "      <td>276850.00</td>\n",
       "      <td>0</td>\n",
       "      <td>0</td>\n",
       "      <td>0</td>\n",
       "      <td>0</td>\n",
       "      <td>0</td>\n",
       "      <td>0</td>\n",
       "      <td>1</td>\n",
       "    </tr>\n",
       "    <tr>\n",
       "      <th>3</th>\n",
       "      <td>2.75</td>\n",
       "      <td>2</td>\n",
       "      <td>38.0000</td>\n",
       "      <td>7</td>\n",
       "      <td>87</td>\n",
       "      <td>42.0</td>\n",
       "      <td>12.0</td>\n",
       "      <td>4.0</td>\n",
       "      <td>10.0</td>\n",
       "      <td>436781.61</td>\n",
       "      <td>0</td>\n",
       "      <td>1</td>\n",
       "      <td>0</td>\n",
       "      <td>0</td>\n",
       "      <td>0</td>\n",
       "      <td>0</td>\n",
       "      <td>0</td>\n",
       "    </tr>\n",
       "    <tr>\n",
       "      <th>4</th>\n",
       "      <td>2.75</td>\n",
       "      <td>3</td>\n",
       "      <td>24.0000</td>\n",
       "      <td>13</td>\n",
       "      <td>70</td>\n",
       "      <td>63.0</td>\n",
       "      <td>18.0</td>\n",
       "      <td>4.0</td>\n",
       "      <td>12.0</td>\n",
       "      <td>342857.14</td>\n",
       "      <td>0</td>\n",
       "      <td>0</td>\n",
       "      <td>0</td>\n",
       "      <td>0</td>\n",
       "      <td>0</td>\n",
       "      <td>1</td>\n",
       "      <td>0</td>\n",
       "    </tr>\n",
       "    <tr>\n",
       "      <th>5</th>\n",
       "      <td>2.75</td>\n",
       "      <td>1</td>\n",
       "      <td>5.5980</td>\n",
       "      <td>-1</td>\n",
       "      <td>8</td>\n",
       "      <td>21.0</td>\n",
       "      <td>6.0</td>\n",
       "      <td>1.0</td>\n",
       "      <td>3.0</td>\n",
       "      <td>699750.00</td>\n",
       "      <td>1</td>\n",
       "      <td>0</td>\n",
       "      <td>0</td>\n",
       "      <td>0</td>\n",
       "      <td>0</td>\n",
       "      <td>0</td>\n",
       "      <td>0</td>\n",
       "    </tr>\n",
       "  </tbody>\n",
       "</table>\n",
       "</div>"
      ],
      "text/plain": [
       "   ceiling  rooms    price  house_age  square_total  square_living  \\\n",
       "1     2.75      1  15.0000          1            42           21.0   \n",
       "2     2.75      1   8.3055          0            30           21.0   \n",
       "3     2.75      2  38.0000          7            87           42.0   \n",
       "4     2.75      3  24.0000         13            70           63.0   \n",
       "5     2.75      1   5.5980         -1             8           21.0   \n",
       "\n",
       "   square_kitchen  floor_flat  floors_total  price_square  Unknown  \\\n",
       "1             6.0         7.0          22.0     357142.86        1   \n",
       "2             6.0         4.0           9.0     276850.00        0   \n",
       "3            12.0         4.0          10.0     436781.61        0   \n",
       "4            18.0         4.0          12.0     342857.14        0   \n",
       "5             6.0         1.0           3.0     699750.00        1   \n",
       "\n",
       "   евроремонт  свободная планировка  среднее  требует ремонта  хорошее  \\\n",
       "1           0                     0        0                0        0   \n",
       "2           0                     0        0                0        0   \n",
       "3           1                     0        0                0        0   \n",
       "4           0                     0        0                0        1   \n",
       "5           0                     0        0                0        0   \n",
       "\n",
       "   черновая отделка  \n",
       "1                 0  \n",
       "2                 1  \n",
       "3                 0  \n",
       "4                 0  \n",
       "5                 0  "
      ]
     },
     "execution_count": 94,
     "metadata": {},
     "output_type": "execute_result"
    }
   ],
   "source": [
    "df = df[df.price<150]\n",
    "df.head()"
   ]
  },
  {
   "cell_type": "code",
   "execution_count": 95,
   "metadata": {
    "ExecuteTime": {
     "end_time": "2020-05-22T09:20:18.885348Z",
     "start_time": "2020-05-22T09:20:18.877587Z"
    }
   },
   "outputs": [],
   "source": [
    "X = df.drop(\"price\", axis=1)\n",
    "y = df[\"price\"]"
   ]
  },
  {
   "cell_type": "code",
   "execution_count": 96,
   "metadata": {
    "ExecuteTime": {
     "end_time": "2020-05-22T09:20:20.505829Z",
     "start_time": "2020-05-22T09:20:20.496894Z"
    }
   },
   "outputs": [
    {
     "name": "stdout",
     "output_type": "stream",
     "text": [
      "(7632, 16) (1908, 16) (7632,) (1908,)\n"
     ]
    }
   ],
   "source": [
    "X_train, X_test, y_train, y_test = train_test_split(X, y, test_size=0.20)\n",
    "print(X_train.shape, X_test.shape, y_train.shape, y_test.shape)"
   ]
  },
  {
   "cell_type": "code",
   "execution_count": 97,
   "metadata": {
    "ExecuteTime": {
     "end_time": "2020-05-22T09:21:35.502346Z",
     "start_time": "2020-05-22T09:21:35.498719Z"
    }
   },
   "outputs": [
    {
     "data": {
      "text/plain": [
       "LinearRegression(copy_X=True, fit_intercept=True, n_jobs=None, normalize=False)"
      ]
     },
     "execution_count": 97,
     "metadata": {},
     "output_type": "execute_result"
    }
   ],
   "source": [
    "m_linear.fit(X_train, y_train)"
   ]
  },
  {
   "cell_type": "code",
   "execution_count": 98,
   "metadata": {
    "ExecuteTime": {
     "end_time": "2020-05-22T09:20:22.683617Z",
     "start_time": "2020-05-22T09:20:22.677421Z"
    }
   },
   "outputs": [],
   "source": [
    "def model_scores(modelName):\n",
    "    y_pred = modelName.predict(X_test)\n",
    "    mse = \"\\nRMSE: {:.4f}\".format(mean_squared_error(y_pred, y_test))\n",
    "    rmse = \"\\nMSE: {:.4f}\".format(math.sqrt(mean_squared_error(y_pred, y_test)))\n",
    "    return mse, rmse"
   ]
  },
  {
   "cell_type": "code",
   "execution_count": 100,
   "metadata": {
    "ExecuteTime": {
     "end_time": "2020-05-22T09:21:39.770592Z",
     "start_time": "2020-05-22T09:21:39.767356Z"
    }
   },
   "outputs": [
    {
     "data": {
      "text/plain": [
       "('\\nMSE: 127.3427', '\\nMSE: 11.2846')"
      ]
     },
     "execution_count": 100,
     "metadata": {},
     "output_type": "execute_result"
    }
   ],
   "source": [
    "model_scores(m_linear)"
   ]
  },
  {
   "cell_type": "code",
   "execution_count": 101,
   "metadata": {
    "ExecuteTime": {
     "end_time": "2020-05-22T09:20:25.670035Z",
     "start_time": "2020-05-22T09:20:25.665454Z"
    }
   },
   "outputs": [],
   "source": [
    "## Результат"
   ]
  },
  {
   "cell_type": "code",
   "execution_count": 102,
   "metadata": {
    "ExecuteTime": {
     "end_time": "2020-05-22T09:20:26.258226Z",
     "start_time": "2020-05-22T09:20:26.159687Z"
    }
   },
   "outputs": [],
   "source": [
    "y_pred = m_linear.predict(X_test)\n",
    "\n",
    "result = pd.DataFrame([y_pred, y_test.values]).T\n",
    "result.columns = [\"actual\", \"predicted\"]\n",
    "result = result.reset_index()\n",
    "result = pd.melt(result, id_vars=[\"index\"], value_vars=[\"actual\", \"predicted\"])"
   ]
  },
  {
   "cell_type": "code",
   "execution_count": 103,
   "metadata": {
    "ExecuteTime": {
     "end_time": "2020-05-22T09:20:27.604248Z",
     "start_time": "2020-05-22T09:20:27.596195Z"
    }
   },
   "outputs": [],
   "source": [
    "result = result.sort_values(by=\"index\").head(50)"
   ]
  },
  {
   "cell_type": "code",
   "execution_count": 104,
   "metadata": {
    "ExecuteTime": {
     "end_time": "2020-05-22T09:21:27.321993Z",
     "start_time": "2020-05-22T09:21:27.319619Z"
    }
   },
   "outputs": [
    {
     "data": {
      "text/plain": [
       "<matplotlib.axes._subplots.AxesSubplot at 0x1a2412bc18>"
      ]
     },
     "execution_count": 104,
     "metadata": {},
     "output_type": "execute_result"
    },
    {
     "data": {
      "image/png": "[encoded data removed]",
      "text/plain": [
       "<Figure size 1080x504 with 1 Axes>"
      ]
     },
     "metadata": {
      "needs_background": "light"
     },
     "output_type": "display_data"
    }
   ],
   "source": [
    "plt.figure(figsize=(15,7))\n",
    "sns.barplot(x=\"index\", hue=\"variable\", y=\"value\", data=result)"
   ]
  },
  {
   "cell_type": "code",
   "execution_count": 106,
   "metadata": {
    "ExecuteTime": {
     "end_time": "2020-05-22T09:20:59.010018Z",
     "start_time": "2020-05-22T09:20:58.995538Z"
    }
   },
   "outputs": [
    {
     "data": {
      "text/html": [
       "<div>\n",
       "<style scoped>\n",
       "    .dataframe tbody tr th:only-of-type {\n",
       "        vertical-align: middle;\n",
       "    }\n",
       "\n",
       "    .dataframe tbody tr th {\n",
       "        vertical-align: top;\n",
       "    }\n",
       "\n",
       "    .dataframe thead th {\n",
       "        text-align: right;\n",
       "    }\n",
       "</style>\n",
       "<table border=\"1\" class=\"dataframe\">\n",
       "  <thead>\n",
       "    <tr style=\"text-align: right;\">\n",
       "      <th></th>\n",
       "      <th>feature</th>\n",
       "      <th>coef</th>\n",
       "    </tr>\n",
       "  </thead>\n",
       "  <tbody>\n",
       "    <tr>\n",
       "      <th>0</th>\n",
       "      <td>ceiling</td>\n",
       "      <td>10.8685</td>\n",
       "    </tr>\n",
       "    <tr>\n",
       "      <th>10</th>\n",
       "      <td>евроремонт</td>\n",
       "      <td>3.50103</td>\n",
       "    </tr>\n",
       "    <tr>\n",
       "      <th>15</th>\n",
       "      <td>черновая отделка</td>\n",
       "      <td>0.522786</td>\n",
       "    </tr>\n",
       "    <tr>\n",
       "      <th>3</th>\n",
       "      <td>square_total</td>\n",
       "      <td>0.452079</td>\n",
       "    </tr>\n",
       "    <tr>\n",
       "      <th>14</th>\n",
       "      <td>хорошее</td>\n",
       "      <td>0.117607</td>\n",
       "    </tr>\n",
       "  </tbody>\n",
       "</table>\n",
       "</div>"
      ],
      "text/plain": [
       "             feature      coef\n",
       "0            ceiling   10.8685\n",
       "10        евроремонт   3.50103\n",
       "15  черновая отделка  0.522786\n",
       "3       square_total  0.452079\n",
       "14           хорошее  0.117607"
      ]
     },
     "execution_count": 106,
     "metadata": {},
     "output_type": "execute_result"
    }
   ],
   "source": [
    "Importance = m_linear.coef_\n",
    "Columns = X_train.columns\n",
    "\n",
    "imp = pd.DataFrame([Columns, Importance]).T\n",
    "imp.columns = [\"feature\", \"coef\"]\n",
    "imp.sort_values(by=\"coef\", inplace=True, ascending=False)\n",
    "imp.head()"
   ]
  },
  {
   "cell_type": "code",
   "execution_count": 107,
   "metadata": {
    "ExecuteTime": {
     "end_time": "2020-05-22T09:21:20.731444Z",
     "start_time": "2020-05-22T09:21:20.727800Z"
    }
   },
   "outputs": [
    {
     "data": {
      "text/plain": [
       "<matplotlib.axes._subplots.AxesSubplot at 0x1a23ecc320>"
      ]
     },
     "execution_count": 107,
     "metadata": {},
     "output_type": "execute_result"
    },
    {
     "data": {
      "image/png": "[encoded data removed]",
      "text/plain": [
       "<Figure size 1080x432 with 1 Axes>"
      ]
     },
     "metadata": {
      "needs_background": "light"
     },
     "output_type": "display_data"
    }
   ],
   "source": [
    "plt.figure(figsize=(15,6))\n",
    "sns.barplot(data=imp, x=\"coef\", y=\"feature\")"
   ]
  }
 ],
 "metadata": {
  "kernelspec": {
   "display_name": "Python 3",
   "language": "python",
   "name": "python3"
  },
  "language_info": {
   "codemirror_mode": {
    "name": "ipython",
    "version": 3
   },
   "file_extension": ".py",
   "mimetype": "text/x-python",
   "name": "python",
   "nbconvert_exporter": "python",
   "pygments_lexer": "ipython3",
   "version": "3.7.3"
  },
  "toc": {
   "base_numbering": 1,
   "nav_menu": {},
   "number_sections": true,
   "sideBar": true,
   "skip_h1_title": false,
   "title_cell": "Table of Contents",
   "title_sidebar": "Contents",
   "toc_cell": false,
   "toc_position": {},
   "toc_section_display": true,
   "toc_window_display": true
  },
  "varInspector": {
   "cols": {
    "lenName": 16,
    "lenType": 16,
    "lenVar": 40
   },
   "kernels_config": {
    "python": {
     "delete_cmd_postfix": "",
     "delete_cmd_prefix": "del ",
     "library": "var_list.py",
     "varRefreshCmd": "print(var_dic_list())"
    },
    "r": {
     "delete_cmd_postfix": ") ",
     "delete_cmd_prefix": "rm(",
     "library": "var_list.r",
     "varRefreshCmd": "cat(var_dic_list()) "
    }
   },
   "types_to_exclude": [
    "module",
    "function",
    "builtin_function_or_method",
    "instance",
    "_Feature"
   ],
   "window_display": false
  }
 },
 "nbformat": 4,
 "nbformat_minor": 2
}
