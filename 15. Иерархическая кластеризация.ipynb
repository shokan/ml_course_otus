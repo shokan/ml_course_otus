{
 "cells": [
  {
   "cell_type": "code",
   "execution_count": 1,
   "metadata": {
    "ExecuteTime": {
     "end_time": "2020-05-02T19:39:32.668067Z",
     "start_time": "2020-05-02T19:39:30.973634Z"
    }
   },
   "outputs": [],
   "source": [
    "import pandas as pd \n",
    "import numpy as np \n",
    "import matplotlib.pyplot as plt\n",
    "from sklearn.preprocessing import StandardScaler"
   ]
  },
  {
   "cell_type": "code",
   "execution_count": 2,
   "metadata": {
    "ExecuteTime": {
     "end_time": "2020-05-02T19:39:32.689126Z",
     "start_time": "2020-05-02T19:39:32.685410Z"
    }
   },
   "outputs": [],
   "source": [
    "scaler = StandardScaler()"
   ]
  },
  {
   "cell_type": "code",
   "execution_count": 3,
   "metadata": {
    "ExecuteTime": {
     "end_time": "2020-05-02T19:39:32.730731Z",
     "start_time": "2020-05-02T19:39:32.706940Z"
    }
   },
   "outputs": [
    {
     "data": {
      "text/plain": [
       "(40, 19)"
      ]
     },
     "execution_count": 3,
     "metadata": {},
     "output_type": "execute_result"
    }
   ],
   "source": [
    "df = pd.read_csv(\"datasets/15/countries of the world.csv\")\n",
    "df = df[df[\"Region\"].str.contains(\"EUROPE\")].drop(\"Region\", axis=1)\n",
    "df.fillna(0, inplace=True)\n",
    "df.shape"
   ]
  },
  {
   "cell_type": "code",
   "execution_count": 148,
   "metadata": {
    "ExecuteTime": {
     "end_time": "2020-05-02T18:06:12.212719Z",
     "start_time": "2020-05-02T18:06:12.199579Z"
    }
   },
   "outputs": [],
   "source": [
    "objCols = list(df.drop(\"Country\", axis=1).select_dtypes([\"object\"]).columns)"
   ]
  },
  {
   "cell_type": "code",
   "execution_count": 149,
   "metadata": {
    "ExecuteTime": {
     "end_time": "2020-05-02T18:06:12.863597Z",
     "start_time": "2020-05-02T18:06:12.839775Z"
    }
   },
   "outputs": [],
   "source": [
    "for i in objCols:\n",
    "    df[i] = df[i].apply(lambda x: str(x).replace(\",\", \".\"))\n",
    "    df[i] = pd.to_numeric(df[i])"
   ]
  },
  {
   "cell_type": "code",
   "execution_count": 150,
   "metadata": {
    "ExecuteTime": {
     "end_time": "2020-05-02T18:06:14.499025Z",
     "start_time": "2020-05-02T18:06:14.487591Z"
    }
   },
   "outputs": [],
   "source": [
    "X = df.drop(\"Country\", axis=1)\n",
    "y = df[\"Country\"]"
   ]
  },
  {
   "cell_type": "code",
   "execution_count": 151,
   "metadata": {
    "ExecuteTime": {
     "end_time": "2020-05-02T18:06:15.761360Z",
     "start_time": "2020-05-02T18:06:15.753352Z"
    }
   },
   "outputs": [],
   "source": [
    "X_scaled = pd.DataFrame(scaler.fit_transform(X),columns=X.columns)"
   ]
  },
  {
   "cell_type": "code",
   "execution_count": 152,
   "metadata": {
    "ExecuteTime": {
     "end_time": "2020-05-02T18:06:16.457592Z",
     "start_time": "2020-05-02T18:06:16.432921Z"
    }
   },
   "outputs": [
    {
     "data": {
      "text/html": [
       "<div>\n",
       "<style scoped>\n",
       "    .dataframe tbody tr th:only-of-type {\n",
       "        vertical-align: middle;\n",
       "    }\n",
       "\n",
       "    .dataframe tbody tr th {\n",
       "        vertical-align: top;\n",
       "    }\n",
       "\n",
       "    .dataframe thead th {\n",
       "        text-align: right;\n",
       "    }\n",
       "</style>\n",
       "<table border=\"1\" class=\"dataframe\">\n",
       "  <thead>\n",
       "    <tr style=\"text-align: right;\">\n",
       "      <th></th>\n",
       "      <th>Population</th>\n",
       "      <th>Area (sq. mi.)</th>\n",
       "      <th>Pop. Density (per sq. mi.)</th>\n",
       "      <th>Coastline (coast/area ratio)</th>\n",
       "      <th>Net migration</th>\n",
       "      <th>Infant mortality (per 1000 births)</th>\n",
       "      <th>GDP ($ per capita)</th>\n",
       "      <th>Literacy (%)</th>\n",
       "      <th>Phones (per 1000)</th>\n",
       "      <th>Arable (%)</th>\n",
       "      <th>Crops (%)</th>\n",
       "      <th>Other (%)</th>\n",
       "      <th>Climate</th>\n",
       "      <th>Birthrate</th>\n",
       "      <th>Deathrate</th>\n",
       "      <th>Agriculture</th>\n",
       "      <th>Industry</th>\n",
       "      <th>Service</th>\n",
       "    </tr>\n",
       "  </thead>\n",
       "  <tbody>\n",
       "    <tr>\n",
       "      <th>0</th>\n",
       "      <td>-0.468452</td>\n",
       "      <td>-0.613138</td>\n",
       "      <td>-0.222189</td>\n",
       "      <td>-0.392314</td>\n",
       "      <td>-2.333290</td>\n",
       "      <td>2.632930</td>\n",
       "      <td>-1.668820</td>\n",
       "      <td>0.205639</td>\n",
       "      <td>-2.146423</td>\n",
       "      <td>0.024897</td>\n",
       "      <td>0.959232</td>\n",
       "      <td>-0.021598</td>\n",
       "      <td>0.493691</td>\n",
       "      <td>2.135923</td>\n",
       "      <td>-1.806244</td>\n",
       "      <td>2.843737</td>\n",
       "      <td>-0.440215</td>\n",
       "      <td>-0.130866</td>\n",
       "    </tr>\n",
       "    <tr>\n",
       "      <th>1</th>\n",
       "      <td>-0.644809</td>\n",
       "      <td>-0.799947</td>\n",
       "      <td>-0.211509</td>\n",
       "      <td>-0.421004</td>\n",
       "      <td>1.476905</td>\n",
       "      <td>-0.560716</td>\n",
       "      <td>-0.276136</td>\n",
       "      <td>0.549219</td>\n",
       "      <td>-0.013469</td>\n",
       "      <td>-1.261360</td>\n",
       "      <td>-0.701158</td>\n",
       "      <td>1.178933</td>\n",
       "      <td>0.493691</td>\n",
       "      <td>-0.670751</td>\n",
       "      <td>-1.358648</td>\n",
       "      <td>-0.893148</td>\n",
       "      <td>-2.018861</td>\n",
       "      <td>-2.710313</td>\n",
       "    </tr>\n",
       "    <tr>\n",
       "      <th>2</th>\n",
       "      <td>-0.236795</td>\n",
       "      <td>-0.249018</td>\n",
       "      <td>-0.232636</td>\n",
       "      <td>-0.421004</td>\n",
       "      <td>-0.043208</td>\n",
       "      <td>-0.449204</td>\n",
       "      <td>0.780383</td>\n",
       "      <td>0.498318</td>\n",
       "      <td>-0.238781</td>\n",
       "      <td>-0.260029</td>\n",
       "      <td>-0.378096</td>\n",
       "      <td>0.377376</td>\n",
       "      <td>0.493691</td>\n",
       "      <td>-0.657595</td>\n",
       "      <td>0.166653</td>\n",
       "      <td>-0.603217</td>\n",
       "      <td>0.533842</td>\n",
       "      <td>0.310180</td>\n",
       "    </tr>\n",
       "    <tr>\n",
       "      <th>3</th>\n",
       "      <td>-0.126966</td>\n",
       "      <td>-0.601379</td>\n",
       "      <td>-0.138533</td>\n",
       "      <td>-0.415994</td>\n",
       "      <td>-0.297661</td>\n",
       "      <td>-0.445547</td>\n",
       "      <td>0.693941</td>\n",
       "      <td>0.498318</td>\n",
       "      <td>-0.186709</td>\n",
       "      <td>0.174176</td>\n",
       "      <td>-0.550897</td>\n",
       "      <td>0.072733</td>\n",
       "      <td>0.493691</td>\n",
       "      <td>0.061615</td>\n",
       "      <td>0.388278</td>\n",
       "      <td>-0.732075</td>\n",
       "      <td>-0.003569</td>\n",
       "      <td>0.626485</td>\n",
       "    </tr>\n",
       "    <tr>\n",
       "      <th>4</th>\n",
       "      <td>-0.422368</td>\n",
       "      <td>-0.465295</td>\n",
       "      <td>-0.236403</td>\n",
       "      <td>-0.420093</td>\n",
       "      <td>-0.601684</td>\n",
       "      <td>2.547010</td>\n",
       "      <td>-1.515144</td>\n",
       "      <td>-1.995817</td>\n",
       "      <td>-1.424423</td>\n",
       "      <td>-0.485652</td>\n",
       "      <td>0.410778</td>\n",
       "      <td>0.439748</td>\n",
       "      <td>1.225086</td>\n",
       "      <td>-0.644439</td>\n",
       "      <td>-0.480839</td>\n",
       "      <td>1.394084</td>\n",
       "      <td>0.567431</td>\n",
       "      <td>-0.260061</td>\n",
       "    </tr>\n",
       "  </tbody>\n",
       "</table>\n",
       "</div>"
      ],
      "text/plain": [
       "   Population  Area (sq. mi.)  Pop. Density (per sq. mi.)  \\\n",
       "0   -0.468452       -0.613138                   -0.222189   \n",
       "1   -0.644809       -0.799947                   -0.211509   \n",
       "2   -0.236795       -0.249018                   -0.232636   \n",
       "3   -0.126966       -0.601379                   -0.138533   \n",
       "4   -0.422368       -0.465295                   -0.236403   \n",
       "\n",
       "   Coastline (coast/area ratio)  Net migration  \\\n",
       "0                     -0.392314      -2.333290   \n",
       "1                     -0.421004       1.476905   \n",
       "2                     -0.421004      -0.043208   \n",
       "3                     -0.415994      -0.297661   \n",
       "4                     -0.420093      -0.601684   \n",
       "\n",
       "   Infant mortality (per 1000 births)  GDP ($ per capita)  Literacy (%)  \\\n",
       "0                            2.632930           -1.668820      0.205639   \n",
       "1                           -0.560716           -0.276136      0.549219   \n",
       "2                           -0.449204            0.780383      0.498318   \n",
       "3                           -0.445547            0.693941      0.498318   \n",
       "4                            2.547010           -1.515144     -1.995817   \n",
       "\n",
       "   Phones (per 1000)  Arable (%)  Crops (%)  Other (%)   Climate  Birthrate  \\\n",
       "0          -2.146423    0.024897   0.959232  -0.021598  0.493691   2.135923   \n",
       "1          -0.013469   -1.261360  -0.701158   1.178933  0.493691  -0.670751   \n",
       "2          -0.238781   -0.260029  -0.378096   0.377376  0.493691  -0.657595   \n",
       "3          -0.186709    0.174176  -0.550897   0.072733  0.493691   0.061615   \n",
       "4          -1.424423   -0.485652   0.410778   0.439748  1.225086  -0.644439   \n",
       "\n",
       "   Deathrate  Agriculture  Industry   Service  \n",
       "0  -1.806244     2.843737 -0.440215 -0.130866  \n",
       "1  -1.358648    -0.893148 -2.018861 -2.710313  \n",
       "2   0.166653    -0.603217  0.533842  0.310180  \n",
       "3   0.388278    -0.732075 -0.003569  0.626485  \n",
       "4  -0.480839     1.394084  0.567431 -0.260061  "
      ]
     },
     "execution_count": 152,
     "metadata": {},
     "output_type": "execute_result"
    }
   ],
   "source": [
    "X_scaled.head()"
   ]
  },
  {
   "cell_type": "markdown",
   "metadata": {},
   "source": [
    "# Linkage\n",
    "Кластеризация европейских стран по соц-демократическим показателям"
   ]
  },
  {
   "cell_type": "code",
   "execution_count": 153,
   "metadata": {
    "ExecuteTime": {
     "end_time": "2020-05-02T18:06:19.801605Z",
     "start_time": "2020-05-02T18:06:19.797225Z"
    }
   },
   "outputs": [],
   "source": [
    "from scipy.cluster.hierarchy import linkage, dendrogram, fcluster"
   ]
  },
  {
   "cell_type": "code",
   "execution_count": 154,
   "metadata": {
    "ExecuteTime": {
     "end_time": "2020-05-02T18:06:20.266253Z",
     "start_time": "2020-05-02T18:06:20.253090Z"
    }
   },
   "outputs": [],
   "source": [
    "Z = linkage(X, method=\"average\", metric=\"euclidean\")"
   ]
  },
  {
   "cell_type": "code",
   "execution_count": 156,
   "metadata": {
    "ExecuteTime": {
     "end_time": "2020-05-02T18:07:21.238745Z",
     "start_time": "2020-05-02T18:07:20.888969Z"
    }
   },
   "outputs": [
    {
     "data": {
      "image/png": "[encoded data removed]",
      "text/plain": [
       "<Figure size 1440x1080 with 1 Axes>"
      ]
     },
     "metadata": {
      "needs_background": "light"
     },
     "output_type": "display_data"
    }
   ],
   "source": [
    "plt.figure(figsize=(20,15))\n",
    "dend = dendrogram(Z, orientation=\"left\", color_threshold=0, labels=df[\"Country\"].values)\n",
    "plt.show()"
   ]
  },
  {
   "cell_type": "code",
   "execution_count": 167,
   "metadata": {
    "ExecuteTime": {
     "end_time": "2020-05-02T18:10:55.751371Z",
     "start_time": "2020-05-02T18:10:55.739887Z"
    }
   },
   "outputs": [
    {
     "data": {
      "text/plain": [
       "array([ 1,  2,  3,  4,  5,  6,  7,  8,  9, 10, 11, 12, 13, 14, 15, 16, 17,\n",
       "       18, 19, 20, 21, 22, 23, 24, 25, 26], dtype=int32)"
      ]
     },
     "execution_count": 167,
     "metadata": {},
     "output_type": "execute_result"
    }
   ],
   "source": [
    "# Исходя из диаграмы определяем подходую дистанцию APPR_DIST\n",
    "APPR_DIST = 0.5\n",
    "labels = fcluster(Z, APPR_DIST)\n",
    "np.unique(labels)"
   ]
  },
  {
   "cell_type": "code",
   "execution_count": 169,
   "metadata": {
    "ExecuteTime": {
     "end_time": "2020-05-02T18:14:08.766061Z",
     "start_time": "2020-05-02T18:14:08.760221Z"
    }
   },
   "outputs": [],
   "source": [
    "df.loc[:, 'label'] = labels"
   ]
  },
  {
   "cell_type": "code",
   "execution_count": 171,
   "metadata": {
    "ExecuteTime": {
     "end_time": "2020-05-02T18:14:24.541869Z",
     "start_time": "2020-05-02T18:14:24.362641Z"
    }
   },
   "outputs": [
    {
     "name": "stdout",
     "output_type": "stream",
     "text": [
      "==========\n",
      "cluster 1\n",
      "          Country  Population  Area (sq. mi.)  Pop. Density (per sq. mi.)  \\\n",
      "146  Netherlands     16491461           41526                       397.1   \n",
      "168      Romania     22303552          237500                        93.9   \n",
      "\n",
      "     Coastline (coast/area ratio)  Net migration  \\\n",
      "146                          1.09           2.91   \n",
      "168                          0.09          -0.13   \n",
      "\n",
      "     Infant mortality (per 1000 births)  GDP ($ per capita)  Literacy (%)  \\\n",
      "146                                5.04             28600.0          99.0   \n",
      "168                               26.43              7000.0          98.4   \n",
      "\n",
      "     Phones (per 1000)  Arable (%)  Crops (%)  Other (%)  Climate  Birthrate  \\\n",
      "146              460.8       26.71       0.97      72.32        3       10.9   \n",
      "168              196.9       40.82       2.25      56.93        3       10.7   \n",
      "\n",
      "     Deathrate  Agriculture  Industry  Service  label  \n",
      "146       8.68        0.021     0.244    0.736      1  \n",
      "168      11.77        0.101     0.350    0.549      1  \n",
      "==========\n",
      "cluster 2\n",
      "          Country  Population  Area (sq. mi.)  Pop. Density (per sq. mi.)  \\\n",
      "30      Bulgaria      7385367          110910                        66.6   \n",
      "196  Switzerland      7523934           41290                       182.2   \n",
      "\n",
      "     Coastline (coast/area ratio)  Net migration  \\\n",
      "30                           0.32          -4.58   \n",
      "196                          0.00           4.05   \n",
      "\n",
      "     Infant mortality (per 1000 births)  GDP ($ per capita)  Literacy (%)  \\\n",
      "30                                20.55              7600.0          98.6   \n",
      "196                                4.39             32700.0          99.0   \n",
      "\n",
      "     Phones (per 1000)  Arable (%)  Crops (%)  Other (%)  Climate  Birthrate  \\\n",
      "30               336.3       40.02       1.92      58.06        3       9.65   \n",
      "196              680.9       10.42       0.61      88.97        3       9.71   \n",
      "\n",
      "     Deathrate  Agriculture  Industry  Service  label  \n",
      "30       14.27        0.093     0.304    0.603      2  \n",
      "196       8.49        0.015     0.340    0.645      2  \n",
      "==========\n",
      "cluster 3\n",
      "     Country  Population  Area (sq. mi.)  Pop. Density (per sq. mi.)  \\\n",
      "12  Austria      8192880           83870                        97.7   \n",
      "\n",
      "    Coastline (coast/area ratio)  Net migration  \\\n",
      "12                           0.0            2.0   \n",
      "\n",
      "    Infant mortality (per 1000 births)  GDP ($ per capita)  Literacy (%)  \\\n",
      "12                                4.66             30000.0          98.0   \n",
      "\n",
      "    Phones (per 1000)  Arable (%)  Crops (%)  Other (%)  Climate  Birthrate  \\\n",
      "12              452.2       16.91       0.86      82.23        3       8.74   \n",
      "\n",
      "    Deathrate  Agriculture  Industry  Service  label  \n",
      "12       9.76        0.018     0.304    0.678      3  \n",
      "==========\n",
      "cluster 4\n",
      "       Country  Population  Area (sq. mi.)  Pop. Density (per sq. mi.)  \\\n",
      "79     Greece     10688058          131940                        81.0   \n",
      "164  Portugal     10605870           92391                       114.8   \n",
      "\n",
      "     Coastline (coast/area ratio)  Net migration  \\\n",
      "79                          10.37           2.35   \n",
      "164                          1.94           3.57   \n",
      "\n",
      "     Infant mortality (per 1000 births)  GDP ($ per capita)  Literacy (%)  \\\n",
      "79                                 5.53             20000.0          97.5   \n",
      "164                                5.05             18000.0          93.3   \n",
      "\n",
      "     Phones (per 1000)  Arable (%)  Crops (%)  Other (%)  Climate  Birthrate  \\\n",
      "79               589.7       21.10       8.78      70.12        3       9.68   \n",
      "164              399.2       21.75       7.81      70.44        3      10.72   \n",
      "\n",
      "     Deathrate  Agriculture  Industry  Service  label  \n",
      "79       10.24        0.054     0.213    0.733      4  \n",
      "164      10.50        0.053     0.274    0.673      4  \n",
      "==========\n",
      "cluster 5\n",
      "            Country  Population  Area (sq. mi.)  Pop. Density (per sq. mi.)  \\\n",
      "19         Belgium     10379067           30528                       340.0   \n",
      "53  Czech Republic     10235455           78866                       129.8   \n",
      "\n",
      "    Coastline (coast/area ratio)  Net migration  \\\n",
      "19                          0.22           1.23   \n",
      "53                          0.00           0.97   \n",
      "\n",
      "    Infant mortality (per 1000 births)  GDP ($ per capita)  Literacy (%)  \\\n",
      "19                                4.68             29100.0          98.0   \n",
      "53                                3.93             15700.0          99.9   \n",
      "\n",
      "    Phones (per 1000)  Arable (%)  Crops (%)  Other (%)  Climate  Birthrate  \\\n",
      "19              462.6       23.28       0.40      76.32        3      10.38   \n",
      "53              314.3       39.80       3.05      57.15        3       9.02   \n",
      "\n",
      "    Deathrate  Agriculture  Industry  Service  label  \n",
      "19      10.27        0.010     0.240    0.749      5  \n",
      "53      10.59        0.034     0.393    0.573      5  \n",
      "==========\n",
      "cluster 6\n",
      "     Country  Population  Area (sq. mi.)  Pop. Density (per sq. mi.)  \\\n",
      "92  Hungary      9981334           93030                       107.3   \n",
      "\n",
      "    Coastline (coast/area ratio)  Net migration  \\\n",
      "92                           0.0           0.86   \n",
      "\n",
      "    Infant mortality (per 1000 births)  GDP ($ per capita)  Literacy (%)  \\\n",
      "92                                8.57             13900.0          99.4   \n",
      "\n",
      "    Phones (per 1000)  Arable (%)  Crops (%)  Other (%)  Climate  Birthrate  \\\n",
      "92              336.2       50.09       2.06      47.85        3       9.72   \n",
      "\n",
      "    Deathrate  Agriculture  Industry  Service  label  \n",
      "92      13.11        0.037     0.312    0.651      6  \n",
      "==========\n",
      "cluster 7\n",
      "     Country  Population  Area (sq. mi.)  Pop. Density (per sq. mi.)  \\\n",
      "181  Serbia      9396411           88361                       106.3   \n",
      "195  Sweden      9016596          449964                        20.0   \n",
      "\n",
      "     Coastline (coast/area ratio)  Net migration  \\\n",
      "181                          0.00          -1.33   \n",
      "195                          0.72           1.67   \n",
      "\n",
      "     Infant mortality (per 1000 births)  GDP ($ per capita)  Literacy (%)  \\\n",
      "181                               12.89              2200.0          93.0   \n",
      "195                                2.77             26800.0          99.0   \n",
      "\n",
      "     Phones (per 1000)  Arable (%)  Crops (%)  Other (%)  Climate  Birthrate  \\\n",
      "181              285.8       33.35       3.20      63.45        0       0.00   \n",
      "195              715.0        6.54       0.01      93.45        3      10.27   \n",
      "\n",
      "     Deathrate  Agriculture  Industry  Service  label  \n",
      "181       0.00        0.166     0.255    0.579      7  \n",
      "195      10.31        0.011     0.282    0.707      7  \n",
      "==========\n",
      "cluster 8\n",
      "       Country  Population  Area (sq. mi.)  Pop. Density (per sq. mi.)  \\\n",
      "54    Denmark      5450661           43094                       126.5   \n",
      "185  Slovakia      5439448           48845                       111.4   \n",
      "\n",
      "     Coastline (coast/area ratio)  Net migration  \\\n",
      "54                          16.97           2.48   \n",
      "185                          0.00           0.30   \n",
      "\n",
      "     Infant mortality (per 1000 births)  GDP ($ per capita)  Literacy (%)  \\\n",
      "54                                 4.56             31100.0         100.0   \n",
      "185                                7.41             13300.0           0.0   \n",
      "\n",
      "     Phones (per 1000)  Arable (%)  Crops (%)  Other (%)  Climate  Birthrate  \\\n",
      "54               614.6       54.02       0.19      45.79        3      11.13   \n",
      "185              220.1       30.16       2.62      67.22        3      10.65   \n",
      "\n",
      "     Deathrate  Agriculture  Industry  Service  label  \n",
      "54       10.36        0.018     0.246    0.735      8  \n",
      "185       9.45        0.035     0.294    0.672      8  \n",
      "==========\n",
      "cluster 9\n",
      "     Country  Population  Area (sq. mi.)  Pop. Density (per sq. mi.)  \\\n",
      "68  Finland      5231372          338145                        15.5   \n",
      "\n",
      "    Coastline (coast/area ratio)  Net migration  \\\n",
      "68                          0.37           0.95   \n",
      "\n",
      "    Infant mortality (per 1000 births)  GDP ($ per capita)  Literacy (%)  \\\n",
      "68                                3.57             27400.0         100.0   \n",
      "\n",
      "    Phones (per 1000)  Arable (%)  Crops (%)  Other (%)  Climate  Birthrate  \\\n",
      "68              405.3        7.19       0.03      92.78        3      10.45   \n",
      "\n",
      "    Deathrate  Agriculture  Industry  Service  label  \n",
      "68       9.86        0.028     0.295    0.676      9  \n",
      "==========\n",
      "cluster 10\n",
      "                  Country  Population  Area (sq. mi.)  \\\n",
      "25  Bosnia & Herzegovina      4498976           51129   \n",
      "50               Croatia      4494749           56542   \n",
      "\n",
      "    Pop. Density (per sq. mi.)  Coastline (coast/area ratio)  Net migration  \\\n",
      "25                        88.0                          0.04           0.31   \n",
      "50                        79.5                         10.32           1.58   \n",
      "\n",
      "    Infant mortality (per 1000 births)  GDP ($ per capita)  Literacy (%)  \\\n",
      "25                               21.05              6100.0           0.0   \n",
      "50                                6.84             10600.0          98.5   \n",
      "\n",
      "    Phones (per 1000)  Arable (%)  Crops (%)  Other (%)  Climate  Birthrate  \\\n",
      "25              215.4       13.60       2.96      83.44        4       8.77   \n",
      "50              420.4       26.09       2.27      71.65        0       9.61   \n",
      "\n",
      "    Deathrate  Agriculture  Industry  Service  label  \n",
      "25       8.27        0.142     0.308    0.550     10  \n",
      "50      11.48        0.070     0.308    0.622     10  \n",
      "==========\n",
      "cluster 11\n",
      "     Country  Population  Area (sq. mi.)  Pop. Density (per sq. mi.)  \\\n",
      "154  Norway      4610820          323802                        14.2   \n",
      "\n",
      "     Coastline (coast/area ratio)  Net migration  \\\n",
      "154                          7.77           1.74   \n",
      "\n",
      "     Infant mortality (per 1000 births)  GDP ($ per capita)  Literacy (%)  \\\n",
      "154                                 3.7             37800.0         100.0   \n",
      "\n",
      "     Phones (per 1000)  Arable (%)  Crops (%)  Other (%)  Climate  Birthrate  \\\n",
      "154              461.7        2.87        0.0      97.13        3      11.46   \n",
      "\n",
      "     Deathrate  Agriculture  Industry  Service  label  \n",
      "154        9.4        0.021     0.415    0.564     11  \n",
      "==========\n",
      "cluster 12\n",
      "     Country  Population  Area (sq. mi.)  Pop. Density (per sq. mi.)  \\\n",
      "1   Albania      3581655           28748                       124.6   \n",
      "98  Ireland      4062235           70280                        57.8   \n",
      "\n",
      "    Coastline (coast/area ratio)  Net migration  \\\n",
      "1                           1.26          -4.93   \n",
      "98                          2.06           4.99   \n",
      "\n",
      "    Infant mortality (per 1000 births)  GDP ($ per capita)  Literacy (%)  \\\n",
      "1                                21.52              4500.0          86.5   \n",
      "98                                5.39             29600.0          98.0   \n",
      "\n",
      "    Phones (per 1000)  Arable (%)  Crops (%)  Other (%)  Climate  Birthrate  \\\n",
      "1                71.2       21.09       4.42      74.49        3      15.11   \n",
      "98              500.5       15.20       0.03      84.77        3      14.45   \n",
      "\n",
      "    Deathrate  Agriculture  Industry  Service  label  \n",
      "1        5.22        0.232     0.188    0.579     12  \n",
      "98       7.82        0.050     0.460    0.490     12  \n",
      "==========\n",
      "cluster 13\n",
      "        Country  Population  Area (sq. mi.)  Pop. Density (per sq. mi.)  \\\n",
      "123  Macedonia      2050554           25333                        80.9   \n",
      "186   Slovenia      2010347           20273                        99.2   \n",
      "\n",
      "     Coastline (coast/area ratio)  Net migration  \\\n",
      "123                          0.00          -1.45   \n",
      "186                          0.23           1.12   \n",
      "\n",
      "     Infant mortality (per 1000 births)  GDP ($ per capita)  Literacy (%)  \\\n",
      "123                               10.09              6700.0           0.0   \n",
      "186                                4.45             19000.0          99.7   \n",
      "\n",
      "     Phones (per 1000)  Arable (%)  Crops (%)  Other (%)  Climate  Birthrate  \\\n",
      "123              260.0       22.26       1.81      75.93        3      12.02   \n",
      "186              406.1        8.60       1.49      89.91        0       8.98   \n",
      "\n",
      "     Deathrate  Agriculture  Industry  Service  label  \n",
      "123       8.77        0.118     0.319    0.563     13  \n",
      "186      10.31        0.028     0.369    0.603     13  \n",
      "==========\n",
      "cluster 14\n",
      "            Country  Population  Area (sq. mi.)  Pop. Density (per sq. mi.)  \\\n",
      "78       Gibraltar        27928               7                      3989.7   \n",
      "119  Liechtenstein        33987             160                       212.4   \n",
      "\n",
      "     Coastline (coast/area ratio)  Net migration  \\\n",
      "78                         171.43           0.00   \n",
      "119                          0.00           4.85   \n",
      "\n",
      "     Infant mortality (per 1000 births)  GDP ($ per capita)  Literacy (%)  \\\n",
      "78                                 5.13             17500.0           0.0   \n",
      "119                                4.70             25000.0         100.0   \n",
      "\n",
      "     Phones (per 1000)  Arable (%)  Crops (%)  Other (%)  Climate  Birthrate  \\\n",
      "78               877.7         0.0        0.0      100.0        0      10.74   \n",
      "119              585.5        25.0        0.0       75.0        4      10.21   \n",
      "\n",
      "     Deathrate  Agriculture  Industry  Service  label  \n",
      "78        9.31         0.00      0.00     0.00     14  \n",
      "119       7.18         0.06      0.39     0.55     14  \n",
      "==========\n",
      "cluster 15\n",
      "         Country  Population  Area (sq. mi.)  Pop. Density (per sq. mi.)  \\\n",
      "177  San Marino        29251              61                       479.5   \n",
      "\n",
      "     Coastline (coast/area ratio)  Net migration  \\\n",
      "177                           0.0          10.98   \n",
      "\n",
      "     Infant mortality (per 1000 births)  GDP ($ per capita)  Literacy (%)  \\\n",
      "177                                5.73             34600.0          96.0   \n",
      "\n",
      "     Phones (per 1000)  Arable (%)  Crops (%)  Other (%)  Climate  Birthrate  \\\n",
      "177              704.3       16.67        0.0      83.33        0      10.02   \n",
      "\n",
      "     Deathrate  Agriculture  Industry  Service  label  \n",
      "177       8.17          0.0       0.0      0.0     15  \n",
      "==========\n",
      "cluster 16\n",
      "     Country  Population  Area (sq. mi.)  Pop. Density (per sq. mi.)  \\\n",
      "138  Monaco        32543               2                     16271.5   \n",
      "\n",
      "     Coastline (coast/area ratio)  Net migration  \\\n",
      "138                         205.0           7.75   \n",
      "\n",
      "     Infant mortality (per 1000 births)  GDP ($ per capita)  Literacy (%)  \\\n",
      "138                                5.43             27000.0          99.0   \n",
      "\n",
      "     Phones (per 1000)  Arable (%)  Crops (%)  Other (%)  Climate  Birthrate  \\\n",
      "138             1035.6         0.0        0.0      100.0        0       9.19   \n",
      "\n",
      "     Deathrate  Agriculture  Industry  Service  label  \n",
      "138      12.91         0.17       0.0      0.0     16  \n",
      "==========\n",
      "cluster 17\n",
      "           Country  Population  Area (sq. mi.)  Pop. Density (per sq. mi.)  \\\n",
      "66  Faroe Islands        47246            1399                        33.8   \n",
      "\n",
      "    Coastline (coast/area ratio)  Net migration  \\\n",
      "66                         79.84           1.41   \n",
      "\n",
      "    Infant mortality (per 1000 births)  GDP ($ per capita)  Literacy (%)  \\\n",
      "66                                6.24             22000.0           0.0   \n",
      "\n",
      "    Phones (per 1000)  Arable (%)  Crops (%)  Other (%)  Climate  Birthrate  \\\n",
      "66              503.8        2.14        0.0      97.86        0      14.05   \n",
      "\n",
      "    Deathrate  Agriculture  Industry  Service  label  \n",
      "66        8.7         0.27      0.11     0.62     17  \n",
      "==========\n",
      "cluster 18\n",
      "         Country  Population  Area (sq. mi.)  Pop. Density (per sq. mi.)  \\\n",
      "4       Andorra        71201             468                       152.1   \n",
      "99  Isle of Man        75441             572                       131.9   \n",
      "\n",
      "    Coastline (coast/area ratio)  Net migration  \\\n",
      "4                           0.00           6.60   \n",
      "99                         27.97           5.36   \n",
      "\n",
      "    Infant mortality (per 1000 births)  GDP ($ per capita)  Literacy (%)  \\\n",
      "4                                 4.05             19000.0         100.0   \n",
      "99                                5.93             21000.0           0.0   \n",
      "\n",
      "    Phones (per 1000)  Arable (%)  Crops (%)  Other (%)  Climate  Birthrate  \\\n",
      "4               497.2        2.22        0.0      97.78        3       8.71   \n",
      "99              676.0        9.00        0.0      91.00        3      11.05   \n",
      "\n",
      "    Deathrate  Agriculture  Industry  Service  label  \n",
      "4        6.25         0.00      0.00     0.00     18  \n",
      "99      11.19         0.01      0.13     0.86     18  \n",
      "==========\n",
      "cluster 19\n",
      "      Country  Population  Area (sq. mi.)  Pop. Density (per sq. mi.)  \\\n",
      "85  Guernsey        65409              78                       838.6   \n",
      "\n",
      "    Coastline (coast/area ratio)  Net migration  \\\n",
      "85                          64.1           3.84   \n",
      "\n",
      "    Infant mortality (per 1000 births)  GDP ($ per capita)  Literacy (%)  \\\n",
      "85                                4.71             20000.0           0.0   \n",
      "\n",
      "    Phones (per 1000)  Arable (%)  Crops (%)  Other (%)  Climate  Birthrate  \\\n",
      "85              842.4         0.0        0.0        0.0        3       8.81   \n",
      "\n",
      "    Deathrate  Agriculture  Industry  Service  label  \n",
      "85      10.01         0.03       0.1     0.87     19  \n",
      "==========\n",
      "cluster 20\n",
      "     Country  Population  Area (sq. mi.)  Pop. Density (per sq. mi.)  \\\n",
      "104  Jersey        91084             116                       785.2   \n",
      "\n",
      "     Coastline (coast/area ratio)  Net migration  \\\n",
      "104                         60.34           2.76   \n",
      "\n",
      "     Infant mortality (per 1000 births)  GDP ($ per capita)  Literacy (%)  \\\n",
      "104                                5.24             24800.0           0.0   \n",
      "\n",
      "     Phones (per 1000)  Arable (%)  Crops (%)  Other (%)  Climate  Birthrate  \\\n",
      "104              811.3         0.0        0.0      100.0        3        9.3   \n",
      "\n",
      "     Deathrate  Agriculture  Industry  Service  label  \n",
      "104       9.28         0.05      0.02     0.93     20  \n",
      "==========\n",
      "cluster 21\n",
      "         Country  Population  Area (sq. mi.)  Pop. Density (per sq. mi.)  \\\n",
      "121  Luxembourg       474413            2586                       183.5   \n",
      "129       Malta       400214             316                      1266.5   \n",
      "\n",
      "     Coastline (coast/area ratio)  Net migration  \\\n",
      "121                          0.00           8.97   \n",
      "129                         62.28           2.07   \n",
      "\n",
      "     Infant mortality (per 1000 births)  GDP ($ per capita)  Literacy (%)  \\\n",
      "121                                4.81             55100.0         100.0   \n",
      "129                                3.89             17700.0          92.8   \n",
      "\n",
      "     Phones (per 1000)  Arable (%)  Crops (%)  Other (%)  Climate  Birthrate  \\\n",
      "121              515.4       23.28       0.40      76.32        0      11.94   \n",
      "129              505.0       28.13       3.13      68.74        0      10.22   \n",
      "\n",
      "     Deathrate  Agriculture  Industry  Service  label  \n",
      "121       8.41         0.01      0.13     0.86     21  \n",
      "129       8.10         0.03      0.23     0.74     21  \n",
      "==========\n",
      "cluster 22\n",
      "     Country  Population  Area (sq. mi.)  Pop. Density (per sq. mi.)  \\\n",
      "93  Iceland       299388          103000                         2.9   \n",
      "\n",
      "    Coastline (coast/area ratio)  Net migration  \\\n",
      "93                          4.83           2.38   \n",
      "\n",
      "    Infant mortality (per 1000 births)  GDP ($ per capita)  Literacy (%)  \\\n",
      "93                                3.31             30900.0          99.9   \n",
      "\n",
      "    Phones (per 1000)  Arable (%)  Crops (%)  Other (%)  Climate  Birthrate  \\\n",
      "93              647.7        0.07        0.0      99.93        3      13.64   \n",
      "\n",
      "    Deathrate  Agriculture  Industry  Service  label  \n",
      "93       6.72        0.086      0.15    0.765     22  \n",
      "==========\n",
      "cluster 23\n",
      "     Country  Population  Area (sq. mi.)  Pop. Density (per sq. mi.)  \\\n",
      "163  Poland     38536869          312685                       123.3   \n",
      "190   Spain     40397842          504782                        80.0   \n",
      "\n",
      "     Coastline (coast/area ratio)  Net migration  \\\n",
      "163                          0.16          -0.49   \n",
      "190                          0.98           0.99   \n",
      "\n",
      "     Infant mortality (per 1000 births)  GDP ($ per capita)  Literacy (%)  \\\n",
      "163                                8.51             11100.0          99.8   \n",
      "190                                4.42             22000.0          97.9   \n",
      "\n",
      "     Phones (per 1000)  Arable (%)  Crops (%)  Other (%)  Climate  Birthrate  \\\n",
      "163              306.3       45.91       1.12      52.97        3       9.85   \n",
      "190              453.5       26.07       9.87      64.06        3      10.06   \n",
      "\n",
      "     Deathrate  Agriculture  Industry  Service  label  \n",
      "163       9.89         0.05     0.311    0.640     23  \n",
      "190       9.72         0.04     0.295    0.665     23  \n",
      "==========\n",
      "cluster 24\n",
      "             Country  Population  Area (sq. mi.)  Pop. Density (per sq. mi.)  \\\n",
      "69           France     60876136          547030                       111.3   \n",
      "213  United Kingdom     60609153          244820                       247.6   \n",
      "\n",
      "     Coastline (coast/area ratio)  Net migration  \\\n",
      "69                           0.63           0.66   \n",
      "213                          5.08           2.19   \n",
      "\n",
      "     Infant mortality (per 1000 births)  GDP ($ per capita)  Literacy (%)  \\\n",
      "69                                 4.26             27600.0          99.0   \n",
      "213                                5.16             27700.0          99.0   \n",
      "\n",
      "     Phones (per 1000)  Arable (%)  Crops (%)  Other (%)  Climate  Birthrate  \\\n",
      "69               586.4       33.53       2.07      64.40        4      11.99   \n",
      "213              543.5       23.46       0.21      76.33        3      10.71   \n",
      "\n",
      "     Deathrate  Agriculture  Industry  Service  label  \n",
      "69        9.14        0.022     0.214    0.764     24  \n",
      "213      10.13        0.005     0.237    0.758     24  \n",
      "==========\n",
      "cluster 25\n",
      "    Country  Population  Area (sq. mi.)  Pop. Density (per sq. mi.)  \\\n",
      "101  Italy     58133509          301230                       193.0   \n",
      "\n",
      "     Coastline (coast/area ratio)  Net migration  \\\n",
      "101                          2.52           2.07   \n",
      "\n",
      "     Infant mortality (per 1000 births)  GDP ($ per capita)  Literacy (%)  \\\n",
      "101                                5.94             26700.0          98.6   \n",
      "\n",
      "     Phones (per 1000)  Arable (%)  Crops (%)  Other (%)  Climate  Birthrate  \\\n",
      "101              430.9       27.79       9.53      62.68        0       8.72   \n",
      "\n",
      "     Deathrate  Agriculture  Industry  Service  label  \n",
      "101       10.4        0.021     0.291    0.688     25  \n",
      "==========\n",
      "cluster 26\n",
      "     Country  Population  Area (sq. mi.)  Pop. Density (per sq. mi.)  \\\n",
      "76  Germany     82422299          357021                       230.9   \n",
      "\n",
      "    Coastline (coast/area ratio)  Net migration  \\\n",
      "76                          0.67           2.18   \n",
      "\n",
      "    Infant mortality (per 1000 births)  GDP ($ per capita)  Literacy (%)  \\\n",
      "76                                4.16             27600.0          99.0   \n",
      "\n",
      "    Phones (per 1000)  Arable (%)  Crops (%)  Other (%)  Climate  Birthrate  \\\n",
      "76              667.9       33.85       0.59      65.56        3       8.25   \n",
      "\n",
      "    Deathrate  Agriculture  Industry  Service  label  \n",
      "76      10.62        0.009     0.296    0.695     26  \n"
     ]
    }
   ],
   "source": [
    "for i, group in df.groupby(\"label\"):\n",
    "    print(\"=\" * 10)\n",
    "    print(\"cluster {}\".format(i))\n",
    "    print(group)"
   ]
  },
  {
   "cell_type": "markdown",
   "metadata": {},
   "source": [
    "# DBSCAN\n",
    "Кластеризация абонентов сотовой связи по координатам"
   ]
  },
  {
   "cell_type": "code",
   "execution_count": 198,
   "metadata": {
    "ExecuteTime": {
     "end_time": "2020-05-02T18:36:21.719708Z",
     "start_time": "2020-05-02T18:36:21.624346Z"
    }
   },
   "outputs": [],
   "source": [
    "import os\n",
    "os.environ[\"PROJ_LIB\"] = os.path.join(os.environ[\"CONDA_PREFIX\"], \"share\", \"proj\")\n",
    "\n",
    "import seaborn as sns\n",
    "from sklearn.cluster import DBSCAN\n",
    "from mpl_toolkits.basemap import Basemap"
   ]
  },
  {
   "cell_type": "code",
   "execution_count": 206,
   "metadata": {
    "ExecuteTime": {
     "end_time": "2020-05-02T18:40:10.346437Z",
     "start_time": "2020-05-02T18:40:10.312311Z"
    }
   },
   "outputs": [
    {
     "data": {
      "text/html": [
       "<div>\n",
       "<style scoped>\n",
       "    .dataframe tbody tr th:only-of-type {\n",
       "        vertical-align: middle;\n",
       "    }\n",
       "\n",
       "    .dataframe tbody tr th {\n",
       "        vertical-align: top;\n",
       "    }\n",
       "\n",
       "    .dataframe thead th {\n",
       "        text-align: right;\n",
       "    }\n",
       "</style>\n",
       "<table border=\"1\" class=\"dataframe\">\n",
       "  <thead>\n",
       "    <tr style=\"text-align: right;\">\n",
       "      <th></th>\n",
       "      <th>lac</th>\n",
       "      <th>cid</th>\n",
       "      <th>msisdn</th>\n",
       "      <th>imei</th>\n",
       "      <th>event_type</th>\n",
       "      <th>tstamp</th>\n",
       "      <th>long</th>\n",
       "      <th>lat</th>\n",
       "      <th>max_dist</th>\n",
       "      <th>cell_type</th>\n",
       "      <th>start_angle</th>\n",
       "      <th>end_angle</th>\n",
       "    </tr>\n",
       "  </thead>\n",
       "  <tbody>\n",
       "    <tr>\n",
       "      <th>0</th>\n",
       "      <td>5029</td>\n",
       "      <td>40798</td>\n",
       "      <td>158529599791</td>\n",
       "      <td>3.531111e+14</td>\n",
       "      <td>0</td>\n",
       "      <td>1369252800974</td>\n",
       "      <td>37.9305</td>\n",
       "      <td>55.7815</td>\n",
       "      <td>2101</td>\n",
       "      <td>OUTDOOR</td>\n",
       "      <td>220.0</td>\n",
       "      <td>280.0</td>\n",
       "    </tr>\n",
       "    <tr>\n",
       "      <th>1</th>\n",
       "      <td>7782</td>\n",
       "      <td>56870</td>\n",
       "      <td>158520145943</td>\n",
       "      <td>1.292900e+13</td>\n",
       "      <td>5</td>\n",
       "      <td>1369252801396</td>\n",
       "      <td>37.4239</td>\n",
       "      <td>55.7426</td>\n",
       "      <td>2</td>\n",
       "      <td>OUTDOOR</td>\n",
       "      <td>45.0</td>\n",
       "      <td>105.0</td>\n",
       "    </tr>\n",
       "    <tr>\n",
       "      <th>2</th>\n",
       "      <td>7794</td>\n",
       "      <td>32226</td>\n",
       "      <td>158521798391</td>\n",
       "      <td>3.519940e+14</td>\n",
       "      <td>5</td>\n",
       "      <td>1369252802013</td>\n",
       "      <td>37.7034</td>\n",
       "      <td>55.5803</td>\n",
       "      <td>1125</td>\n",
       "      <td>OUTDOOR</td>\n",
       "      <td>0.0</td>\n",
       "      <td>60.0</td>\n",
       "    </tr>\n",
       "    <tr>\n",
       "      <th>3</th>\n",
       "      <td>7758</td>\n",
       "      <td>33528</td>\n",
       "      <td>158537830573</td>\n",
       "      <td>3.586270e+14</td>\n",
       "      <td>0</td>\n",
       "      <td>1369252802331</td>\n",
       "      <td>37.7895</td>\n",
       "      <td>55.7042</td>\n",
       "      <td>1158</td>\n",
       "      <td>OUTDOOR</td>\n",
       "      <td>210.0</td>\n",
       "      <td>270.0</td>\n",
       "    </tr>\n",
       "    <tr>\n",
       "      <th>4</th>\n",
       "      <td>5060</td>\n",
       "      <td>17568</td>\n",
       "      <td>158510204039</td>\n",
       "      <td>3.524581e+14</td>\n",
       "      <td>8</td>\n",
       "      <td>1369252803586</td>\n",
       "      <td>37.1900</td>\n",
       "      <td>55.8308</td>\n",
       "      <td>500</td>\n",
       "      <td>OUTDOOR</td>\n",
       "      <td>180.0</td>\n",
       "      <td>240.0</td>\n",
       "    </tr>\n",
       "  </tbody>\n",
       "</table>\n",
       "</div>"
      ],
      "text/plain": [
       "    lac    cid        msisdn          imei  event_type         tstamp  \\\n",
       "0  5029  40798  158529599791  3.531111e+14           0  1369252800974   \n",
       "1  7782  56870  158520145943  1.292900e+13           5  1369252801396   \n",
       "2  7794  32226  158521798391  3.519940e+14           5  1369252802013   \n",
       "3  7758  33528  158537830573  3.586270e+14           0  1369252802331   \n",
       "4  5060  17568  158510204039  3.524581e+14           8  1369252803586   \n",
       "\n",
       "      long      lat  max_dist cell_type  start_angle  end_angle  \n",
       "0  37.9305  55.7815      2101   OUTDOOR        220.0      280.0  \n",
       "1  37.4239  55.7426         2   OUTDOOR         45.0      105.0  \n",
       "2  37.7034  55.5803      1125   OUTDOOR          0.0       60.0  \n",
       "3  37.7895  55.7042      1158   OUTDOOR        210.0      270.0  \n",
       "4  37.1900  55.8308       500   OUTDOOR        180.0      240.0  "
      ]
     },
     "execution_count": 206,
     "metadata": {},
     "output_type": "execute_result"
    }
   ],
   "source": [
    "df.head()"
   ]
  },
  {
   "cell_type": "code",
   "execution_count": 4,
   "metadata": {
    "ExecuteTime": {
     "end_time": "2020-05-02T19:39:43.637757Z",
     "start_time": "2020-05-02T19:39:43.329468Z"
    }
   },
   "outputs": [
    {
     "data": {
      "text/plain": [
       "(77847, 3)"
      ]
     },
     "execution_count": 4,
     "metadata": {},
     "output_type": "execute_result"
    }
   ],
   "source": [
    "df = pd.read_csv(\"datasets/15/gps_data.csv\", sep=\";\")\n",
    "df = df[df[\"event_type\"]==0][[\"msisdn\", \"long\", \"lat\"]]\n",
    "df.shape"
   ]
  },
  {
   "cell_type": "code",
   "execution_count": 247,
   "metadata": {
    "ExecuteTime": {
     "end_time": "2020-05-02T18:57:49.784896Z",
     "start_time": "2020-05-02T18:57:49.779506Z"
    }
   },
   "outputs": [],
   "source": [
    "lat = df['lat'].values\n",
    "lon = df['long'].values\n",
    "population = df['msisdn'].values"
   ]
  },
  {
   "cell_type": "code",
   "execution_count": 317,
   "metadata": {
    "ExecuteTime": {
     "end_time": "2020-05-02T19:29:45.018337Z",
     "start_time": "2020-05-02T19:29:44.111947Z"
    }
   },
   "outputs": [
    {
     "data": {
      "image/png": "[encoded data removed]",
      "text/plain": [
       "<Figure size 1080x720 with 1 Axes>"
      ]
     },
     "metadata": {
      "needs_background": "light"
     },
     "output_type": "display_data"
    }
   ],
   "source": [
    "plt.figure(figsize=(15,10))\n",
    "sns.scatterplot(x=\"lat\", y=\"long\", data=df_geo)\n",
    "plt.show()"
   ]
  },
  {
   "cell_type": "code",
   "execution_count": 248,
   "metadata": {
    "ExecuteTime": {
     "end_time": "2020-05-02T18:57:55.830716Z",
     "start_time": "2020-05-02T18:57:55.824669Z"
    }
   },
   "outputs": [],
   "source": [
    "df_geo = df[[\"lat\", \"long\"]]"
   ]
  },
  {
   "cell_type": "code",
   "execution_count": 249,
   "metadata": {
    "ExecuteTime": {
     "end_time": "2020-05-02T18:57:56.307343Z",
     "start_time": "2020-05-02T18:57:56.303916Z"
    }
   },
   "outputs": [],
   "source": [
    "km_in_radian = 6371.0088"
   ]
  },
  {
   "cell_type": "code",
   "execution_count": 250,
   "metadata": {
    "ExecuteTime": {
     "end_time": "2020-05-02T18:57:56.814842Z",
     "start_time": "2020-05-02T18:57:56.808344Z"
    }
   },
   "outputs": [],
   "source": [
    "X = np.radians(df_geo.values)"
   ]
  },
  {
   "cell_type": "code",
   "execution_count": 251,
   "metadata": {
    "ExecuteTime": {
     "end_time": "2020-05-02T18:57:57.587923Z",
     "start_time": "2020-05-02T18:57:57.583959Z"
    }
   },
   "outputs": [],
   "source": [
    "from sklearn.neighbors import NearestNeighbors"
   ]
  },
  {
   "cell_type": "code",
   "execution_count": 252,
   "metadata": {
    "ExecuteTime": {
     "end_time": "2020-05-02T18:57:58.515163Z",
     "start_time": "2020-05-02T18:57:58.422629Z"
    }
   },
   "outputs": [
    {
     "data": {
      "text/plain": [
       "NearestNeighbors(algorithm='ball_tree', leaf_size=30, metric='haversine',\n",
       "                 metric_params=None, n_jobs=None, n_neighbors=20, p=2,\n",
       "                 radius=1.0)"
      ]
     },
     "execution_count": 252,
     "metadata": {},
     "output_type": "execute_result"
    }
   ],
   "source": [
    "model = NearestNeighbors(n_neighbors=20, metric=\"haversine\", algorithm=\"ball_tree\")\n",
    "model.fit(X)"
   ]
  },
  {
   "cell_type": "code",
   "execution_count": 274,
   "metadata": {
    "ExecuteTime": {
     "end_time": "2020-05-02T19:05:32.296550Z",
     "start_time": "2020-05-02T19:04:47.021803Z"
    }
   },
   "outputs": [],
   "source": [
    "dist, _ = model.kneighbors(X, n_neighbors=20, return_distance=True)"
   ]
  },
  {
   "cell_type": "code",
   "execution_count": 275,
   "metadata": {
    "ExecuteTime": {
     "end_time": "2020-05-02T19:05:33.800469Z",
     "start_time": "2020-05-02T19:05:33.794243Z"
    }
   },
   "outputs": [
    {
     "data": {
      "text/plain": [
       "(77847, 20)"
      ]
     },
     "execution_count": 275,
     "metadata": {},
     "output_type": "execute_result"
    }
   ],
   "source": [
    "dist.shape"
   ]
  },
  {
   "cell_type": "code",
   "execution_count": 276,
   "metadata": {
    "ExecuteTime": {
     "end_time": "2020-05-02T19:05:34.691541Z",
     "start_time": "2020-05-02T19:05:34.686546Z"
    }
   },
   "outputs": [],
   "source": [
    "dist = dist[:,-1]\n",
    "dist = np.sort(dist)"
   ]
  },
  {
   "cell_type": "code",
   "execution_count": 279,
   "metadata": {
    "ExecuteTime": {
     "end_time": "2020-05-02T19:05:41.179756Z",
     "start_time": "2020-05-02T19:05:40.977033Z"
    }
   },
   "outputs": [
    {
     "data": {
      "image/png": "[encoded data removed]",
      "text/plain": [
       "<Figure size 1080x504 with 1 Axes>"
      ]
     },
     "metadata": {
      "needs_background": "light"
     },
     "output_type": "display_data"
    }
   ],
   "source": [
    "plt.figure(figsize=(15,7))\n",
    "plt.plot(dist)\n",
    "plt.show()"
   ]
  },
  {
   "cell_type": "code",
   "execution_count": 286,
   "metadata": {
    "ExecuteTime": {
     "end_time": "2020-05-02T19:12:52.732030Z",
     "start_time": "2020-05-02T19:12:52.729347Z"
    }
   },
   "outputs": [],
   "source": [
    "# Из графика видно, что при значении 0.0005 растояние кластеров резко увеличивается\n",
    "EPS = 0.0005"
   ]
  },
  {
   "cell_type": "code",
   "execution_count": 288,
   "metadata": {
    "ExecuteTime": {
     "end_time": "2020-05-02T19:16:01.998098Z",
     "start_time": "2020-05-02T19:15:35.392406Z"
    }
   },
   "outputs": [
    {
     "data": {
      "text/plain": [
       "DBSCAN(algorithm='ball_tree', eps=0.0005, leaf_size=30, metric='haversine',\n",
       "       metric_params=None, min_samples=20, n_jobs=None, p=None)"
      ]
     },
     "execution_count": 288,
     "metadata": {},
     "output_type": "execute_result"
    }
   ],
   "source": [
    "est = DBSCAN(eps=EPS, metric=\"haversine\", algorithm=\"ball_tree\", min_samples=20)\n",
    "est.fit(X)"
   ]
  },
  {
   "cell_type": "code",
   "execution_count": 289,
   "metadata": {
    "ExecuteTime": {
     "end_time": "2020-05-02T19:16:13.288617Z",
     "start_time": "2020-05-02T19:16:13.283823Z"
    }
   },
   "outputs": [],
   "source": [
    "clusters = est.labels_"
   ]
  },
  {
   "cell_type": "code",
   "execution_count": 292,
   "metadata": {
    "ExecuteTime": {
     "end_time": "2020-05-02T19:17:09.555779Z",
     "start_time": "2020-05-02T19:17:09.543546Z"
    }
   },
   "outputs": [
    {
     "data": {
      "text/plain": [
       " 0     68257\n",
       "-1      1904\n",
       " 4       859\n",
       " 46      820\n",
       " 7       273\n",
       " 64      262\n",
       " 8       244\n",
       " 19      237\n",
       " 21      201\n",
       " 30      190\n",
       " 1       178\n",
       " 51      164\n",
       " 38      156\n",
       " 25      156\n",
       " 44      132\n",
       " 14      126\n",
       " 11      113\n",
       " 72      109\n",
       " 76      108\n",
       " 74      108\n",
       " 18      102\n",
       " 3        94\n",
       " 9        93\n",
       " 47       90\n",
       " 49       90\n",
       " 5        88\n",
       " 88       86\n",
       " 42       86\n",
       " 20       72\n",
       " 12       72\n",
       "       ...  \n",
       " 31       33\n",
       " 45       31\n",
       " 59       31\n",
       " 48       29\n",
       " 65       28\n",
       " 83       28\n",
       " 61       27\n",
       " 80       27\n",
       " 81       27\n",
       " 26       26\n",
       " 36       26\n",
       " 86       26\n",
       " 10       25\n",
       " 70       25\n",
       " 84       24\n",
       " 92       24\n",
       " 56       24\n",
       " 24       23\n",
       " 15       23\n",
       " 79       23\n",
       " 85       23\n",
       " 33       23\n",
       " 53       21\n",
       " 77       21\n",
       " 16       21\n",
       " 82       21\n",
       " 34       20\n",
       " 87       20\n",
       " 67       20\n",
       " 66       20\n",
       "Length: 94, dtype: int64"
      ]
     },
     "execution_count": 292,
     "metadata": {},
     "output_type": "execute_result"
    }
   ],
   "source": [
    "pd.Series(clusters).value_counts()"
   ]
  },
  {
   "cell_type": "code",
   "execution_count": 294,
   "metadata": {
    "ExecuteTime": {
     "end_time": "2020-05-02T19:18:32.725848Z",
     "start_time": "2020-05-02T19:18:32.170384Z"
    }
   },
   "outputs": [],
   "source": [
    "df_geo[\"clusters\"] = clusters"
   ]
  },
  {
   "cell_type": "code",
   "execution_count": 295,
   "metadata": {
    "ExecuteTime": {
     "end_time": "2020-05-02T19:18:39.457562Z",
     "start_time": "2020-05-02T19:18:39.446477Z"
    }
   },
   "outputs": [
    {
     "data": {
      "text/html": [
       "<div>\n",
       "<style scoped>\n",
       "    .dataframe tbody tr th:only-of-type {\n",
       "        vertical-align: middle;\n",
       "    }\n",
       "\n",
       "    .dataframe tbody tr th {\n",
       "        vertical-align: top;\n",
       "    }\n",
       "\n",
       "    .dataframe thead th {\n",
       "        text-align: right;\n",
       "    }\n",
       "</style>\n",
       "<table border=\"1\" class=\"dataframe\">\n",
       "  <thead>\n",
       "    <tr style=\"text-align: right;\">\n",
       "      <th></th>\n",
       "      <th>lat</th>\n",
       "      <th>long</th>\n",
       "      <th>clusters</th>\n",
       "    </tr>\n",
       "  </thead>\n",
       "  <tbody>\n",
       "    <tr>\n",
       "      <th>0</th>\n",
       "      <td>55.7815</td>\n",
       "      <td>37.9305</td>\n",
       "      <td>0</td>\n",
       "    </tr>\n",
       "    <tr>\n",
       "      <th>3</th>\n",
       "      <td>55.7042</td>\n",
       "      <td>37.7895</td>\n",
       "      <td>0</td>\n",
       "    </tr>\n",
       "    <tr>\n",
       "      <th>6</th>\n",
       "      <td>55.7445</td>\n",
       "      <td>37.5660</td>\n",
       "      <td>0</td>\n",
       "    </tr>\n",
       "    <tr>\n",
       "      <th>7</th>\n",
       "      <td>55.7793</td>\n",
       "      <td>37.9052</td>\n",
       "      <td>0</td>\n",
       "    </tr>\n",
       "    <tr>\n",
       "      <th>9</th>\n",
       "      <td>55.9318</td>\n",
       "      <td>37.8095</td>\n",
       "      <td>0</td>\n",
       "    </tr>\n",
       "  </tbody>\n",
       "</table>\n",
       "</div>"
      ],
      "text/plain": [
       "       lat     long  clusters\n",
       "0  55.7815  37.9305         0\n",
       "3  55.7042  37.7895         0\n",
       "6  55.7445  37.5660         0\n",
       "7  55.7793  37.9052         0\n",
       "9  55.9318  37.8095         0"
      ]
     },
     "execution_count": 295,
     "metadata": {},
     "output_type": "execute_result"
    }
   ],
   "source": [
    "df_geo.head()"
   ]
  },
  {
   "cell_type": "code",
   "execution_count": 314,
   "metadata": {
    "ExecuteTime": {
     "end_time": "2020-05-02T19:28:28.087035Z",
     "start_time": "2020-05-02T19:28:28.080505Z"
    }
   },
   "outputs": [],
   "source": [
    "df_geo_clean = df_geo[~df_geo[\"clusters\"].isin([-1,0])]"
   ]
  },
  {
   "cell_type": "code",
   "execution_count": 315,
   "metadata": {
    "ExecuteTime": {
     "end_time": "2020-05-02T19:28:32.834053Z",
     "start_time": "2020-05-02T19:28:32.071889Z"
    }
   },
   "outputs": [
    {
     "data": {
      "text/plain": [
       "<matplotlib.axes._subplots.AxesSubplot at 0x1a3495e5c0>"
      ]
     },
     "execution_count": 315,
     "metadata": {},
     "output_type": "execute_result"
    },
    {
     "data": {
      "image/png": "[encoded data removed]",
      "text/plain": [
       "<Figure size 1080x720 with 1 Axes>"
      ]
     },
     "metadata": {
      "needs_background": "light"
     },
     "output_type": "display_data"
    }
   ],
   "source": [
    "plt.figure(figsize=(15,10))\n",
    "sns.scatterplot(x=\"lat\", y=\"long\", hue=\"clusters\", data=df_geo_clean)"
   ]
  }
 ],
 "metadata": {
  "kernelspec": {
   "display_name": "Python 3",
   "language": "python",
   "name": "python3"
  },
  "language_info": {
   "codemirror_mode": {
    "name": "ipython",
    "version": 3
   },
   "file_extension": ".py",
   "mimetype": "text/x-python",
   "name": "python",
   "nbconvert_exporter": "python",
   "pygments_lexer": "ipython3",
   "version": "3.7.3"
  },
  "toc": {
   "base_numbering": 1,
   "nav_menu": {},
   "number_sections": true,
   "sideBar": true,
   "skip_h1_title": false,
   "title_cell": "Table of Contents",
   "title_sidebar": "Contents",
   "toc_cell": false,
   "toc_position": {},
   "toc_section_display": true,
   "toc_window_display": true
  },
  "varInspector": {
   "cols": {
    "lenName": 16,
    "lenType": 16,
    "lenVar": 40
   },
   "kernels_config": {
    "python": {
     "delete_cmd_postfix": "",
     "delete_cmd_prefix": "del ",
     "library": "var_list.py",
     "varRefreshCmd": "print(var_dic_list())"
    },
    "r": {
     "delete_cmd_postfix": ") ",
     "delete_cmd_prefix": "rm(",
     "library": "var_list.r",
     "varRefreshCmd": "cat(var_dic_list()) "
    }
   },
   "types_to_exclude": [
    "module",
    "function",
    "builtin_function_or_method",
    "instance",
    "_Feature"
   ],
   "window_display": false
  }
 },
 "nbformat": 4,
 "nbformat_minor": 2
}
