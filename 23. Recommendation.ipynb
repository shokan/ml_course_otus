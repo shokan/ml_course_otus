{
 "cells": [
  {
   "cell_type": "markdown",
   "metadata": {
    "ExecuteTime": {
     "end_time": "2020-06-13T17:30:11.514878Z",
     "start_time": "2020-06-13T17:30:11.510966Z"
    }
   },
   "source": [
    "# Данные\n",
    "http://jmcauley.ucsd.edu/data/amazon/links.html, SMALL выборка из категории Amazon Fashion\t\n",
    "- reviewerID - ID of the reviewer, e.g. A2SUAM1J3GNN3B\n",
    "- asin - ID of the product, e.g. 0000013714\n",
    "- reviewerName - name of the reviewer\n",
    "- vote - helpful votes of the review\n",
    "- style - a disctionary of the product metadata, e.g., \"Format\" is \"Hardcover\"\n",
    "- reviewText - text of the review\n",
    "- overall - rating of the product\n",
    "- summary - summary of the review\n",
    "- unixReviewTime - time of the review (unix time)\n",
    "- reviewTime - time of the review (raw)\n",
    "- image - images that users post after they have received the product"
   ]
  },
  {
   "cell_type": "code",
   "execution_count": 115,
   "metadata": {
    "ExecuteTime": {
     "end_time": "2020-06-14T15:53:18.316283Z",
     "start_time": "2020-06-14T15:53:18.312338Z"
    }
   },
   "outputs": [],
   "source": [
    "import pandas as pd\n",
    "import scipy.sparse as sparse\n",
    "import numpy as np\n",
    "from scipy.sparse.linalg import spsolve\n",
    "import warnings\n",
    "warnings.filterwarnings(\"ignore\")"
   ]
  },
  {
   "cell_type": "markdown",
   "metadata": {},
   "source": [
    "# Предобработка"
   ]
  },
  {
   "cell_type": "code",
   "execution_count": 112,
   "metadata": {
    "ExecuteTime": {
     "end_time": "2020-06-14T15:52:04.762523Z",
     "start_time": "2020-06-14T15:52:04.650805Z"
    }
   },
   "outputs": [
    {
     "name": "stdout",
     "output_type": "stream",
     "text": [
      "(3108, 12)\n"
     ]
    },
    {
     "data": {
      "text/html": [
       "<div>\n",
       "<style scoped>\n",
       "    .dataframe tbody tr th:only-of-type {\n",
       "        vertical-align: middle;\n",
       "    }\n",
       "\n",
       "    .dataframe tbody tr th {\n",
       "        vertical-align: top;\n",
       "    }\n",
       "\n",
       "    .dataframe thead th {\n",
       "        text-align: right;\n",
       "    }\n",
       "</style>\n",
       "<table border=\"1\" class=\"dataframe\">\n",
       "  <thead>\n",
       "    <tr style=\"text-align: right;\">\n",
       "      <th></th>\n",
       "      <th>asin</th>\n",
       "      <th>image</th>\n",
       "      <th>overall</th>\n",
       "      <th>reviewText</th>\n",
       "      <th>reviewTime</th>\n",
       "      <th>reviewerID</th>\n",
       "      <th>reviewerName</th>\n",
       "      <th>style</th>\n",
       "      <th>summary</th>\n",
       "      <th>unixReviewTime</th>\n",
       "      <th>verified</th>\n",
       "      <th>vote</th>\n",
       "    </tr>\n",
       "  </thead>\n",
       "  <tbody>\n",
       "    <tr>\n",
       "      <th>0</th>\n",
       "      <td>B000K2PJ4K</td>\n",
       "      <td>NaN</td>\n",
       "      <td>5</td>\n",
       "      <td>Great product and price!</td>\n",
       "      <td>09 4, 2015</td>\n",
       "      <td>ALJ66O1Y6SLHA</td>\n",
       "      <td>Tonya B.</td>\n",
       "      <td>{'Size:': ' Big Boys', 'Color:': ' Blue/Orange'}</td>\n",
       "      <td>Five Stars</td>\n",
       "      <td>1441324800</td>\n",
       "      <td>True</td>\n",
       "      <td>NaN</td>\n",
       "    </tr>\n",
       "    <tr>\n",
       "      <th>1</th>\n",
       "      <td>B000K2PJ4K</td>\n",
       "      <td>NaN</td>\n",
       "      <td>5</td>\n",
       "      <td>Great product and price!</td>\n",
       "      <td>09 4, 2015</td>\n",
       "      <td>ALJ66O1Y6SLHA</td>\n",
       "      <td>Tonya B.</td>\n",
       "      <td>{'Size:': ' Big Boys', 'Color:': ' Black (3746...</td>\n",
       "      <td>Five Stars</td>\n",
       "      <td>1441324800</td>\n",
       "      <td>True</td>\n",
       "      <td>NaN</td>\n",
       "    </tr>\n",
       "    <tr>\n",
       "      <th>2</th>\n",
       "      <td>B000K2PJ4K</td>\n",
       "      <td>NaN</td>\n",
       "      <td>5</td>\n",
       "      <td>Great product and price!</td>\n",
       "      <td>09 4, 2015</td>\n",
       "      <td>ALJ66O1Y6SLHA</td>\n",
       "      <td>Tonya B.</td>\n",
       "      <td>{'Size:': ' Big Boys', 'Color:': ' Blue/Gray L...</td>\n",
       "      <td>Five Stars</td>\n",
       "      <td>1441324800</td>\n",
       "      <td>True</td>\n",
       "      <td>NaN</td>\n",
       "    </tr>\n",
       "  </tbody>\n",
       "</table>\n",
       "</div>"
      ],
      "text/plain": [
       "         asin image  overall                reviewText  reviewTime  \\\n",
       "0  B000K2PJ4K   NaN        5  Great product and price!  09 4, 2015   \n",
       "1  B000K2PJ4K   NaN        5  Great product and price!  09 4, 2015   \n",
       "2  B000K2PJ4K   NaN        5  Great product and price!  09 4, 2015   \n",
       "\n",
       "      reviewerID reviewerName  \\\n",
       "0  ALJ66O1Y6SLHA     Tonya B.   \n",
       "1  ALJ66O1Y6SLHA     Tonya B.   \n",
       "2  ALJ66O1Y6SLHA     Tonya B.   \n",
       "\n",
       "                                               style     summary  \\\n",
       "0   {'Size:': ' Big Boys', 'Color:': ' Blue/Orange'}  Five Stars   \n",
       "1  {'Size:': ' Big Boys', 'Color:': ' Black (3746...  Five Stars   \n",
       "2  {'Size:': ' Big Boys', 'Color:': ' Blue/Gray L...  Five Stars   \n",
       "\n",
       "   unixReviewTime  verified  vote  \n",
       "0      1441324800      True   NaN  \n",
       "1      1441324800      True   NaN  \n",
       "2      1441324800      True   NaN  "
      ]
     },
     "execution_count": 112,
     "metadata": {},
     "output_type": "execute_result"
    }
   ],
   "source": [
    "df = pd.read_json(\"datasets/23/AMAZON_FASHION_5.json\", lines=True)\n",
    "df = df.loc[df.astype(str).drop_duplicates().index]\n",
    "print(df.shape)\n",
    "df.head(3)"
   ]
  },
  {
   "cell_type": "code",
   "execution_count": 113,
   "metadata": {
    "ExecuteTime": {
     "end_time": "2020-06-14T15:52:07.299510Z",
     "start_time": "2020-06-14T15:52:07.278187Z"
    }
   },
   "outputs": [
    {
     "data": {
      "text/html": [
       "<div>\n",
       "<style scoped>\n",
       "    .dataframe tbody tr th:only-of-type {\n",
       "        vertical-align: middle;\n",
       "    }\n",
       "\n",
       "    .dataframe tbody tr th {\n",
       "        vertical-align: top;\n",
       "    }\n",
       "\n",
       "    .dataframe thead th {\n",
       "        text-align: right;\n",
       "    }\n",
       "</style>\n",
       "<table border=\"1\" class=\"dataframe\">\n",
       "  <thead>\n",
       "    <tr style=\"text-align: right;\">\n",
       "      <th></th>\n",
       "      <th>CustomerID</th>\n",
       "      <th>StockCode</th>\n",
       "      <th>Quantity</th>\n",
       "    </tr>\n",
       "  </thead>\n",
       "  <tbody>\n",
       "    <tr>\n",
       "      <th>0</th>\n",
       "      <td>A10RXRZE0TAKPU</td>\n",
       "      <td>B0014F7B98</td>\n",
       "      <td>1</td>\n",
       "    </tr>\n",
       "    <tr>\n",
       "      <th>1</th>\n",
       "      <td>A10RXRZE0TAKPU</td>\n",
       "      <td>B001IKJOLW</td>\n",
       "      <td>1</td>\n",
       "    </tr>\n",
       "    <tr>\n",
       "      <th>2</th>\n",
       "      <td>A10RXRZE0TAKPU</td>\n",
       "      <td>B0058YEJ5K</td>\n",
       "      <td>1</td>\n",
       "    </tr>\n",
       "  </tbody>\n",
       "</table>\n",
       "</div>"
      ],
      "text/plain": [
       "       CustomerID   StockCode  Quantity\n",
       "0  A10RXRZE0TAKPU  B0014F7B98         1\n",
       "1  A10RXRZE0TAKPU  B001IKJOLW         1\n",
       "2  A10RXRZE0TAKPU  B0058YEJ5K         1"
      ]
     },
     "execution_count": 113,
     "metadata": {},
     "output_type": "execute_result"
    }
   ],
   "source": [
    "grouped_purchased = df.groupby([\"reviewerID\", \"asin\"]).size().to_frame(\"Quantity\").reset_index()\n",
    "grouped_purchased.rename(columns={'reviewerID': 'CustomerID', 'asin': 'StockCode'}, inplace=True)\n",
    "grouped_purchased.head(3)"
   ]
  },
  {
   "cell_type": "code",
   "execution_count": 70,
   "metadata": {
    "ExecuteTime": {
     "end_time": "2020-06-14T15:33:09.003250Z",
     "start_time": "2020-06-14T15:33:08.977779Z"
    }
   },
   "outputs": [
    {
     "data": {
      "text/plain": [
       "(406, 31, 3042)"
      ]
     },
     "execution_count": 70,
     "metadata": {},
     "output_type": "execute_result"
    }
   ],
   "source": [
    "customers = list(np.sort(grouped_purchased[\"CustomerID\"].unique())) \n",
    "products = list(grouped_purchased[\"StockCode\"].unique()) \n",
    "quantity = list(grouped_purchased[\"Quantity\"])\n",
    "\n",
    "rows = grouped_purchased[\"CustomerID\"].astype('category').cat.codes \n",
    "cols = grouped_purchased[\"StockCode\"].astype('category').cat.codes \n",
    "purchases_sparse = sparse.csr_matrix((quantity, (rows, cols)), shape=(len(customers), len(products)))\n",
    "\n",
    "len(customers), len(products), len(quantity)"
   ]
  },
  {
   "cell_type": "code",
   "execution_count": 71,
   "metadata": {
    "ExecuteTime": {
     "end_time": "2020-06-14T15:33:27.416065Z",
     "start_time": "2020-06-14T15:33:27.407643Z"
    }
   },
   "outputs": [
    {
     "data": {
      "text/plain": [
       "75.83028762116638"
      ]
     },
     "execution_count": 71,
     "metadata": {},
     "output_type": "execute_result"
    }
   ],
   "source": [
    "matrix_size = purchases_sparse.shape[0]*purchases_sparse.shape[1] \n",
    "num_purchases = len(purchases_sparse.nonzero()[0]) \n",
    "sparsity = 100*(1 - (num_purchases/matrix_size))\n",
    "sparsity"
   ]
  },
  {
   "cell_type": "markdown",
   "metadata": {},
   "source": [
    "# Моделирование (base-line)"
   ]
  },
  {
   "cell_type": "code",
   "execution_count": 114,
   "metadata": {
    "ExecuteTime": {
     "end_time": "2020-06-14T15:52:43.742328Z",
     "start_time": "2020-06-14T15:52:43.738700Z"
    }
   },
   "outputs": [],
   "source": [
    "import random\n",
    "import pickle\n",
    "from lightfm import LightFM\n",
    "from lightfm.evaluation import precision_at_k, auc_score"
   ]
  },
  {
   "cell_type": "code",
   "execution_count": 73,
   "metadata": {
    "ExecuteTime": {
     "end_time": "2020-06-14T15:33:45.824734Z",
     "start_time": "2020-06-14T15:33:45.815313Z"
    }
   },
   "outputs": [],
   "source": [
    "def make_train(ratings, pct_test = 0.2):\n",
    "    test_set = ratings.copy()\n",
    "    test_set[test_set != 0] = 1\n",
    "    training_set = ratings.copy() \n",
    "    nonzero_inds = training_set.nonzero() \n",
    "    nonzero_pairs = list(zip(nonzero_inds[0], nonzero_inds[1])) \n",
    "    random.seed(0) \n",
    "    num_samples = int(np.ceil(pct_test*len(nonzero_pairs))) \n",
    "    samples = random.sample(nonzero_pairs, num_samples) \n",
    "    user_inds = [index[0] for index in samples] \n",
    "    item_inds = [index[1] for index in samples] \n",
    "    training_set[user_inds, item_inds] = 0 \n",
    "    training_set.eliminate_zeros() \n",
    "    return training_set, test_set, list(set(user_inds))  "
   ]
  },
  {
   "cell_type": "code",
   "execution_count": 74,
   "metadata": {
    "ExecuteTime": {
     "end_time": "2020-06-14T15:33:56.308913Z",
     "start_time": "2020-06-14T15:33:56.298841Z"
    }
   },
   "outputs": [],
   "source": [
    "product_train, product_test, product_users_altered = make_train(purchases_sparse, pct_test = 0.2)"
   ]
  },
  {
   "cell_type": "code",
   "execution_count": 116,
   "metadata": {
    "ExecuteTime": {
     "end_time": "2020-06-14T15:53:22.878237Z",
     "start_time": "2020-06-14T15:53:22.790730Z"
    }
   },
   "outputs": [
    {
     "name": "stdout",
     "output_type": "stream",
     "text": [
      "AUC: train 1.00, test 0.95.\n"
     ]
    }
   ],
   "source": [
    "model = LightFM(loss='warp')\n",
    "model.fit_partial(product_train, epochs=40, num_threads=2)\n",
    "\n",
    "# with open('saved_model','wb') as f:\n",
    "#             saved_model={'model':model}\n",
    "#             pickle.dump(saved_model, f)\n",
    "\n",
    "\n",
    "train_auc = auc_score(model, product_train).mean()\n",
    "test_auc = auc_score(model, product_test).mean()\n",
    "\n",
    "print('AUC: train %.2f, test %.2f.' % (train_auc, test_auc))"
   ]
  },
  {
   "cell_type": "markdown",
   "metadata": {},
   "source": [
    "# Рекомендация"
   ]
  },
  {
   "cell_type": "code",
   "execution_count": 77,
   "metadata": {
    "ExecuteTime": {
     "end_time": "2020-06-14T15:37:15.334068Z",
     "start_time": "2020-06-14T15:37:15.323244Z"
    }
   },
   "outputs": [
    {
     "data": {
      "text/html": [
       "<div>\n",
       "<style scoped>\n",
       "    .dataframe tbody tr th:only-of-type {\n",
       "        vertical-align: middle;\n",
       "    }\n",
       "\n",
       "    .dataframe tbody tr th {\n",
       "        vertical-align: top;\n",
       "    }\n",
       "\n",
       "    .dataframe thead th {\n",
       "        text-align: right;\n",
       "    }\n",
       "</style>\n",
       "<table border=\"1\" class=\"dataframe\">\n",
       "  <thead>\n",
       "    <tr style=\"text-align: right;\">\n",
       "      <th></th>\n",
       "      <th>CustomerID</th>\n",
       "      <th>StockCode</th>\n",
       "      <th>Quantity</th>\n",
       "    </tr>\n",
       "  </thead>\n",
       "  <tbody>\n",
       "    <tr>\n",
       "      <th>0</th>\n",
       "      <td>A10RXRZE0TAKPU</td>\n",
       "      <td>B0014F7B98</td>\n",
       "      <td>1</td>\n",
       "    </tr>\n",
       "  </tbody>\n",
       "</table>\n",
       "</div>"
      ],
      "text/plain": [
       "       CustomerID   StockCode  Quantity\n",
       "0  A10RXRZE0TAKPU  B0014F7B98         1"
      ]
     },
     "execution_count": 77,
     "metadata": {},
     "output_type": "execute_result"
    }
   ],
   "source": [
    "grouped_purchased.head(1)"
   ]
  },
  {
   "cell_type": "code",
   "execution_count": 79,
   "metadata": {
    "ExecuteTime": {
     "end_time": "2020-06-14T15:37:38.760971Z",
     "start_time": "2020-06-14T15:37:38.744750Z"
    }
   },
   "outputs": [],
   "source": [
    "ziped = np.array(list(zip(grouped_purchased.StockCode.astype('category'), cols)))\n",
    "mapping = pd.Series(ziped[:, 0], index=ziped[:, 1].astype('int32')).drop_duplicates()"
   ]
  },
  {
   "cell_type": "code",
   "execution_count": 80,
   "metadata": {
    "ExecuteTime": {
     "end_time": "2020-06-14T15:37:54.052756Z",
     "start_time": "2020-06-14T15:37:54.045159Z"
    }
   },
   "outputs": [
    {
     "data": {
      "text/plain": [
       "6     B0014F7B98\n",
       "11    B001IKJOLW\n",
       "14    B0058YEJ5K\n",
       "15    B005AGO4LU\n",
       "16    B0092UF54A\n",
       "dtype: object"
      ]
     },
     "execution_count": 80,
     "metadata": {},
     "output_type": "execute_result"
    }
   ],
   "source": [
    "mapping.head()"
   ]
  },
  {
   "cell_type": "code",
   "execution_count": 117,
   "metadata": {
    "ExecuteTime": {
     "end_time": "2020-06-14T15:53:55.603771Z",
     "start_time": "2020-06-14T15:53:55.576854Z"
    }
   },
   "outputs": [
    {
     "data": {
      "text/html": [
       "<div>\n",
       "<style scoped>\n",
       "    .dataframe tbody tr th:only-of-type {\n",
       "        vertical-align: middle;\n",
       "    }\n",
       "\n",
       "    .dataframe tbody tr th {\n",
       "        vertical-align: top;\n",
       "    }\n",
       "\n",
       "    .dataframe thead th {\n",
       "        text-align: right;\n",
       "    }\n",
       "</style>\n",
       "<table border=\"1\" class=\"dataframe\">\n",
       "  <thead>\n",
       "    <tr style=\"text-align: right;\">\n",
       "      <th></th>\n",
       "      <th>reviewText</th>\n",
       "    </tr>\n",
       "    <tr>\n",
       "      <th>asin</th>\n",
       "      <th></th>\n",
       "    </tr>\n",
       "  </thead>\n",
       "  <tbody>\n",
       "    <tr>\n",
       "      <th>B000K2PJ4K</th>\n",
       "      <td>Great product and price!</td>\n",
       "    </tr>\n",
       "    <tr>\n",
       "      <th>B000K2PJ4K</th>\n",
       "      <td>Waaay too small. Will use for futur children!</td>\n",
       "    </tr>\n",
       "    <tr>\n",
       "      <th>B000K2PJ4K</th>\n",
       "      <td>Stays vibrant after many washes</td>\n",
       "    </tr>\n",
       "  </tbody>\n",
       "</table>\n",
       "</div>"
      ],
      "text/plain": [
       "                                               reviewText\n",
       "asin                                                     \n",
       "B000K2PJ4K                       Great product and price!\n",
       "B000K2PJ4K  Waaay too small. Will use for futur children!\n",
       "B000K2PJ4K                Stays vibrant after many washes"
      ]
     },
     "execution_count": 117,
     "metadata": {},
     "output_type": "execute_result"
    }
   ],
   "source": [
    "# Формируем таблицу товаров. К сожалению у нас нет описания товара, поэтому берем reviewText\n",
    "item_lookup = df[['asin', 'reviewerID', 'reviewText']].drop_duplicates()\n",
    "item_lookup.index = item_lookup.asin\n",
    "item_lookup = item_lookup[['reviewText']]\n",
    "item_lookup.head(3)"
   ]
  },
  {
   "cell_type": "code",
   "execution_count": 121,
   "metadata": {
    "ExecuteTime": {
     "end_time": "2020-06-14T15:56:32.192646Z",
     "start_time": "2020-06-14T15:56:32.185274Z"
    }
   },
   "outputs": [
    {
     "data": {
      "text/plain": [
       "(31, 10)"
      ]
     },
     "execution_count": 121,
     "metadata": {},
     "output_type": "execute_result"
    }
   ],
   "source": [
    "model.item_embeddings.shape"
   ]
  },
  {
   "cell_type": "code",
   "execution_count": 122,
   "metadata": {
    "ExecuteTime": {
     "end_time": "2020-06-14T15:59:55.690666Z",
     "start_time": "2020-06-14T15:59:55.685439Z"
    }
   },
   "outputs": [],
   "source": [
    "from sklearn.metrics.pairwise import cosine_similarity\n",
    "\n",
    "def display_item_to_items_recommendations(model, item_id):\n",
    "\n",
    "    products_arr = np.array(products) \n",
    "    \n",
    "    item_id = np.where(products_arr == item_id)[0][0]\n",
    "    print(item_id)\n",
    "  \n",
    "    return item_lookup['reviewText'][cosine_similarity( # первый элемент массива?\n",
    "            model.item_embeddings)[item_id].argsort()[-5:][::-1]]\n",
    "\n"
   ]
  },
  {
   "cell_type": "markdown",
   "metadata": {},
   "source": [
    "# Рекомендалка в деле "
   ]
  },
  {
   "cell_type": "code",
   "execution_count": 123,
   "metadata": {
    "ExecuteTime": {
     "end_time": "2020-06-14T15:59:57.868774Z",
     "start_time": "2020-06-14T15:59:57.858549Z"
    }
   },
   "outputs": [
    {
     "name": "stdout",
     "output_type": "stream",
     "text": [
      "12\n"
     ]
    },
    {
     "data": {
      "text/plain": [
       "asin\n",
       "B000V0IBDM    Relieved my Plantar Fascitis for 3 Days. Then ...\n",
       "B000K2PJ4K          Waaay too small. Will use for future child.\n",
       "B000K2PJ4K    My son really likes the pink. Ones which I was...\n",
       "B000YFSR5G    Good product for the price.  Used very day and...\n",
       "B000YFSR5G    Fit perfectly. I bought dark grey, and they di...\n",
       "Name: reviewText, dtype: object"
      ]
     },
     "execution_count": 123,
     "metadata": {},
     "output_type": "execute_result"
    }
   ],
   "source": [
    "display_item_to_items_recommendations(model, 'B000YFSR4W')"
   ]
  },
  {
   "cell_type": "markdown",
   "metadata": {
    "ExecuteTime": {
     "end_time": "2020-06-14T16:01:49.035743Z",
     "start_time": "2020-06-14T16:01:49.031950Z"
    }
   },
   "source": [
    "В итоге, к товару B000YFSR4W получили рекомендация купить другие товары с идентификаторами B000V0IBDM, B000K2PJ4K, B000YFSR5G etc. Из датасета мы не знаем какие это товары. Стоит повторить эксперимент с названиями и описаниями товаров"
   ]
  }
 ],
 "metadata": {
  "kernelspec": {
   "display_name": "Python 3",
   "language": "python",
   "name": "python3"
  },
  "language_info": {
   "codemirror_mode": {
    "name": "ipython",
    "version": 3
   },
   "file_extension": ".py",
   "mimetype": "text/x-python",
   "name": "python",
   "nbconvert_exporter": "python",
   "pygments_lexer": "ipython3",
   "version": "3.7.3"
  },
  "toc": {
   "base_numbering": 1,
   "nav_menu": {},
   "number_sections": true,
   "sideBar": true,
   "skip_h1_title": false,
   "title_cell": "Table of Contents",
   "title_sidebar": "Contents",
   "toc_cell": false,
   "toc_position": {},
   "toc_section_display": true,
   "toc_window_display": true
  },
  "varInspector": {
   "cols": {
    "lenName": 16,
    "lenType": 16,
    "lenVar": 40
   },
   "kernels_config": {
    "python": {
     "delete_cmd_postfix": "",
     "delete_cmd_prefix": "del ",
     "library": "var_list.py",
     "varRefreshCmd": "print(var_dic_list())"
    },
    "r": {
     "delete_cmd_postfix": ") ",
     "delete_cmd_prefix": "rm(",
     "library": "var_list.r",
     "varRefreshCmd": "cat(var_dic_list()) "
    }
   },
   "types_to_exclude": [
    "module",
    "function",
    "builtin_function_or_method",
    "instance",
    "_Feature"
   ],
   "window_display": false
  }
 },
 "nbformat": 4,
 "nbformat_minor": 2
}
